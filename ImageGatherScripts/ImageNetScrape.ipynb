{
 "cells": [
  {
   "cell_type": "code",
   "execution_count": 1,
   "metadata": {
    "collapsed": true
   },
   "outputs": [],
   "source": [
    "import json\n",
    "import os\n",
    "import time\n",
    "import requests\n",
    "from PIL import Image\n",
    "from StringIO import StringIO\n",
    "from requests.exceptions import ConnectionError"
   ]
  },
  {
   "cell_type": "code",
   "execution_count": 2,
   "metadata": {
    "collapsed": false
   },
   "outputs": [
    {
     "data": {
      "text/plain": [
       "<Response [200]>"
      ]
     },
     "execution_count": 2,
     "metadata": {},
     "output_type": "execute_result"
    }
   ],
   "source": [
    "r = requests.get('http://image-net.org/api/text/imagenet.synset.geturls?wnid=n03792782')"
   ]
  },
  {
   "cell_type": "code",
   "execution_count": 25,
   "metadata": {
    "collapsed": false
   },
   "outputs": [],
   "source": [
    "def go(category, imnet_lst, path):\n",
    "    width = 256\n",
    "    height = 256      \n",
    "\n",
    "    BASE_PATH = os.path.join('../', path, category)\n",
    "\n",
    "    if not os.path.exists(BASE_PATH):\n",
    "        os.makedirs(BASE_PATH)\n",
    "    \n",
    "    for i, image in enumerate(imnet_lst):\n",
    "        \n",
    "        if i%500 == 1:\n",
    "            print category + ': ' + i\n",
    "        \n",
    "        url = image\n",
    "        title = image.split('/')[-1]\n",
    "        \n",
    "        try:\n",
    "            image_r = requests.get(url)\n",
    "        except ConnectionError, e:\n",
    "#             print 'could not download %s' % url\n",
    "            continue\n",
    "        \n",
    "        file = open(os.path.join(BASE_PATH, '%s') % title , 'w')\n",
    "\n",
    "        try:\n",
    "            Image.open(StringIO(image_r.content)).resize((width, height), Image.ANTIALIAS).save(file, 'JPEG')\n",
    "        except IOError, e:\n",
    "            os.remove(os.path.join(BASE_PATH, '%s') % title)\n",
    "    #         continue\n",
    "        finally:\n",
    "            file.close()\n",
    "\n",
    "    "
   ]
  },
  {
   "cell_type": "code",
   "execution_count": 26,
   "metadata": {
    "collapsed": false
   },
   "outputs": [
    {
     "name": "stdout",
     "output_type": "stream",
     "text": [
      "could not download http://webplaza.pt.lu/public/bph/Mountainbike3.JPG\n",
      "could not download http://www.feest2007.nl/images_peter/Mountainbike.gif\n",
      "could not download http://nuevo.reserva.cl/medios/Ecoturismo/actividades/Mountain-Bike.jpg\n",
      "could not download http://www.photoesse.ch/gallery/albums/Mountain-Bike-Fusio/Mountain_Bike_Fusio_162_after.jpg\n",
      "could not download http://ourworld.compuserve.com/homepages/Cecilio_Benito/redride.jpg\n",
      "could not download http://en.summer.kitzbuehel.com/static/cms/kitzbuehel/content/sommer/mountainbike2.jpg\n",
      "could not download http://www.kanio.com.ar/BICICLETAS/raleighmojave4.0.jpg\n",
      "could not download http://ndr-i1.nodari.com.ar/Bicicleta_mtb_Gary_Fished_Advance_(2008_grey)_1_1196152794_250.jpg\n",
      "could not download http://www.visitecostarica.com.ar/images/bicis.gif\n",
      "could not download http://www.damesfietsblog.nl/wp-content/themes/fishy-10/fishy-10/images/site/lifestyle.jpg\n",
      "could not download http://img.deremate.cl/user/images/1882/18823322.jpg\n",
      "could not download http://www.holidaysbonaire.com/images/activities_mountainbike.jpg\n",
      "could not download http://blogsimages.skynet.be/images_v2/002/556/307/20070824/dyn003_original_600_450_pjpeg_2556307_2aacca07079bb6815026d87f58b8ca24.jpg\n",
      "could not download http://www.photoesse.ch/gallery/albums/Mountain-Bike-Fusio/Mountain_Bike_Fusio_28_after.jpg\n",
      "could not download http://www.kapellefeestenknesselare.be/images/mountainbike-07-web.jpg\n",
      "could not download http://blog.estadao.com.br/blog/media/bike%20este.jpg\n",
      "could not download http://www.mountainbikeinfo.co.uk/images/downhill-pic2.jpg\n",
      "could not download http://www.whistleronline.ca/Homepage%20Photos/modmountainbike.jpg\n",
      "could not download http://www.haggul.com/ProdImage/25%5C1572913.jpg\n",
      "could not download http://www.bedandbreakfast-itaca.it/immagini/mountain-bike-sardegnai.jpg\n",
      "could not download http://www.damesfietsblog.nl/wp-content/themes/fishy-10/fishy-10/images/site/mountainbikes.jpg\n",
      "could not download http://www.evaystyle.com/wp-content/uploads/derbidh20/derbidh20.jpg\n",
      "could not download http://video.publico.es/videos/v_thumb/11649\n",
      "could not download http://barcelona.campusanuncios.com/picanuncio/venta/venta-1594507082.jpg\n",
      "could not download http://www.boomerang.com.gt/events/wp-content/uploads/2007/06/_dsc0097.png\n",
      "could not download http://www.mountainbikehiremorzine.com/images/new-home-page-pic.jpg\n",
      "could not download http://www.skiart.com/FOTOS/vallnord/actividades%20verano/mountain%20bike.jpg\n",
      "could not download http://imagenes.solostocks.com/zoom/1/7/7/zoom_1864771.jpg\n",
      "could not download http://apn.3months.com/Portals/4/mountain%20biker.jpg\n",
      "could not download http://www.dumpvideo.net/wp-content/uploads/2007/03/mountain-bike-trickster.JPG\n",
      "could not download http://imagenes.solostocks.com/zoom/3/1/3/zoom_1336313.jpg\n",
      "could not download http://www.outdoorvm.com/photos/march07/minnewanka_bike1.jpg\n",
      "could not download http://www.magicusna.it/images/bike/2006/raduno%20villa/PICT0135.JPG\n",
      "could not download http://www.gssancona.it/mtb/images/bikerace.jpg\n",
      "could not download http://mountainbike2.netfirms.com/images/mountain%20bike%20SM900.jpg\n",
      "could not download http://blog.thisnext.com/storage/scott%20tthe%20bike.jpg\n",
      "could not download http://www.outdoorvm.com/photos/march07/minnewanka_bike3.jpg\n",
      "could not download http://www.outland-adventure.be/evenementen/pics/activiteiten/mountainbike.jpg\n",
      "could not download http://imagenes.solostocks.com/zoom/1/0/4/zoom_2013401.jpg\n",
      "could not download http://cms.heightspecialists.nl/uploads/pics/Mountainbike_01.jpg\n",
      "could not download http://www.ctbucovina.ro/mountain_bike.jpg\n",
      "could not download http://www.shops-online-uk.co.uk/cheap-mountain-bike.jpg\n",
      "could not download http://www.cyprusholidayguide.com/details/biketrek/Troodos_Photo.jpg\n",
      "could not download http://www.venderya.es/adpics/4743ef4448e65930c137aa2b1.jpg\n",
      "could not download http://img.deremate.com.ar/user/images/1850/18503520.jpg\n",
      "could not download http://esperienzatrentino.blogosphera.it/wp-content/mountain%20bike%20Fai.bmp\n",
      "could not download http://www.iohotspots.nl/fotos/873/3.jpg\n",
      "could not download http://media.atb-rent.nl/media/uploads/sport_replay.jpg\n",
      "could not download http://www.ttbikes.com/images/bike_softtail.jpg\n",
      "could not download http://www.e-bici.com/gestor/ficheros/06_02_19_TRUJILLO_460.jpg\n",
      "could not download http://www.e-bici.com/gestor/ficheros/imagennoticia4420.jpg\n",
      "could not download http://www.haggul.com/ProdImage/25%5C1572919.jpg\n",
      "could not download http://www.totalsportsweert.nl/voorstellen/roger.jpg\n",
      "could not download http://en.garda-see.com/static/cms/_shared/channels/mountain/biken/biken-gardasee.jpg\n",
      "could not download http://www.navaluengamtb.com/ima/remi.jpg\n",
      "could not download http://www.edda-huzid.nl/upload/image/Website/Fotos_activiteiten/Mountainbike/rz/200x150-IMG_0134.JPG\n",
      "could not download http://www.cvtrip.com/fotos/ofertas/4422_ficha.jpg\n",
      "could not download http://www.e-bici.com/gestor/ficheros/imagennoticia5940.jpg\n",
      "could not download http://imagenes.solostocks.com/zoom/3/1/3/zoom_1_1336313.jpg\n",
      "could not download http://www.yurematurismo.com.ar/images/mountain.gif\n",
      "could not download http://www.moteldelmayo.com.mx/_img/paseos_mountainbike.jpg\n",
      "could not download http://img3.travelblog.org/Photos/43249/193482/t/1443995-Onze-mountainbike-tocht-0.jpg\n",
      "could not download http://xs222.xs.to/xs222/07504/SuperBike.jpg\n",
      "could not download http://www.mtb-zuidafrika.nl/home/images/1-18.jpg\n",
      "could not download http://www.youextreme.com/images/notas/open_home.jpg\n",
      "could not download http://29ercrew.com/wp-content/uploads/userphoto/msavery.jpg\n",
      "could not download http://www.mountainbikescotland.com/Intropic_op_283x283.jpg\n",
      "could not download http://www.saskiavanveen.info/files/mountainbike1-2.jpg\n",
      "could not download http://schoorstra.nl/Erik%20en%20Liset%20Mountainbike.jpg\n",
      "could not download http://secure.worldhosting.org/cgi-bin/wh/get_img_by_name.pl?ei_code=AOFC_Sportief&webid=1745\n",
      "could not download http://www.nkmountainbike.nl/images/brentjens2.jpg\n",
      "could not download http://www.markralph.cwc.net/bike1.jpg\n",
      "could not download http://www.mtbauctions.com/images/jekyll1000.jpg\n",
      "could not download http://adventuraparamo.com/Images/MBike%20400x300.jpg\n",
      "could not download http://mountainbike2.netfirms.com/images/mountain%20bike%20BZ-R.jpg\n",
      "could not download http://espeja.fnyh.org/images/rutas/Mountain_Bike.jpg\n",
      "could not download http://imagenes.solostocks.com/zoom/0/2/6/zoom_1771620.jpg\n",
      "could not download http://www.playadezahora.com/imagenes/foto-cicloturismo-zahora.jpg\n",
      "could not download http://www.hotel-zwartewater.nl/webimages/mountainbike-closeup.jpg\n",
      "could not download http://imagenes.solostocks.com/zoom/0/3/4/zoom_2013430.jpg\n",
      "could not download http://media.zobrabant.nl:81/img/dyn/87f1ea361185d378ca515b91f724cb08_166x250.jpg\n",
      "could not download http://www.co.bikes.com.ar/res/img/ap/MCO/57/4274457_1329.jpg\n",
      "could not download http://blog.nationmultimedia.com/home/blog_data/105/105/images/Jeju-bike-junction.jpg\n",
      "could not download http://www.hasseltlokaal.be/Portals/0/Upload/Foto/7615m1.jpg\n",
      "could not download http://img.deremate.cl/user/images/1884/18849344.jpg\n",
      "could not download http://www.sunweb-projob.be/nl/admin/fotoboek/Knokke%20Jehudi%202%20WEB.jpg\n",
      "could not download http://xs220.xs.to/xs220/07433/KRBObike.jpg\n",
      "could not download http://modulo12.rendered.hyves.org/53150001-53200000/53160101-53160200/53160119_5_T6OO.jpeg\n",
      "could not download http://www.biketv.it/immagini/video_mtb.jpg\n",
      "could not download http://www.wittehuissoest.nl/images/mountainbike2.jpg\n",
      "could not download http://www.limay-pucon.com/admin/RTE/my_documents/my_pictures/882_mountain_bike.jpg\n",
      "could not download http://www.ceppogasmtb.com/photo/bike_mtb_ktm.jpg\n",
      "could not download http://www.robpankras.nl/Pics/Rob4.jpg\n"
     ]
    },
    {
     "ename": "ContentDecodingError",
     "evalue": "('Received response with content-encoding: gzip, but failed to decode it.', error('Error -3 while decompressing: incorrect header check',))",
     "output_type": "error",
     "traceback": [
      "\u001b[0;31m---------------------------------------------------------------------------\u001b[0m",
      "\u001b[0;31mContentDecodingError\u001b[0m                      Traceback (most recent call last)",
      "\u001b[0;32m<ipython-input-26-9eb66aedf01d>\u001b[0m in \u001b[0;36m<module>\u001b[0;34m()\u001b[0m\n\u001b[0;32m----> 1\u001b[0;31m \u001b[0mgo\u001b[0m\u001b[0;34m(\u001b[0m\u001b[0;34m'IMN_mountain_bike'\u001b[0m\u001b[0;34m,\u001b[0m \u001b[0mr\u001b[0m\u001b[0;34m.\u001b[0m\u001b[0mtext\u001b[0m\u001b[0;34m.\u001b[0m\u001b[0msplit\u001b[0m\u001b[0;34m(\u001b[0m\u001b[0;34m)\u001b[0m\u001b[0;34m,\u001b[0m \u001b[0;34m'imnet_cats'\u001b[0m\u001b[0;34m)\u001b[0m\u001b[0;34m\u001b[0m\u001b[0m\n\u001b[0m",
      "\u001b[0;32m<ipython-input-25-b671b15a36b9>\u001b[0m in \u001b[0;36mgo\u001b[0;34m(category, imnet_lst, path)\u001b[0m\n\u001b[1;32m     14\u001b[0m \u001b[0;34m\u001b[0m\u001b[0m\n\u001b[1;32m     15\u001b[0m         \u001b[0;32mtry\u001b[0m\u001b[0;34m:\u001b[0m\u001b[0;34m\u001b[0m\u001b[0m\n\u001b[0;32m---> 16\u001b[0;31m             \u001b[0mimage_r\u001b[0m \u001b[0;34m=\u001b[0m \u001b[0mrequests\u001b[0m\u001b[0;34m.\u001b[0m\u001b[0mget\u001b[0m\u001b[0;34m(\u001b[0m\u001b[0murl\u001b[0m\u001b[0;34m)\u001b[0m\u001b[0;34m\u001b[0m\u001b[0m\n\u001b[0m\u001b[1;32m     17\u001b[0m         \u001b[0;32mexcept\u001b[0m \u001b[0mConnectionError\u001b[0m\u001b[0;34m,\u001b[0m \u001b[0me\u001b[0m\u001b[0;34m:\u001b[0m\u001b[0;34m\u001b[0m\u001b[0m\n\u001b[1;32m     18\u001b[0m             \u001b[0;32mprint\u001b[0m \u001b[0;34m'could not download %s'\u001b[0m \u001b[0;34m%\u001b[0m \u001b[0murl\u001b[0m\u001b[0;34m\u001b[0m\u001b[0m\n",
      "\u001b[0;32m/Users/will/anaconda/lib/python2.7/site-packages/requests/api.pyc\u001b[0m in \u001b[0;36mget\u001b[0;34m(url, **kwargs)\u001b[0m\n\u001b[1;32m     53\u001b[0m \u001b[0;34m\u001b[0m\u001b[0m\n\u001b[1;32m     54\u001b[0m     \u001b[0mkwargs\u001b[0m\u001b[0;34m.\u001b[0m\u001b[0msetdefault\u001b[0m\u001b[0;34m(\u001b[0m\u001b[0;34m'allow_redirects'\u001b[0m\u001b[0;34m,\u001b[0m \u001b[0mTrue\u001b[0m\u001b[0;34m)\u001b[0m\u001b[0;34m\u001b[0m\u001b[0m\n\u001b[0;32m---> 55\u001b[0;31m     \u001b[0;32mreturn\u001b[0m \u001b[0mrequest\u001b[0m\u001b[0;34m(\u001b[0m\u001b[0;34m'get'\u001b[0m\u001b[0;34m,\u001b[0m \u001b[0murl\u001b[0m\u001b[0;34m,\u001b[0m \u001b[0;34m**\u001b[0m\u001b[0mkwargs\u001b[0m\u001b[0;34m)\u001b[0m\u001b[0;34m\u001b[0m\u001b[0m\n\u001b[0m\u001b[1;32m     56\u001b[0m \u001b[0;34m\u001b[0m\u001b[0m\n\u001b[1;32m     57\u001b[0m \u001b[0;34m\u001b[0m\u001b[0m\n",
      "\u001b[0;32m/Users/will/anaconda/lib/python2.7/site-packages/requests/api.pyc\u001b[0m in \u001b[0;36mrequest\u001b[0;34m(method, url, **kwargs)\u001b[0m\n\u001b[1;32m     42\u001b[0m \u001b[0;34m\u001b[0m\u001b[0m\n\u001b[1;32m     43\u001b[0m     \u001b[0msession\u001b[0m \u001b[0;34m=\u001b[0m \u001b[0msessions\u001b[0m\u001b[0;34m.\u001b[0m\u001b[0mSession\u001b[0m\u001b[0;34m(\u001b[0m\u001b[0;34m)\u001b[0m\u001b[0;34m\u001b[0m\u001b[0m\n\u001b[0;32m---> 44\u001b[0;31m     \u001b[0;32mreturn\u001b[0m \u001b[0msession\u001b[0m\u001b[0;34m.\u001b[0m\u001b[0mrequest\u001b[0m\u001b[0;34m(\u001b[0m\u001b[0mmethod\u001b[0m\u001b[0;34m=\u001b[0m\u001b[0mmethod\u001b[0m\u001b[0;34m,\u001b[0m \u001b[0murl\u001b[0m\u001b[0;34m=\u001b[0m\u001b[0murl\u001b[0m\u001b[0;34m,\u001b[0m \u001b[0;34m**\u001b[0m\u001b[0mkwargs\u001b[0m\u001b[0;34m)\u001b[0m\u001b[0;34m\u001b[0m\u001b[0m\n\u001b[0m\u001b[1;32m     45\u001b[0m \u001b[0;34m\u001b[0m\u001b[0m\n\u001b[1;32m     46\u001b[0m \u001b[0;34m\u001b[0m\u001b[0m\n",
      "\u001b[0;32m/Users/will/anaconda/lib/python2.7/site-packages/requests/sessions.pyc\u001b[0m in \u001b[0;36mrequest\u001b[0;34m(self, method, url, params, data, headers, cookies, files, auth, timeout, allow_redirects, proxies, hooks, stream, verify, cert)\u001b[0m\n\u001b[1;32m    454\u001b[0m             \u001b[0;34m'allow_redirects'\u001b[0m\u001b[0;34m:\u001b[0m \u001b[0mallow_redirects\u001b[0m\u001b[0;34m,\u001b[0m\u001b[0;34m\u001b[0m\u001b[0m\n\u001b[1;32m    455\u001b[0m         }\n\u001b[0;32m--> 456\u001b[0;31m         \u001b[0mresp\u001b[0m \u001b[0;34m=\u001b[0m \u001b[0mself\u001b[0m\u001b[0;34m.\u001b[0m\u001b[0msend\u001b[0m\u001b[0;34m(\u001b[0m\u001b[0mprep\u001b[0m\u001b[0;34m,\u001b[0m \u001b[0;34m**\u001b[0m\u001b[0msend_kwargs\u001b[0m\u001b[0;34m)\u001b[0m\u001b[0;34m\u001b[0m\u001b[0m\n\u001b[0m\u001b[1;32m    457\u001b[0m \u001b[0;34m\u001b[0m\u001b[0m\n\u001b[1;32m    458\u001b[0m         \u001b[0;32mreturn\u001b[0m \u001b[0mresp\u001b[0m\u001b[0;34m\u001b[0m\u001b[0m\n",
      "\u001b[0;32m/Users/will/anaconda/lib/python2.7/site-packages/requests/sessions.pyc\u001b[0m in \u001b[0;36msend\u001b[0;34m(self, request, **kwargs)\u001b[0m\n\u001b[1;32m    583\u001b[0m \u001b[0;34m\u001b[0m\u001b[0m\n\u001b[1;32m    584\u001b[0m         \u001b[0;31m# Resolve redirects if allowed.\u001b[0m\u001b[0;34m\u001b[0m\u001b[0;34m\u001b[0m\u001b[0m\n\u001b[0;32m--> 585\u001b[0;31m         \u001b[0mhistory\u001b[0m \u001b[0;34m=\u001b[0m \u001b[0;34m[\u001b[0m\u001b[0mresp\u001b[0m \u001b[0;32mfor\u001b[0m \u001b[0mresp\u001b[0m \u001b[0;32min\u001b[0m \u001b[0mgen\u001b[0m\u001b[0;34m]\u001b[0m \u001b[0;32mif\u001b[0m \u001b[0mallow_redirects\u001b[0m \u001b[0;32melse\u001b[0m \u001b[0;34m[\u001b[0m\u001b[0;34m]\u001b[0m\u001b[0;34m\u001b[0m\u001b[0m\n\u001b[0m\u001b[1;32m    586\u001b[0m \u001b[0;34m\u001b[0m\u001b[0m\n\u001b[1;32m    587\u001b[0m         \u001b[0;31m# Shuffle things around if there's history.\u001b[0m\u001b[0;34m\u001b[0m\u001b[0;34m\u001b[0m\u001b[0m\n",
      "\u001b[0;32m/Users/will/anaconda/lib/python2.7/site-packages/requests/sessions.pyc\u001b[0m in \u001b[0;36mresolve_redirects\u001b[0;34m(self, resp, req, stream, timeout, verify, cert, proxies)\u001b[0m\n\u001b[1;32m    177\u001b[0m                 \u001b[0mcert\u001b[0m\u001b[0;34m=\u001b[0m\u001b[0mcert\u001b[0m\u001b[0;34m,\u001b[0m\u001b[0;34m\u001b[0m\u001b[0m\n\u001b[1;32m    178\u001b[0m                 \u001b[0mproxies\u001b[0m\u001b[0;34m=\u001b[0m\u001b[0mproxies\u001b[0m\u001b[0;34m,\u001b[0m\u001b[0;34m\u001b[0m\u001b[0m\n\u001b[0;32m--> 179\u001b[0;31m                 \u001b[0mallow_redirects\u001b[0m\u001b[0;34m=\u001b[0m\u001b[0mFalse\u001b[0m\u001b[0;34m,\u001b[0m\u001b[0;34m\u001b[0m\u001b[0m\n\u001b[0m\u001b[1;32m    180\u001b[0m             )\n\u001b[1;32m    181\u001b[0m \u001b[0;34m\u001b[0m\u001b[0m\n",
      "\u001b[0;32m/Users/will/anaconda/lib/python2.7/site-packages/requests/sessions.pyc\u001b[0m in \u001b[0;36msend\u001b[0;34m(self, request, **kwargs)\u001b[0m\n\u001b[1;32m    594\u001b[0m \u001b[0;34m\u001b[0m\u001b[0m\n\u001b[1;32m    595\u001b[0m         \u001b[0;32mif\u001b[0m \u001b[0;32mnot\u001b[0m \u001b[0mstream\u001b[0m\u001b[0;34m:\u001b[0m\u001b[0;34m\u001b[0m\u001b[0m\n\u001b[0;32m--> 596\u001b[0;31m             \u001b[0mr\u001b[0m\u001b[0;34m.\u001b[0m\u001b[0mcontent\u001b[0m\u001b[0;34m\u001b[0m\u001b[0m\n\u001b[0m\u001b[1;32m    597\u001b[0m \u001b[0;34m\u001b[0m\u001b[0m\n\u001b[1;32m    598\u001b[0m         \u001b[0;32mreturn\u001b[0m \u001b[0mr\u001b[0m\u001b[0;34m\u001b[0m\u001b[0m\n",
      "\u001b[0;32m/Users/will/anaconda/lib/python2.7/site-packages/requests/models.pyc\u001b[0m in \u001b[0;36mcontent\u001b[0;34m(self)\u001b[0m\n\u001b[1;32m    692\u001b[0m                     \u001b[0mself\u001b[0m\u001b[0;34m.\u001b[0m\u001b[0m_content\u001b[0m \u001b[0;34m=\u001b[0m \u001b[0mNone\u001b[0m\u001b[0;34m\u001b[0m\u001b[0m\n\u001b[1;32m    693\u001b[0m                 \u001b[0;32melse\u001b[0m\u001b[0;34m:\u001b[0m\u001b[0;34m\u001b[0m\u001b[0m\n\u001b[0;32m--> 694\u001b[0;31m                     \u001b[0mself\u001b[0m\u001b[0;34m.\u001b[0m\u001b[0m_content\u001b[0m \u001b[0;34m=\u001b[0m \u001b[0mbytes\u001b[0m\u001b[0;34m(\u001b[0m\u001b[0;34m)\u001b[0m\u001b[0;34m.\u001b[0m\u001b[0mjoin\u001b[0m\u001b[0;34m(\u001b[0m\u001b[0mself\u001b[0m\u001b[0;34m.\u001b[0m\u001b[0miter_content\u001b[0m\u001b[0;34m(\u001b[0m\u001b[0mCONTENT_CHUNK_SIZE\u001b[0m\u001b[0;34m)\u001b[0m\u001b[0;34m)\u001b[0m \u001b[0;32mor\u001b[0m \u001b[0mbytes\u001b[0m\u001b[0;34m(\u001b[0m\u001b[0;34m)\u001b[0m\u001b[0;34m\u001b[0m\u001b[0m\n\u001b[0m\u001b[1;32m    695\u001b[0m \u001b[0;34m\u001b[0m\u001b[0m\n\u001b[1;32m    696\u001b[0m             \u001b[0;32mexcept\u001b[0m \u001b[0mAttributeError\u001b[0m\u001b[0;34m:\u001b[0m\u001b[0;34m\u001b[0m\u001b[0m\n",
      "\u001b[0;32m/Users/will/anaconda/lib/python2.7/site-packages/requests/models.pyc\u001b[0m in \u001b[0;36mgenerate\u001b[0;34m()\u001b[0m\n\u001b[1;32m    630\u001b[0m                     \u001b[0;32mraise\u001b[0m \u001b[0mChunkedEncodingError\u001b[0m\u001b[0;34m(\u001b[0m\u001b[0me\u001b[0m\u001b[0;34m)\u001b[0m\u001b[0;34m\u001b[0m\u001b[0m\n\u001b[1;32m    631\u001b[0m                 \u001b[0;32mexcept\u001b[0m \u001b[0mDecodeError\u001b[0m \u001b[0;32mas\u001b[0m \u001b[0me\u001b[0m\u001b[0;34m:\u001b[0m\u001b[0;34m\u001b[0m\u001b[0m\n\u001b[0;32m--> 632\u001b[0;31m                     \u001b[0;32mraise\u001b[0m \u001b[0mContentDecodingError\u001b[0m\u001b[0;34m(\u001b[0m\u001b[0me\u001b[0m\u001b[0;34m)\u001b[0m\u001b[0;34m\u001b[0m\u001b[0m\n\u001b[0m\u001b[1;32m    633\u001b[0m             \u001b[0;32mexcept\u001b[0m \u001b[0mAttributeError\u001b[0m\u001b[0;34m:\u001b[0m\u001b[0;34m\u001b[0m\u001b[0m\n\u001b[1;32m    634\u001b[0m                 \u001b[0;31m# Standard file-like object.\u001b[0m\u001b[0;34m\u001b[0m\u001b[0;34m\u001b[0m\u001b[0m\n",
      "\u001b[0;31mContentDecodingError\u001b[0m: ('Received response with content-encoding: gzip, but failed to decode it.', error('Error -3 while decompressing: incorrect header check',))"
     ]
    }
   ],
   "source": [
    "go('IMN_mountain_bike', r.text.split(), 'imnet_cats')"
   ]
  },
  {
   "cell_type": "code",
   "execution_count": 17,
   "metadata": {
    "collapsed": false
   },
   "outputs": [
    {
     "data": {
      "text/plain": [
       "u'1969623611_5fd2d6f96d.jpg'"
      ]
     },
     "execution_count": 17,
     "metadata": {},
     "output_type": "execute_result"
    }
   ],
   "source": [
    "r.text.split()[0].split('/')[-1]"
   ]
  },
  {
   "cell_type": "code",
   "execution_count": null,
   "metadata": {
    "collapsed": true
   },
   "outputs": [],
   "source": []
  }
 ],
 "metadata": {
  "kernelspec": {
   "display_name": "Python 2",
   "language": "python",
   "name": "python2"
  },
  "language_info": {
   "codemirror_mode": {
    "name": "ipython",
    "version": 2
   },
   "file_extension": ".py",
   "mimetype": "text/x-python",
   "name": "python",
   "nbconvert_exporter": "python",
   "pygments_lexer": "ipython2",
   "version": "2.7.10"
  }
 },
 "nbformat": 4,
 "nbformat_minor": 0
}
