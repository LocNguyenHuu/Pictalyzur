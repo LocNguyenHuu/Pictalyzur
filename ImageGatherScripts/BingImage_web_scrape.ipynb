{
 "cells": [
  {
   "cell_type": "code",
   "execution_count": 33,
   "metadata": {
    "collapsed": false,
    "scrolled": true
   },
   "outputs": [
    {
     "name": "stdout",
     "output_type": "stream",
     "text": [
      "http://www.bing.com/images/search?q=hike+instagram\n",
      "http://www.bing.com/images/search?q=hike\n",
      "http://www.bing.com/images/search?q=beach+instagram\n",
      "http://www.bing.com/images/search?q=beach\n",
      "http://www.bing.com/images/search?q=lake+instagram\n",
      "http://www.bing.com/images/search?q=lake\n",
      "http://www.bing.com/images/search?q=mountain+instagram\n",
      "http://www.bing.com/images/search?q=mountain\n",
      "http://www.bing.com/images/search?q=valley+instagram\n",
      "http://www.bing.com/images/search?q=valley\n",
      "http://www.bing.com/images/search?q=fishing+instagram\n",
      "http://www.bing.com/images/search?q=fishing\n",
      "http://www.bing.com/images/search?q=camping+instagram\n",
      "http://www.bing.com/images/search?q=camping\n",
      "http://www.bing.com/images/search?q=lake+swimmingcanyon+instagram\n",
      "http://www.bing.com/images/search?q=lake+swimmingcanyon\n",
      "http://www.bing.com/images/search?q=desert+instagram\n",
      "http://www.bing.com/images/search?q=desert\n",
      "http://www.bing.com/images/search?q=surfing+instagram\n",
      "http://www.bing.com/images/search?q=surfing\n",
      "http://www.bing.com/images/search?q=mountain+biking+instagram\n",
      "http://www.bing.com/images/search?q=mountain+biking\n",
      "http://www.bing.com/images/search?q=skiing+instagram\n",
      "http://www.bing.com/images/search?q=skiing\n",
      "http://www.bing.com/images/search?q=snowboarding+instagram\n",
      "http://www.bing.com/images/search?q=snowboarding\n",
      "http://www.bing.com/images/search?q=garden+instagram\n",
      "http://www.bing.com/images/search?q=garden\n",
      "http://www.bing.com/images/search?q=wild+birds+instagram\n",
      "http://www.bing.com/images/search?q=wild+birds\n",
      "http://www.bing.com/images/search?q=canoeing+instagram\n",
      "http://www.bing.com/images/search?q=canoeing\n",
      "http://www.bing.com/images/search?q=road+biking+instagram\n",
      "http://www.bing.com/images/search?q=road+biking\n",
      "http://www.bing.com/images/search?q=trail+instagram\n",
      "http://www.bing.com/images/search?q=trail\n",
      "http://www.bing.com/images/search?q=fall+foliage+instagram\n",
      "http://www.bing.com/images/search?q=fall+foliage\n",
      "http://www.bing.com/images/search?q=sunset+instagram\n",
      "http://www.bing.com/images/search?q=sunset\n",
      "http://www.bing.com/images/search?q=kitchen+instagram\n",
      "http://www.bing.com/images/search?q=kitchen\n",
      "http://www.bing.com/images/search?q=living+room+instagram\n",
      "http://www.bing.com/images/search?q=living+room\n",
      "http://www.bing.com/images/search?q=bedroom+instagram\n",
      "http://www.bing.com/images/search?q=bedroom\n",
      "http://www.bing.com/images/search?q=cooking+instagram\n",
      "http://www.bing.com/images/search?q=cooking\n",
      "http://www.bing.com/images/search?q=indoor+cat+instagram\n",
      "http://www.bing.com/images/search?q=indoor+cat\n",
      "http://www.bing.com/images/search?q=restaurant+instagram\n",
      "http://www.bing.com/images/search?q=restaurant\n",
      "http://www.bing.com/images/search?q=indoor+dog+instagram\n",
      "http://www.bing.com/images/search?q=indoor+dog\n",
      "http://www.bing.com/images/search?q=office+instagram\n",
      "http://www.bing.com/images/search?q=office\n",
      "http://www.bing.com/images/search?q=factory+interior+instagram\n",
      "http://www.bing.com/images/search?q=factory+interior\n",
      "http://www.bing.com/images/search?q=church+interior+instagram\n",
      "http://www.bing.com/images/search?q=church+interior\n",
      "http://www.bing.com/images/search?q=brewery+bar+instagram\n",
      "http://www.bing.com/images/search?q=brewery+bar\n",
      "http://www.bing.com/images/search?q=apartment+instagram\n",
      "http://www.bing.com/images/search?q=apartment\n",
      "http://www.bing.com/images/search?q=bowling+instagram\n",
      "http://www.bing.com/images/search?q=bowling\n",
      "http://www.bing.com/images/search?q=brewing+beer+instagram\n",
      "http://www.bing.com/images/search?q=brewing+beer\n",
      "http://www.bing.com/images/search?q=making+jam+instagram\n",
      "http://www.bing.com/images/search?q=making+jam\n",
      "http://www.bing.com/images/search?q=museum+instagram\n",
      "http://www.bing.com/images/search?q=museum\n",
      "http://www.bing.com/images/search?q=kids+playing+instagram\n",
      "http://www.bing.com/images/search?q=kids+playing\n",
      "http://www.bing.com/images/search?q=party+instagram\n",
      "http://www.bing.com/images/search?q=party\n",
      "http://www.bing.com/images/search?q=dinner+instagram\n",
      "http://www.bing.com/images/search?q=dinner\n",
      "http://www.bing.com/images/search?q=brunch+instagram\n",
      "http://www.bing.com/images/search?q=brunch\n",
      "http://www.bing.com/images/search?q=house+instagram\n",
      "http://www.bing.com/images/search?q=house\n",
      "http://www.bing.com/images/search?q=church+instagram\n",
      "http://www.bing.com/images/search?q=church\n",
      "http://www.bing.com/images/search?q=factory+instagram\n",
      "http://www.bing.com/images/search?q=factory\n",
      "http://www.bing.com/images/search?q=ruin+instagram\n",
      "http://www.bing.com/images/search?q=ruin\n",
      "http://www.bing.com/images/search?q=landmark+instagram\n",
      "http://www.bing.com/images/search?q=landmark\n",
      "http://www.bing.com/images/search?q=lighthouse+instagram\n",
      "http://www.bing.com/images/search?q=lighthouse\n",
      "http://www.bing.com/images/search?q=castle+instagram\n",
      "http://www.bing.com/images/search?q=castle\n",
      "http://www.bing.com/images/search?q=building+instagram\n",
      "http://www.bing.com/images/search?q=building\n",
      "http://www.bing.com/images/search?q=skyscraper+instagram\n",
      "http://www.bing.com/images/search?q=skyscraper\n",
      "http://www.bing.com/images/search?q=downtown+street+instagram\n",
      "http://www.bing.com/images/search?q=downtown+street\n",
      "http://www.bing.com/images/search?q=village+street+instagram\n",
      "http://www.bing.com/images/search?q=village+street\n",
      "http://www.bing.com/images/search?q=town+square+instagram\n",
      "http://www.bing.com/images/search?q=town+square\n",
      "http://www.bing.com/images/search?q=restaurant+outside+instagram\n",
      "http://www.bing.com/images/search?q=restaurant+outside\n",
      "http://www.bing.com/images/search?q=patio+dinner+instagram\n",
      "http://www.bing.com/images/search?q=patio+dinner\n",
      "http://www.bing.com/images/search?q=concert+instagram\n",
      "http://www.bing.com/images/search?q=concert\n",
      "http://www.bing.com/images/search?q=outdoor+stadium+instagram\n",
      "http://www.bing.com/images/search?q=outdoor+stadium\n",
      "http://www.bing.com/images/search?q=strip+mall+instagram\n",
      "http://www.bing.com/images/search?q=strip+mall\n",
      "http://www.bing.com/images/search?q=school+outside+instagram\n",
      "http://www.bing.com/images/search?q=school+outside\n",
      "http://www.bing.com/images/search?q=college+buildings+instagram\n",
      "http://www.bing.com/images/search?q=college+buildings\n",
      "http://www.bing.com/images/search?q=pier+instagram\n",
      "http://www.bing.com/images/search?q=pier\n"
     ]
    }
   ],
   "source": [
    "from bs4 import BeautifulSoup\n",
    "import requests\n",
    "import re\n",
    "import urllib2\n",
    "import os\n",
    "\n",
    "\n",
    "def get_soup(url,header):\n",
    "  return BeautifulSoup(urllib2.urlopen(urllib2.Request(url,headers=header)))\n",
    "\n",
    "image_type = \"outdoor_nat\"\n",
    "header = {'User-Agent': 'Mozilla/5.0'} \n",
    "\n",
    "for i, topic in enumerate(outdoor_lst):\n",
    "\n",
    " \n",
    "    query = topic+\" instagram\"\n",
    "    query= query.split()\n",
    "    query='+'.join(query)\n",
    "    # url=\"https://www.google.com/search?site=imghp&tbm=isch&source=hp&biw=1366&bih=858&q=\"+query\n",
    "    url = \"http://www.bing.com/images/search?q=\"+query\n",
    "    print url\n",
    "    \n",
    "    soup = get_soup(url,header)\n",
    "    cntr=i*56\n",
    "    images = [a['src'] for a in soup.find_all(\"img\", {\"src\": re.compile(\"bing.net\")})]\n",
    "    #print images\n",
    "    for img in images:\n",
    "        raw_img = urllib2.urlopen(img).read()\n",
    "        #add the directory for your image here \n",
    "        DIR=\"/home/will/code/outdoor_nat/\"\n",
    "        cntr += 1\n",
    "        #cntr = len([i for i in os.listdir(DIR) if image_type not in i]) + 1\n",
    "        #print cntr\n",
    "        f = open(DIR + image_type + \"_\"+ str(cntr)+\".jpg\", 'wb')\n",
    "        f.write(raw_img)\n",
    "        f.close()\n",
    "        \n",
    "    query = topic\n",
    "    query= query.split()\n",
    "    query='+'.join(query)\n",
    "    # url=\"https://www.google.com/search?site=imghp&tbm=isch&source=hp&biw=1366&bih=858&q=\"+query\n",
    "    url = \"http://www.bing.com/images/search?q=\"+query\n",
    "\n",
    "    print url\n",
    "    soup = get_soup(url,header)\n",
    "    images = [a['src'] for a in soup.find_all(\"img\", {\"src\": re.compile(\"bing.net\")})]\n",
    "    #print images\n",
    "    for img in images:\n",
    "        raw_img = urllib2.urlopen(img).read()\n",
    "        #add the directory for your image here \n",
    "        DIR=\"/home/will/code/outdoor_nat/\"\n",
    "        cntr += 1\n",
    "        #cntr = len([i for i in os.listdir(DIR) if image_type not in i]) + 1\n",
    "        #print cntr\n",
    "        f = open(DIR + image_type + \"_\"+ str(cntr)+\".jpg\", 'wb')\n",
    "        f.write(raw_img)\n",
    "        f.close()\n",
    "        \n",
    "image_type = \"indoor\"        \n",
    "        \n",
    "for i, topic in enumerate(indoor_lst):\n",
    "\n",
    " \n",
    "    query = topic+\" instagram\"\n",
    "    query= query.split()\n",
    "    query='+'.join(query)\n",
    "    # url=\"https://www.google.com/search?site=imghp&tbm=isch&source=hp&biw=1366&bih=858&q=\"+query\n",
    "    url = \"http://www.bing.com/images/search?q=\"+query\n",
    "\n",
    "    print url\n",
    "\n",
    "    soup = get_soup(url,header)\n",
    "    cntr=i*56\n",
    "    images = [a['src'] for a in soup.find_all(\"img\", {\"src\": re.compile(\"bing.net\")})]\n",
    "    #print images\n",
    "    for img in images:\n",
    "        raw_img = urllib2.urlopen(img).read()\n",
    "        #add the directory for your image here \n",
    "        DIR=\"/home/will/code/indoor/\"\n",
    "        cntr += 1\n",
    "        #cntr = len([i for i in os.listdir(DIR) if image_type not in i]) + 1\n",
    "        #print cntr\n",
    "        f = open(DIR + image_type + \"_\"+ str(cntr)+\".jpg\", 'wb')\n",
    "        f.write(raw_img)\n",
    "        f.close()\n",
    "        \n",
    "    query = topic\n",
    "    query= query.split()\n",
    "    query='+'.join(query)\n",
    "    # url=\"https://www.google.com/search?site=imghp&tbm=isch&source=hp&biw=1366&bih=858&q=\"+query\n",
    "    url = \"http://www.bing.com/images/search?q=\"+query\n",
    "\n",
    "    print url\n",
    " \n",
    "    soup = get_soup(url,header)\n",
    "    images = [a['src'] for a in soup.find_all(\"img\", {\"src\": re.compile(\"bing.net\")})]\n",
    "    #print images\n",
    "    for img in images:\n",
    "        raw_img = urllib2.urlopen(img).read()\n",
    "        #add the directory for your image here \n",
    "        DIR=\"/home/will/code/indoor/\"\n",
    "        cntr += 1\n",
    "        #cntr = len([i for i in os.listdir(DIR) if image_type not in i]) + 1\n",
    "        #print cntr\n",
    "        f = open(DIR + image_type + \"_\"+ str(cntr)+\".jpg\", 'wb')\n",
    "        f.write(raw_img)\n",
    "        f.close()\n",
    "\n",
    "image_type = \"outdoor_mm\"        \n",
    "        \n",
    "for i, topic in enumerate(mm_outdoor_lst):\n",
    "\n",
    " \n",
    "    query = topic+\" instagram\"\n",
    "    query= query.split()\n",
    "    query='+'.join(query)\n",
    "    # url=\"https://www.google.com/search?site=imghp&tbm=isch&source=hp&biw=1366&bih=858&q=\"+query\n",
    "    url = \"http://www.bing.com/images/search?q=\"+query\n",
    "\n",
    "    print url\n",
    "\n",
    "    soup = get_soup(url,header)\n",
    "    cntr=i*56\n",
    "    images = [a['src'] for a in soup.find_all(\"img\", {\"src\": re.compile(\"bing.net\")})]\n",
    "    #print images\n",
    "    for img in images:\n",
    "        raw_img = urllib2.urlopen(img).read()\n",
    "        #add the directory for your image here \n",
    "        DIR=\"/home/will/code/outdoor_mm/\"\n",
    "        cntr += 1\n",
    "        #cntr = len([i for i in os.listdir(DIR) if image_type not in i]) + 1\n",
    "        #print cntr\n",
    "        f = open(DIR + image_type + \"_\"+ str(cntr)+\".jpg\", 'wb')\n",
    "        f.write(raw_img)\n",
    "        f.close()\n",
    "        \n",
    "    query = topic\n",
    "    query= query.split()\n",
    "    query='+'.join(query)\n",
    "    # url=\"https://www.google.com/search?site=imghp&tbm=isch&source=hp&biw=1366&bih=858&q=\"+query\n",
    "    url = \"http://www.bing.com/images/search?q=\"+query\n",
    "\n",
    "    print url\n",
    "    soup = get_soup(url,header)\n",
    "    cntr=i*28\n",
    "    images = [a['src'] for a in soup.find_all(\"img\", {\"src\": re.compile(\"bing.net\")})]\n",
    "    #print images\n",
    "    for img in images:\n",
    "        raw_img = urllib2.urlopen(img).read()\n",
    "        #add the directory for your image here \n",
    "        DIR=\"/home/will/code/outdoor_mm/\"\n",
    "        cntr += 1\n",
    "        #cntr = len([i for i in os.listdir(DIR) if image_type not in i]) + 1\n",
    "        #print cntr\n",
    "        f = open(DIR + image_type + \"_\"+ str(cntr)+\".jpg\", 'wb')\n",
    "        f.write(raw_img)\n",
    "        f.close()"
   ]
  },
  {
   "cell_type": "code",
   "execution_count": 27,
   "metadata": {
    "collapsed": false
   },
   "outputs": [],
   "source": [
    "outdoor_lst = ['hike', 'beach', 'lake', 'mountain', 'valley', \n",
    "      'fishing', 'camping', 'lake swimming'\n",
    "      'canyon', 'desert', 'surfing', 'mountain biking', 'skiing',\n",
    "      'snowboarding', \n",
    "      'garden', 'wild birds',\n",
    "      'canoeing', 'road biking', \n",
    "      'trail', 'fall foliage', 'sunset']"
   ]
  },
  {
   "cell_type": "code",
   "execution_count": 28,
   "metadata": {
    "collapsed": true
   },
   "outputs": [],
   "source": [
    "indoor_lst = ['kitchen', 'living room', 'bedroom', 'cooking', 'indoor cat', 'restaurant',\n",
    "      'indoor dog', 'office', 'factory interior', 'church interior', 'brewery bar',\n",
    "      'apartment', 'bowling', 'brewing beer', 'making jam', 'museum', 'kids playing',\n",
    "      'party', 'dinner', 'brunch']"
   ]
  },
  {
   "cell_type": "code",
   "execution_count": 29,
   "metadata": {
    "collapsed": true
   },
   "outputs": [],
   "source": [
    "mm_outdoor_lst = ['house', 'church', 'factory', 'ruin', 'landmark', 'lighthouse',\n",
    "      'castle', 'building', 'skyscraper', 'downtown street', 'village street',\n",
    "      'town square', 'restaurant outside', 'patio dinner', 'concert', 'outdoor stadium', 'strip mall',\n",
    "      'school outside', 'college buildings', 'pier']"
   ]
  },
  {
   "cell_type": "code",
   "execution_count": 30,
   "metadata": {
    "collapsed": true
   },
   "outputs": [
    {
     "data": {
      "text/plain": [
       "20"
      ]
     },
     "execution_count": 30,
     "metadata": {},
     "output_type": "execute_result"
    }
   ],
   "source": [
    "len(outdoor_lst)"
   ]
  },
  {
   "cell_type": "code",
   "execution_count": 31,
   "metadata": {
    "collapsed": false
   },
   "outputs": [
    {
     "data": {
      "text/plain": [
       "20"
      ]
     },
     "execution_count": 31,
     "metadata": {},
     "output_type": "execute_result"
    }
   ],
   "source": [
    "len(indoor_lst)"
   ]
  },
  {
   "cell_type": "code",
   "execution_count": 32,
   "metadata": {
    "collapsed": false
   },
   "outputs": [
    {
     "data": {
      "text/plain": [
       "20"
      ]
     },
     "execution_count": 32,
     "metadata": {},
     "output_type": "execute_result"
    }
   ],
   "source": [
    "len(mm_outdoor_lst)"
   ]
  },
  {
   "cell_type": "code",
   "execution_count": 48,
   "metadata": {
    "collapsed": true
   },
   "outputs": [],
   "source": [
    "outdoor_lst = ['snorkeling', 'frolf']"
   ]
  },
  {
   "cell_type": "code",
   "execution_count": 46,
   "metadata": {
    "collapsed": true
   },
   "outputs": [],
   "source": [
    "indoor_lst = ['bar people']"
   ]
  },
  {
   "cell_type": "code",
   "execution_count": 49,
   "metadata": {
    "collapsed": false
   },
   "outputs": [
    {
     "name": "stdout",
     "output_type": "stream",
     "text": [
      "http://www.bing.com/images/search?q=snorkeling+instagram\n",
      "http://www.bing.com/images/search?q=snorkeling\n",
      "http://www.bing.com/images/search?q=frolf+instagram\n",
      "http://www.bing.com/images/search?q=frolf\n"
     ]
    }
   ],
   "source": [
    "image_type = \"outdoor_nat\"\n",
    "header = {'User-Agent': 'Mozilla/5.0'} \n",
    "\n",
    "for i, topic in enumerate(outdoor_lst):\n",
    "\n",
    " \n",
    "    query = topic+\" instagram\"\n",
    "    query= query.split()\n",
    "    query='+'.join(query)\n",
    "    # url=\"https://www.google.com/search?site=imghp&tbm=isch&source=hp&biw=1366&bih=858&q=\"+query\n",
    "    url = \"http://www.bing.com/images/search?q=\"+query\n",
    "    print url\n",
    "    \n",
    "    soup = get_soup(url,header)\n",
    "    cntr=i*56+1120\n",
    "    images = [a['src'] for a in soup.find_all(\"img\", {\"src\": re.compile(\"bing.net\")})]\n",
    "    #print images\n",
    "    for img in images:\n",
    "        raw_img = urllib2.urlopen(img).read()\n",
    "        #add the directory for your image here \n",
    "        DIR=\"/home/will/code/outdoor_nat/\"\n",
    "        cntr += 1\n",
    "        #cntr = len([i for i in os.listdir(DIR) if image_type not in i]) + 1\n",
    "        #print cntr\n",
    "        f = open(DIR + image_type + \"_\"+ str(cntr)+\".jpg\", 'wb')\n",
    "        f.write(raw_img)\n",
    "        f.close()\n",
    "        \n",
    "    query = topic\n",
    "    query= query.split()\n",
    "    query='+'.join(query)\n",
    "    # url=\"https://www.google.com/search?site=imghp&tbm=isch&source=hp&biw=1366&bih=858&q=\"+query\n",
    "    url = \"http://www.bing.com/images/search?q=\"+query\n",
    "\n",
    "    print url\n",
    "    soup = get_soup(url,header)\n",
    "    images = [a['src'] for a in soup.find_all(\"img\", {\"src\": re.compile(\"bing.net\")})]\n",
    "    #print images\n",
    "    for img in images:\n",
    "        raw_img = urllib2.urlopen(img).read()\n",
    "        #add the directory for your image here \n",
    "        DIR=\"/home/will/code/outdoor_nat/\"\n",
    "        cntr += 1\n",
    "        #cntr = len([i for i in os.listdir(DIR) if image_type not in i]) + 1\n",
    "        #print cntr\n",
    "        f = open(DIR + image_type + \"_\"+ str(cntr)+\".jpg\", 'wb')\n",
    "        f.write(raw_img)\n",
    "        f.close()"
   ]
  },
  {
   "cell_type": "code",
   "execution_count": null,
   "metadata": {
    "collapsed": true
   },
   "outputs": [],
   "source": []
  }
 ],
 "metadata": {
  "kernelspec": {
   "display_name": "Python 2",
   "language": "python",
   "name": "python2"
  },
  "language_info": {
   "codemirror_mode": {
    "name": "ipython",
    "version": 2
   },
   "file_extension": ".py",
   "mimetype": "text/x-python",
   "name": "python",
   "nbconvert_exporter": "python",
   "pygments_lexer": "ipython2",
   "version": "2.7.10"
  }
 },
 "nbformat": 4,
 "nbformat_minor": 0
}
