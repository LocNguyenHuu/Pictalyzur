{
 "cells": [
  {
   "cell_type": "code",
   "execution_count": 97,
   "metadata": {
    "collapsed": true
   },
   "outputs": [],
   "source": [
    "import matplotlib.pyplot as plt\n",
    "%matplotlib inline\n",
    "plt.style.use('ggplot')\n",
    "import os\n",
    "import json\n",
    "import csv\n",
    "import numpy as np"
   ]
  },
  {
   "cell_type": "code",
   "execution_count": 98,
   "metadata": {
    "collapsed": false
   },
   "outputs": [
    {
     "name": "stdout",
     "output_type": "stream",
     "text": [
      "app.py              \u001b[0m\u001b[01;34mfonts\u001b[0m/   \u001b[01;32mLICENSE\u001b[0m*    \u001b[01;34mtemplates\u001b[0m/       webinterface.py~\r\n",
      "\u001b[01;34mBootStarter_files\u001b[0m/  \u001b[01;34mimages\u001b[0m/  \u001b[01;32mREADME.md\u001b[0m*  Untitled.ipynb\r\n",
      "\u001b[01;34mcss\u001b[0m/                \u001b[01;34mjs\u001b[0m/      \u001b[01;34mstatic\u001b[0m/     webinterface.py\r\n"
     ]
    }
   ],
   "source": [
    "ls\n"
   ]
  },
  {
   "cell_type": "code",
   "execution_count": 99,
   "metadata": {
    "collapsed": false
   },
   "outputs": [],
   "source": [
    "    image_path = '/home/will/code/Instagramalyze/bin/jpgs/users/'\n",
    "\n",
    "    os.system(' '.join(['python /home/will/code/Instagramalyze/process_user/PredictUser.py', 'senabrew']))\n",
    "\n",
    "    with open('../bin/stats/user_stats.json') as data_file: \n",
    "        user_data = json.load(data_file)"
   ]
  },
  {
   "cell_type": "code",
   "execution_count": 100,
   "metadata": {
    "collapsed": false
   },
   "outputs": [],
   "source": [
    "\n",
    "with open('/home/will/code/Instagramalyze/classifiers/labels_logit.csv', 'r') as myfile:\n",
    "    csv_reader = csv.reader(myfile)\n",
    "    categories = list(csv_reader)[0]"
   ]
  },
  {
   "cell_type": "code",
   "execution_count": 101,
   "metadata": {
    "collapsed": false
   },
   "outputs": [
    {
     "data": {
      "image/png": "[encoded data removed]",
      "text/plain": [
       "<matplotlib.figure.Figure at 0x7f6fd7071bd0>"
      ]
     },
     "metadata": {},
     "output_type": "display_data"
    }
   ],
   "source": [
    "bar_v = []\n",
    "bar_k = []\n",
    "for k, v in user_data['senabrew']['category_counts'].iteritems():\n",
    "    bar_v.append(v)\n",
    "    bar_k.append(k)\n",
    "    \n",
    "y_size = .8\n",
    "\n",
    "fig, ax = plt.subplots()\n",
    "# rects1 = ax.barh(x, user_data['senabrew']['category_counts'].values(), height=y_size, color='b')\n",
    "rects1 = ax.barh(x, bar_v, height=y_size, color='b')\n",
    "ax.set_yticks(np.array(y)+(y_size/2))\n",
    "# ax.set_yticklabels(user_data['senabrew']['category_counts'].keys())\n",
    "ax.set_yticklabels(bar_k)\n",
    "# plt.show()\n",
    "plt.savefig('foo.png')"
   ]
  },
  {
   "cell_type": "code",
   "execution_count": 102,
   "metadata": {
    "collapsed": false
   },
   "outputs": [],
   "source": [
    "y = range(12)"
   ]
  },
  {
   "cell_type": "code",
   "execution_count": 103,
   "metadata": {
    "collapsed": false
   },
   "outputs": [],
   "source": [
    "X = np.array(user_data['senabrew']['confidence'])"
   ]
  },
  {
   "cell_type": "code",
   "execution_count": 104,
   "metadata": {
    "collapsed": false
   },
   "outputs": [],
   "source": [
    "msk = X.argsort()[-3:][::-1]\n"
   ]
  },
  {
   "cell_type": "code",
   "execution_count": 105,
   "metadata": {
    "collapsed": false
   },
   "outputs": [
    {
     "data": {
      "text/plain": [
       "array([ 0.99999986,  0.99999335,  0.99987849])"
      ]
     },
     "execution_count": 105,
     "metadata": {},
     "output_type": "execute_result"
    }
   ],
   "source": [
    "X[msk]"
   ]
  },
  {
   "cell_type": "code",
   "execution_count": 106,
   "metadata": {
    "collapsed": true
   },
   "outputs": [],
   "source": [
    "rr_keys = np.array(user_data['senabrew'].keys())"
   ]
  },
  {
   "cell_type": "code",
   "execution_count": 107,
   "metadata": {
    "collapsed": false
   },
   "outputs": [
    {
     "data": {
      "text/plain": [
       "array([u'category_counts', u'top_count', u'image_lst', u'confidence',\n",
       "       u'predictions'], \n",
       "      dtype='<U15')"
      ]
     },
     "execution_count": 107,
     "metadata": {},
     "output_type": "execute_result"
    }
   ],
   "source": [
    "rr_keys"
   ]
  },
  {
   "cell_type": "code",
   "execution_count": 108,
   "metadata": {
    "collapsed": true
   },
   "outputs": [],
   "source": [
    "Xp = np.array(user_data['senabrew']['predictions'])"
   ]
  },
  {
   "cell_type": "code",
   "execution_count": 109,
   "metadata": {
    "collapsed": false
   },
   "outputs": [
    {
     "data": {
      "text/plain": [
       "array([u'social_out', u'fashion', u'fashion'], \n",
       "      dtype='<U15')"
      ]
     },
     "execution_count": 109,
     "metadata": {},
     "output_type": "execute_result"
    }
   ],
   "source": [
    "Xp[msk]"
   ]
  },
  {
   "cell_type": "code",
   "execution_count": 110,
   "metadata": {
    "collapsed": true
   },
   "outputs": [],
   "source": [
    "Xi = np.array(user_data['senabrew']['image_lst'])"
   ]
  },
  {
   "cell_type": "code",
   "execution_count": 114,
   "metadata": {
    "collapsed": false
   },
   "outputs": [
    {
     "data": {
      "text/plain": [
       "[u'11007952_1417584945209852_1016569980_n.jpg',\n",
       " u'11917745_152855765051586_1038516858_n.jpg',\n",
       " u'11809602_880495775331290_2001226584_n.jpg']"
      ]
     },
     "execution_count": 114,
     "metadata": {},
     "output_type": "execute_result"
    }
   ],
   "source": [
    "[link.split('/')[-1] for link in Xi[msk]]"
   ]
  },
  {
   "cell_type": "code",
   "execution_count": null,
   "metadata": {
    "collapsed": true
   },
   "outputs": [],
   "source": []
  }
 ],
 "metadata": {
  "kernelspec": {
   "display_name": "Python 2",
   "language": "python",
   "name": "python2"
  },
  "language_info": {
   "codemirror_mode": {
    "name": "ipython",
    "version": 2
   },
   "file_extension": ".py",
   "mimetype": "text/x-python",
   "name": "python",
   "nbconvert_exporter": "python",
   "pygments_lexer": "ipython2",
   "version": "2.7.10"
  }
 },
 "nbformat": 4,
 "nbformat_minor": 0
}
