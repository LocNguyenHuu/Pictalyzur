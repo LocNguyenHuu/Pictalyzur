{
 "cells": [
  {
   "cell_type": "code",
   "execution_count": 2,
   "metadata": {
    "collapsed": false
   },
   "outputs": [],
   "source": [
    "import matplotlib.pyplot as plt\n",
    "%matplotlib inline\n",
    "plt.style.use('ggplot')\n",
    "import os\n",
    "import json\n",
    "import csv\n",
    "import numpy as np\n",
    "import seaborn as sns"
   ]
  },
  {
   "cell_type": "code",
   "execution_count": 3,
   "metadata": {
    "collapsed": false
   },
   "outputs": [
    {
     "name": "stdout",
     "output_type": "stream",
     "text": [
      "act_labels.json     \u001b[0m\u001b[01;34mimages\u001b[0m/                \u001b[01;34mstatic\u001b[0m/            webinterface.py\r\n",
      "\u001b[01;34mBootStarter_files\u001b[0m/  \u001b[01;34mjs\u001b[0m/                    \u001b[01;34mtemplates\u001b[0m/         webinterface.py~\r\n",
      "\u001b[01;34mcss\u001b[0m/                \u001b[01;32mLICENSE\u001b[0m*               webhelpers.py\r\n",
      "\u001b[01;34mfonts\u001b[0m/              plotdisplayplay.ipynb  webhelpers.pyc\r\n",
      "\u001b[01;35mfoo.png\u001b[0m             \u001b[01;32mREADME.md\u001b[0m*             webinterface_b.py\r\n"
     ]
    }
   ],
   "source": [
    "ls\n"
   ]
  },
  {
   "cell_type": "code",
   "execution_count": 4,
   "metadata": {
    "collapsed": false
   },
   "outputs": [],
   "source": [
    "    image_path = '/home/will/code/Instagramalyze/bin/jpgs/users/'\n",
    "\n",
    "    os.system(' '.join(['python /home/will/code/Instagramalyze/process_user/PredictUser.py', 'senabrew']))\n",
    "\n",
    "    with open('../bin/stats/user_stats.json') as data_file: \n",
    "        user_data = json.load(data_file)"
   ]
  },
  {
   "cell_type": "code",
   "execution_count": 5,
   "metadata": {
    "collapsed": false
   },
   "outputs": [],
   "source": [
    "\n",
    "with open('/home/will/code/Instagramalyze/classifiers/activity_labels.csv', 'r') as myfile:\n",
    "    csv_reader = csv.reader(myfile)\n",
    "    categories = list(csv_reader)[0]"
   ]
  },
  {
   "cell_type": "code",
   "execution_count": 6,
   "metadata": {
    "collapsed": false
   },
   "outputs": [],
   "source": [
    "tot_count = {}\n",
    "for user in user_data:\n",
    "    for k, v in user_data[user]['activity_category_counts'].iteritems():\n",
    "        if k != 'other':\n",
    "            if k in tot_count:\n",
    "                tot_count[k] += v\n",
    "            else:\n",
    "                tot_count[k] = v   \n",
    "            \n",
    "bar_vt = []\n",
    "bar_kt = []\n",
    "for k, v in tot_count.iteritems():\n",
    "        bar_vt.append(v)\n",
    "        bar_kt.append(k)\n",
    "        \n",
    "xt_arr = np.array(bar_vt)\n",
    "yt_arr = np.array(bar_kt)\n",
    "\n",
    "total = xt_arr.sum()\n",
    "xt_arr = xt_arr/float(total)\n",
    "sor_msk_t = xt_arr.argsort()        "
   ]
  },
  {
   "cell_type": "code",
   "execution_count": 10,
   "metadata": {
    "collapsed": false
   },
   "outputs": [],
   "source": [
    "# bar_v = []\n",
    "# bar_k = []\n",
    "# for k, v in user_data['senabrew']['activity_category_counts'].iteritems():\n",
    "#     if k != 'other':\n",
    "#         bar_v.append(v)\n",
    "#         bar_k.append(k)\n",
    "        \n",
    "# x_arr = np.array(bar_v)\n",
    "# y_arr = np.array(bar_k)\n",
    "\n",
    "# total = x_arr.sum()\n",
    "# x_arr = x_arr/float(total)\n",
    "# sor_msk = x_arr.argsort()\n",
    "\n",
    "# y_size = .4\n",
    "\n",
    "# fig, ax = plt.subplots()\n",
    "\n",
    "# rects1 = ax.barh(np.arange(12), x_arr[sor_msk], height=y_size, color='blue', alpha=.6, label='user')\n",
    "# x_tt = [xt_arr[np.where(yt_arr== i )] for i in y_arr[sor_msk]]\n",
    "\n",
    "# rects2 = ax.barh(np.arange(12)+y_size, x_tt, height=y_size, color='blue', alpha=.2, label='group')\n",
    "\n",
    "# ax.set_yticks(np.array(range(12))+(y_size/2))\n",
    "# ax.set_yticklabels(y_arr[sor_msk])\n",
    "# plt.legend()\n",
    "# plt.show()\n",
    "# # plt.savefig('foo.png')"
   ]
  },
  {
   "cell_type": "code",
   "execution_count": 15,
   "metadata": {
    "collapsed": false
   },
   "outputs": [],
   "source": [
    "with open('act_labels.json', 'w') as fp:\n",
    "    json.dump(label_dict, fp)"
   ]
  },
  {
   "cell_type": "code",
   "execution_count": 13,
   "metadata": {
    "collapsed": true
   },
   "outputs": [],
   "source": [
    "label_dict = {'cooking': 'Cooking', 'hiking': 'Hiking', 'social_out': 'Night out',\n",
    "             'fashion': 'Fashion', 'pets':'Pets','kids':'Kids','biking':'Biking',\n",
    "              'winter_sports':'Winter Sports','fitness':'Fitness',\n",
    "              'hunting_fishing':'Hunting & Fishing', 'summer_fun':'Beach & Swimming',\n",
    "             'gardening':'Gardening'}"
   ]
  },
  {
   "cell_type": "code",
   "execution_count": 24,
   "metadata": {
    "collapsed": false
   },
   "outputs": [
    {
     "data": {
      "image/png": "[encoded data removed]",
      "text/plain": [
       "<matplotlib.figure.Figure at 0x7f6cc779a990>"
      ]
     },
     "metadata": {},
     "output_type": "display_data"
    }
   ],
   "source": [
    "bar_v = []\n",
    "bar_k = []\n",
    "for k, v in user_data['senabrew']['activity_category_counts'].iteritems():\n",
    "    if k != 'other':\n",
    "        bar_v.append(v)\n",
    "        bar_k.append(k)\n",
    "        \n",
    "x_arr = np.array(bar_v)\n",
    "y_arr_t = np.array(bar_k)\n",
    "y_arr = np.array([label_dict[i] for i in y_arr_t])\n",
    "\n",
    "sns.set_context(rc={\"figure.figsize\": (6, 4)})\n",
    "\n",
    "total = x_arr.sum()\n",
    "x_arr = x_arr/float(total)\n",
    "sor_msk = x_arr.argsort()\n",
    "\n",
    "y_size = .4\n",
    "\n",
    "fig, ax = plt.subplots()\n",
    "\n",
    "rects1 = ax.barh(np.arange(12)+y_size, x_arr[sor_msk]*100, height=y_size, color=\"darkgreen\", alpha=.75, label='senabrew')\n",
    "x_tt = np.array([xt_arr[np.where(yt_arr== i )] for i in y_arr_t[sor_msk]])\n",
    "\n",
    "rects2 = ax.barh(np.arange(12), x_tt*100, height=y_size, color=\"seagreen\", alpha=.3, label='average user')\n",
    "\n",
    "ax.set_yticks(np.array(range(12))+(y_size/2))\n",
    "ax.set_yticklabels(y_arr[sor_msk])\n",
    "ax.set_xlabel('% of photos')\n",
    "ax.set_title('Percentage of photos for each category')\n",
    "plt.legend(bbox_to_anchor=(1.05, 1), loc=2, borderaxespad=0.)\n",
    "plt.show()\n",
    "# plt.savefig('foo.png')"
   ]
  },
  {
   "cell_type": "code",
   "execution_count": 122,
   "metadata": {
    "collapsed": false
   },
   "outputs": [],
   "source": [
    "tot_count = {}\n",
    "for user in user_data:\n",
    "    for k, v in user_data[user]['scene_category_counts'].iteritems():\n",
    "        if k != 'other':\n",
    "            if k in tot_count:\n",
    "                tot_count[k] += v\n",
    "            else:\n",
    "                tot_count[k] = v   \n",
    "            \n",
    "bar_vt = []\n",
    "bar_kt = []\n",
    "for k, v in tot_count.iteritems():\n",
    "        bar_vt.append(v)\n",
    "        bar_kt.append(k)\n",
    "        \n",
    "xt_arr = np.array(bar_vt)\n",
    "yt_arr = np.array(bar_kt)\n",
    "\n",
    "total = xt_arr.sum()\n",
    "xt_arr = xt_arr/float(total)\n",
    "sor_msk_t = xt_arr.argsort() "
   ]
  },
  {
   "cell_type": "code",
   "execution_count": 49,
   "metadata": {
    "collapsed": false
   },
   "outputs": [
    {
     "ename": "ValueError",
     "evalue": "setting an array element with a sequence.",
     "output_type": "error",
     "traceback": [
      "\u001b[1;31m---------------------------------------------------------------------------\u001b[0m",
      "\u001b[1;31mValueError\u001b[0m                                Traceback (most recent call last)",
      "\u001b[1;32m<ipython-input-49-c50251cc2b8e>\u001b[0m in \u001b[0;36m<module>\u001b[1;34m()\u001b[0m\n\u001b[0;32m     20\u001b[0m \u001b[0mx_tt\u001b[0m \u001b[1;33m=\u001b[0m \u001b[1;33m[\u001b[0m\u001b[0mxt_arr\u001b[0m\u001b[1;33m[\u001b[0m\u001b[0mnp\u001b[0m\u001b[1;33m.\u001b[0m\u001b[0mwhere\u001b[0m\u001b[1;33m(\u001b[0m\u001b[0myt_arr\u001b[0m\u001b[1;33m==\u001b[0m \u001b[0mi\u001b[0m \u001b[1;33m)\u001b[0m\u001b[1;33m]\u001b[0m \u001b[1;32mfor\u001b[0m \u001b[0mi\u001b[0m \u001b[1;32min\u001b[0m \u001b[0my_arr\u001b[0m\u001b[1;33m[\u001b[0m\u001b[0msor_msk\u001b[0m\u001b[1;33m]\u001b[0m\u001b[1;33m]\u001b[0m\u001b[1;33m\u001b[0m\u001b[0m\n\u001b[0;32m     21\u001b[0m \u001b[1;33m\u001b[0m\u001b[0m\n\u001b[1;32m---> 22\u001b[1;33m \u001b[0mrects2\u001b[0m \u001b[1;33m=\u001b[0m \u001b[0max\u001b[0m\u001b[1;33m.\u001b[0m\u001b[0mbarh\u001b[0m\u001b[1;33m(\u001b[0m\u001b[0mnp\u001b[0m\u001b[1;33m.\u001b[0m\u001b[0marange\u001b[0m\u001b[1;33m(\u001b[0m\u001b[1;36m3\u001b[0m\u001b[1;33m)\u001b[0m\u001b[1;33m+\u001b[0m\u001b[0my_size\u001b[0m\u001b[1;33m,\u001b[0m \u001b[0mx_tt\u001b[0m\u001b[1;33m,\u001b[0m \u001b[0mheight\u001b[0m\u001b[1;33m=\u001b[0m\u001b[0my_size\u001b[0m\u001b[1;33m,\u001b[0m \u001b[0mcolor\u001b[0m\u001b[1;33m=\u001b[0m\u001b[1;34m'seagreen'\u001b[0m\u001b[1;33m,\u001b[0m \u001b[0malpha\u001b[0m\u001b[1;33m=\u001b[0m\u001b[1;36m.2\u001b[0m\u001b[1;33m,\u001b[0m \u001b[0mlabel\u001b[0m\u001b[1;33m=\u001b[0m\u001b[1;34m'group'\u001b[0m\u001b[1;33m)\u001b[0m\u001b[1;33m\u001b[0m\u001b[0m\n\u001b[0m\u001b[0;32m     23\u001b[0m \u001b[1;33m\u001b[0m\u001b[0m\n\u001b[0;32m     24\u001b[0m \u001b[0max\u001b[0m\u001b[1;33m.\u001b[0m\u001b[0mset_yticks\u001b[0m\u001b[1;33m(\u001b[0m\u001b[0mnp\u001b[0m\u001b[1;33m.\u001b[0m\u001b[0marray\u001b[0m\u001b[1;33m(\u001b[0m\u001b[0mrange\u001b[0m\u001b[1;33m(\u001b[0m\u001b[1;36m3\u001b[0m\u001b[1;33m)\u001b[0m\u001b[1;33m)\u001b[0m\u001b[1;33m+\u001b[0m\u001b[1;33m(\u001b[0m\u001b[0my_size\u001b[0m\u001b[1;33m/\u001b[0m\u001b[1;36m2\u001b[0m\u001b[1;33m)\u001b[0m\u001b[1;33m)\u001b[0m\u001b[1;33m\u001b[0m\u001b[0m\n",
      "\u001b[1;32m/home/will/anaconda/lib/python2.7/site-packages/matplotlib/axes/_axes.pyc\u001b[0m in \u001b[0;36mbarh\u001b[1;34m(self, bottom, width, height, left, **kwargs)\u001b[0m\n\u001b[0;32m   2183\u001b[0m \u001b[1;33m\u001b[0m\u001b[0m\n\u001b[0;32m   2184\u001b[0m         patches = self.bar(left=left, height=height, width=width,\n\u001b[1;32m-> 2185\u001b[1;33m                            bottom=bottom, orientation='horizontal', **kwargs)\n\u001b[0m\u001b[0;32m   2186\u001b[0m         \u001b[1;32mreturn\u001b[0m \u001b[0mpatches\u001b[0m\u001b[1;33m\u001b[0m\u001b[0m\n\u001b[0;32m   2187\u001b[0m \u001b[1;33m\u001b[0m\u001b[0m\n",
      "\u001b[1;32m/home/will/anaconda/lib/python2.7/site-packages/matplotlib/axes/_axes.pyc\u001b[0m in \u001b[0;36mbar\u001b[1;34m(self, left, height, width, bottom, **kwargs)\u001b[0m\n\u001b[0;32m   2043\u001b[0m             \u001b[0mr\u001b[0m\u001b[1;33m.\u001b[0m\u001b[0mget_path\u001b[0m\u001b[1;33m(\u001b[0m\u001b[1;33m)\u001b[0m\u001b[1;33m.\u001b[0m\u001b[0m_interpolation_steps\u001b[0m \u001b[1;33m=\u001b[0m \u001b[1;36m100\u001b[0m\u001b[1;33m\u001b[0m\u001b[0m\n\u001b[0;32m   2044\u001b[0m             \u001b[1;31m#print r.get_label(), label, 'label' in kwargs\u001b[0m\u001b[1;33m\u001b[0m\u001b[1;33m\u001b[0m\u001b[0m\n\u001b[1;32m-> 2045\u001b[1;33m             \u001b[0mself\u001b[0m\u001b[1;33m.\u001b[0m\u001b[0madd_patch\u001b[0m\u001b[1;33m(\u001b[0m\u001b[0mr\u001b[0m\u001b[1;33m)\u001b[0m\u001b[1;33m\u001b[0m\u001b[0m\n\u001b[0m\u001b[0;32m   2046\u001b[0m             \u001b[0mpatches\u001b[0m\u001b[1;33m.\u001b[0m\u001b[0mappend\u001b[0m\u001b[1;33m(\u001b[0m\u001b[0mr\u001b[0m\u001b[1;33m)\u001b[0m\u001b[1;33m\u001b[0m\u001b[0m\n\u001b[0;32m   2047\u001b[0m \u001b[1;33m\u001b[0m\u001b[0m\n",
      "\u001b[1;32m/home/will/anaconda/lib/python2.7/site-packages/matplotlib/axes/_base.pyc\u001b[0m in \u001b[0;36madd_patch\u001b[1;34m(self, p)\u001b[0m\n\u001b[0;32m   1566\u001b[0m         \u001b[1;32mif\u001b[0m \u001b[0mp\u001b[0m\u001b[1;33m.\u001b[0m\u001b[0mget_clip_path\u001b[0m\u001b[1;33m(\u001b[0m\u001b[1;33m)\u001b[0m \u001b[1;32mis\u001b[0m \u001b[0mNone\u001b[0m\u001b[1;33m:\u001b[0m\u001b[1;33m\u001b[0m\u001b[0m\n\u001b[0;32m   1567\u001b[0m             \u001b[0mp\u001b[0m\u001b[1;33m.\u001b[0m\u001b[0mset_clip_path\u001b[0m\u001b[1;33m(\u001b[0m\u001b[0mself\u001b[0m\u001b[1;33m.\u001b[0m\u001b[0mpatch\u001b[0m\u001b[1;33m)\u001b[0m\u001b[1;33m\u001b[0m\u001b[0m\n\u001b[1;32m-> 1568\u001b[1;33m         \u001b[0mself\u001b[0m\u001b[1;33m.\u001b[0m\u001b[0m_update_patch_limits\u001b[0m\u001b[1;33m(\u001b[0m\u001b[0mp\u001b[0m\u001b[1;33m)\u001b[0m\u001b[1;33m\u001b[0m\u001b[0m\n\u001b[0m\u001b[0;32m   1569\u001b[0m         \u001b[0mself\u001b[0m\u001b[1;33m.\u001b[0m\u001b[0mpatches\u001b[0m\u001b[1;33m.\u001b[0m\u001b[0mappend\u001b[0m\u001b[1;33m(\u001b[0m\u001b[0mp\u001b[0m\u001b[1;33m)\u001b[0m\u001b[1;33m\u001b[0m\u001b[0m\n\u001b[0;32m   1570\u001b[0m         \u001b[0mp\u001b[0m\u001b[1;33m.\u001b[0m\u001b[0m_remove_method\u001b[0m \u001b[1;33m=\u001b[0m \u001b[1;32mlambda\u001b[0m \u001b[0mh\u001b[0m\u001b[1;33m:\u001b[0m \u001b[0mself\u001b[0m\u001b[1;33m.\u001b[0m\u001b[0mpatches\u001b[0m\u001b[1;33m.\u001b[0m\u001b[0mremove\u001b[0m\u001b[1;33m(\u001b[0m\u001b[0mh\u001b[0m\u001b[1;33m)\u001b[0m\u001b[1;33m\u001b[0m\u001b[0m\n",
      "\u001b[1;32m/home/will/anaconda/lib/python2.7/site-packages/matplotlib/axes/_base.pyc\u001b[0m in \u001b[0;36m_update_patch_limits\u001b[1;34m(self, patch)\u001b[0m\n\u001b[0;32m   1586\u001b[0m         \u001b[0mvertices\u001b[0m \u001b[1;33m=\u001b[0m \u001b[0mpatch\u001b[0m\u001b[1;33m.\u001b[0m\u001b[0mget_path\u001b[0m\u001b[1;33m(\u001b[0m\u001b[1;33m)\u001b[0m\u001b[1;33m.\u001b[0m\u001b[0mvertices\u001b[0m\u001b[1;33m\u001b[0m\u001b[0m\n\u001b[0;32m   1587\u001b[0m         \u001b[1;32mif\u001b[0m \u001b[0mvertices\u001b[0m\u001b[1;33m.\u001b[0m\u001b[0msize\u001b[0m \u001b[1;33m>\u001b[0m \u001b[1;36m0\u001b[0m\u001b[1;33m:\u001b[0m\u001b[1;33m\u001b[0m\u001b[0m\n\u001b[1;32m-> 1588\u001b[1;33m             \u001b[0mxys\u001b[0m \u001b[1;33m=\u001b[0m \u001b[0mpatch\u001b[0m\u001b[1;33m.\u001b[0m\u001b[0mget_patch_transform\u001b[0m\u001b[1;33m(\u001b[0m\u001b[1;33m)\u001b[0m\u001b[1;33m.\u001b[0m\u001b[0mtransform\u001b[0m\u001b[1;33m(\u001b[0m\u001b[0mvertices\u001b[0m\u001b[1;33m)\u001b[0m\u001b[1;33m\u001b[0m\u001b[0m\n\u001b[0m\u001b[0;32m   1589\u001b[0m             \u001b[1;32mif\u001b[0m \u001b[0mpatch\u001b[0m\u001b[1;33m.\u001b[0m\u001b[0mget_data_transform\u001b[0m\u001b[1;33m(\u001b[0m\u001b[1;33m)\u001b[0m \u001b[1;33m!=\u001b[0m \u001b[0mself\u001b[0m\u001b[1;33m.\u001b[0m\u001b[0mtransData\u001b[0m\u001b[1;33m:\u001b[0m\u001b[1;33m\u001b[0m\u001b[0m\n\u001b[0;32m   1590\u001b[0m                 patch_to_data = (patch.get_data_transform() -\n",
      "\u001b[1;32m/home/will/anaconda/lib/python2.7/site-packages/matplotlib/patches.pyc\u001b[0m in \u001b[0;36mget_patch_transform\u001b[1;34m(self)\u001b[0m\n\u001b[0;32m    624\u001b[0m \u001b[1;33m\u001b[0m\u001b[0m\n\u001b[0;32m    625\u001b[0m     \u001b[1;32mdef\u001b[0m \u001b[0mget_patch_transform\u001b[0m\u001b[1;33m(\u001b[0m\u001b[0mself\u001b[0m\u001b[1;33m)\u001b[0m\u001b[1;33m:\u001b[0m\u001b[1;33m\u001b[0m\u001b[0m\n\u001b[1;32m--> 626\u001b[1;33m         \u001b[0mself\u001b[0m\u001b[1;33m.\u001b[0m\u001b[0m_update_patch_transform\u001b[0m\u001b[1;33m(\u001b[0m\u001b[1;33m)\u001b[0m\u001b[1;33m\u001b[0m\u001b[0m\n\u001b[0m\u001b[0;32m    627\u001b[0m         \u001b[1;32mreturn\u001b[0m \u001b[0mself\u001b[0m\u001b[1;33m.\u001b[0m\u001b[0m_rect_transform\u001b[0m\u001b[1;33m\u001b[0m\u001b[0m\n\u001b[0;32m    628\u001b[0m \u001b[1;33m\u001b[0m\u001b[0m\n",
      "\u001b[1;32m/home/will/anaconda/lib/python2.7/site-packages/matplotlib/patches.pyc\u001b[0m in \u001b[0;36m_update_patch_transform\u001b[1;34m(self)\u001b[0m\n\u001b[0;32m    617\u001b[0m         \u001b[0mwidth\u001b[0m \u001b[1;33m=\u001b[0m \u001b[0mself\u001b[0m\u001b[1;33m.\u001b[0m\u001b[0mconvert_xunits\u001b[0m\u001b[1;33m(\u001b[0m\u001b[0mself\u001b[0m\u001b[1;33m.\u001b[0m\u001b[0m_width\u001b[0m\u001b[1;33m)\u001b[0m\u001b[1;33m\u001b[0m\u001b[0m\n\u001b[0;32m    618\u001b[0m         \u001b[0mheight\u001b[0m \u001b[1;33m=\u001b[0m \u001b[0mself\u001b[0m\u001b[1;33m.\u001b[0m\u001b[0mconvert_yunits\u001b[0m\u001b[1;33m(\u001b[0m\u001b[0mself\u001b[0m\u001b[1;33m.\u001b[0m\u001b[0m_height\u001b[0m\u001b[1;33m)\u001b[0m\u001b[1;33m\u001b[0m\u001b[0m\n\u001b[1;32m--> 619\u001b[1;33m         \u001b[0mbbox\u001b[0m \u001b[1;33m=\u001b[0m \u001b[0mtransforms\u001b[0m\u001b[1;33m.\u001b[0m\u001b[0mBbox\u001b[0m\u001b[1;33m.\u001b[0m\u001b[0mfrom_bounds\u001b[0m\u001b[1;33m(\u001b[0m\u001b[0mx\u001b[0m\u001b[1;33m,\u001b[0m \u001b[0my\u001b[0m\u001b[1;33m,\u001b[0m \u001b[0mwidth\u001b[0m\u001b[1;33m,\u001b[0m \u001b[0mheight\u001b[0m\u001b[1;33m)\u001b[0m\u001b[1;33m\u001b[0m\u001b[0m\n\u001b[0m\u001b[0;32m    620\u001b[0m         \u001b[0mrot_trans\u001b[0m \u001b[1;33m=\u001b[0m \u001b[0mtransforms\u001b[0m\u001b[1;33m.\u001b[0m\u001b[0mAffine2D\u001b[0m\u001b[1;33m(\u001b[0m\u001b[1;33m)\u001b[0m\u001b[1;33m\u001b[0m\u001b[0m\n\u001b[0;32m    621\u001b[0m         \u001b[0mrot_trans\u001b[0m\u001b[1;33m.\u001b[0m\u001b[0mrotate_deg_around\u001b[0m\u001b[1;33m(\u001b[0m\u001b[0mx\u001b[0m\u001b[1;33m,\u001b[0m \u001b[0my\u001b[0m\u001b[1;33m,\u001b[0m \u001b[0mself\u001b[0m\u001b[1;33m.\u001b[0m\u001b[0m_angle\u001b[0m\u001b[1;33m)\u001b[0m\u001b[1;33m\u001b[0m\u001b[0m\n",
      "\u001b[1;32m/home/will/anaconda/lib/python2.7/site-packages/matplotlib/transforms.pyc\u001b[0m in \u001b[0;36mfrom_bounds\u001b[1;34m(x0, y0, width, height)\u001b[0m\n\u001b[0;32m    827\u001b[0m         \u001b[1;33m*\u001b[0m\u001b[0mwidth\u001b[0m\u001b[1;33m*\u001b[0m \u001b[1;32mand\u001b[0m \u001b[1;33m*\u001b[0m\u001b[0mheight\u001b[0m\u001b[1;33m*\u001b[0m \u001b[0mmay\u001b[0m \u001b[0mbe\u001b[0m \u001b[0mnegative\u001b[0m\u001b[1;33m.\u001b[0m\u001b[1;33m\u001b[0m\u001b[0m\n\u001b[0;32m    828\u001b[0m         \"\"\"\n\u001b[1;32m--> 829\u001b[1;33m         \u001b[1;32mreturn\u001b[0m \u001b[0mBbox\u001b[0m\u001b[1;33m.\u001b[0m\u001b[0mfrom_extents\u001b[0m\u001b[1;33m(\u001b[0m\u001b[0mx0\u001b[0m\u001b[1;33m,\u001b[0m \u001b[0my0\u001b[0m\u001b[1;33m,\u001b[0m \u001b[0mx0\u001b[0m \u001b[1;33m+\u001b[0m \u001b[0mwidth\u001b[0m\u001b[1;33m,\u001b[0m \u001b[0my0\u001b[0m \u001b[1;33m+\u001b[0m \u001b[0mheight\u001b[0m\u001b[1;33m)\u001b[0m\u001b[1;33m\u001b[0m\u001b[0m\n\u001b[0m\u001b[0;32m    830\u001b[0m \u001b[1;33m\u001b[0m\u001b[0m\n\u001b[0;32m    831\u001b[0m     \u001b[1;33m@\u001b[0m\u001b[0mstaticmethod\u001b[0m\u001b[1;33m\u001b[0m\u001b[0m\n",
      "\u001b[1;32m/home/will/anaconda/lib/python2.7/site-packages/matplotlib/transforms.pyc\u001b[0m in \u001b[0;36mfrom_extents\u001b[1;34m(*args)\u001b[0m\n\u001b[0;32m    837\u001b[0m         \u001b[0mThe\u001b[0m \u001b[1;33m*\u001b[0m\u001b[0my\u001b[0m\u001b[1;33m*\u001b[0m\u001b[1;33m-\u001b[0m\u001b[0maxis\u001b[0m \u001b[0mincreases\u001b[0m \u001b[0mupwards\u001b[0m\u001b[1;33m.\u001b[0m\u001b[1;33m\u001b[0m\u001b[0m\n\u001b[0;32m    838\u001b[0m         \"\"\"\n\u001b[1;32m--> 839\u001b[1;33m         \u001b[0mpoints\u001b[0m \u001b[1;33m=\u001b[0m \u001b[0mnp\u001b[0m\u001b[1;33m.\u001b[0m\u001b[0marray\u001b[0m\u001b[1;33m(\u001b[0m\u001b[0margs\u001b[0m\u001b[1;33m,\u001b[0m \u001b[0mdtype\u001b[0m\u001b[1;33m=\u001b[0m\u001b[0mnp\u001b[0m\u001b[1;33m.\u001b[0m\u001b[0mfloat_\u001b[0m\u001b[1;33m)\u001b[0m\u001b[1;33m.\u001b[0m\u001b[0mreshape\u001b[0m\u001b[1;33m(\u001b[0m\u001b[1;36m2\u001b[0m\u001b[1;33m,\u001b[0m \u001b[1;36m2\u001b[0m\u001b[1;33m)\u001b[0m\u001b[1;33m\u001b[0m\u001b[0m\n\u001b[0m\u001b[0;32m    840\u001b[0m         \u001b[1;32mreturn\u001b[0m \u001b[0mBbox\u001b[0m\u001b[1;33m(\u001b[0m\u001b[0mpoints\u001b[0m\u001b[1;33m)\u001b[0m\u001b[1;33m\u001b[0m\u001b[0m\n\u001b[0;32m    841\u001b[0m \u001b[1;33m\u001b[0m\u001b[0m\n",
      "\u001b[1;31mValueError\u001b[0m: setting an array element with a sequence."
     ]
    },
    {
     "data": {
      "image/png": "[encoded data removed]",
      "text/plain": [
       "<matplotlib.figure.Figure at 0x7f362c1d3510>"
      ]
     },
     "metadata": {},
     "output_type": "display_data"
    }
   ],
   "source": [
    "bar_v = []\n",
    "bar_k = []\n",
    "for k, v in user_data['senabrew']['scene_category_counts'].iteritems():\n",
    "    if k != 'other':\n",
    "        bar_v.append(v)\n",
    "        bar_k.append(k)\n",
    "        \n",
    "x_arr = np.array(bar_v)\n",
    "y_arr = np.array(bar_k)\n",
    "\n",
    "total = x_arr.sum()\n",
    "x_arr = x_arr/float(total)\n",
    "sor_msk = x_arr.argsort()\n",
    "\n",
    "y_size = .4\n",
    "\n",
    "fig, ax = plt.subplots()\n",
    "\n",
    "rects1 = ax.barh(np.arange(3), x_arr[sor_msk], height=y_size, color='darkgreen', alpha=.6, label='user')\n",
    "x_tt = [xt_arr[np.where(yt_arr== i )] for i in y_arr[sor_msk]]\n",
    "\n",
    "rects2 = ax.barh(np.arange(3)+y_size, x_tt, height=y_size, color='seagreen', alpha=.2, label='group')\n",
    "\n",
    "ax.set_yticks(np.array(range(3))+(y_size/2))\n",
    "ax.set_yticklabels(y_arr[sor_msk])\n",
    "plt.legend()\n",
    "plt.show()\n",
    "# plt.savefig('foo.png')"
   ]
  },
  {
   "cell_type": "code",
   "execution_count": 31,
   "metadata": {
    "collapsed": false
   },
   "outputs": [],
   "source": [
    "mask = v_sort.argsort()[::-1]"
   ]
  },
  {
   "cell_type": "code",
   "execution_count": 130,
   "metadata": {
    "collapsed": false
   },
   "outputs": [],
   "source": [
    "confidence = np.array(user_data['senabrew']['activity_confidence'])"
   ]
  },
  {
   "cell_type": "code",
   "execution_count": 127,
   "metadata": {
    "collapsed": false
   },
   "outputs": [
    {
     "data": {
      "text/plain": [
       "array([ 0.77296056,  0.33735364,  0.44826345,  0.32277342,  0.61979209,\n",
       "        0.4382835 ,  0.20939427,  0.46657953,  0.38075383,  0.64236275,\n",
       "        0.3964737 ,  0.43256077,  0.5035659 ,  0.34034462,  0.38844282,\n",
       "        0.37524886,  0.40060849,  0.63042074,  0.43231397,  0.44336951,\n",
       "        0.34931196,  0.50684395,  0.5260255 ,  0.553234  ,  0.91254939,\n",
       "        0.37418373,  0.48476313,  0.69321317,  0.93457115,  0.26852611,\n",
       "        0.92501107,  0.44794693,  0.37454944,  0.26156694,  0.22403692,\n",
       "        0.55101414,  0.36021907,  0.39060475,  0.50150022,  0.47619494,\n",
       "        0.32770676,  0.300672  ,  0.47097251,  0.63172927,  0.66566026,\n",
       "        0.32882525,  0.41370797,  0.3821098 ,  0.94523292,  0.28429952,\n",
       "        0.41686046,  0.63974994,  0.20467746,  0.21795392,  0.39736404,\n",
       "        0.43620997,  0.38039793,  0.31914081,  0.41679971,  0.51197606,\n",
       "        0.81644468,  0.73104793,  0.49871985,  0.47217038,  0.39538263,\n",
       "        0.28027709,  0.8201703 ,  0.40138986,  0.47599033,  0.46377191,\n",
       "        0.55478683,  0.59772212,  0.38131657])"
      ]
     },
     "execution_count": 127,
     "metadata": {},
     "output_type": "execute_result"
    }
   ],
   "source": [
    "confidence"
   ]
  },
  {
   "cell_type": "code",
   "execution_count": 134,
   "metadata": {
    "collapsed": false
   },
   "outputs": [
    {
     "data": {
      "text/plain": [
       "(array([ 0,  1,  2,  3,  5,  6,  7,  8,  9, 11, 12, 13, 14, 15, 17, 18, 19,\n",
       "        20, 21, 22, 24, 26, 29, 30, 31, 32, 34, 35, 36, 37, 39, 41, 42, 43,\n",
       "        44, 45, 46, 47, 49, 50, 51, 52, 53, 54, 55, 56, 57, 58, 59, 60, 62,\n",
       "        64, 65, 66, 68, 69, 70, 72]),)"
      ]
     },
     "execution_count": 134,
     "metadata": {},
     "output_type": "execute_result"
    }
   ],
   "source": [
    "np.where(np.array(user_data['senabrew']['activity_predictions']) != 'other')"
   ]
  },
  {
   "cell_type": "code",
   "execution_count": 163,
   "metadata": {
    "collapsed": true
   },
   "outputs": [],
   "source": [
    "import pandas as pd"
   ]
  },
  {
   "cell_type": "code",
   "execution_count": 168,
   "metadata": {
    "collapsed": false
   },
   "outputs": [],
   "source": [
    "user = user_data['senabrew']"
   ]
  },
  {
   "cell_type": "code",
   "execution_count": 186,
   "metadata": {
    "collapsed": false
   },
   "outputs": [
    {
     "data": {
      "text/plain": [
       "(73,)"
      ]
     },
     "execution_count": 186,
     "metadata": {},
     "output_type": "execute_result"
    }
   ],
   "source": [
    "np.array(user['activity_confidence']).shape"
   ]
  },
  {
   "cell_type": "code",
   "execution_count": 190,
   "metadata": {
    "collapsed": false
   },
   "outputs": [],
   "source": [
    "df = pd.DataFrame([user['activity_confidence'], \n",
    "                   user['activity_predictions'], \n",
    "                   user['image_lst']]).T\n",
    "df.columns = ['activity_confidence', 'activity_predictions', 'image_lst']"
   ]
  },
  {
   "cell_type": "code",
   "execution_count": 200,
   "metadata": {
    "collapsed": false
   },
   "outputs": [
    {
     "data": {
      "text/html": [
       "<div>\n",
       "<table border=\"1\" class=\"dataframe\">\n",
       "  <thead>\n",
       "    <tr style=\"text-align: right;\">\n",
       "      <th></th>\n",
       "      <th>activity_confidence</th>\n",
       "      <th>activity_predictions</th>\n",
       "      <th>image_lst</th>\n",
       "    </tr>\n",
       "  </thead>\n",
       "  <tbody>\n",
       "    <tr>\n",
       "      <th>30</th>\n",
       "      <td>0.9250111</td>\n",
       "      <td>cooking</td>\n",
       "      <td>/home/will/code/Instagramalyze/bin/jpgs/users/...</td>\n",
       "    </tr>\n",
       "    <tr>\n",
       "      <th>24</th>\n",
       "      <td>0.9125494</td>\n",
       "      <td>social_out</td>\n",
       "      <td>/home/will/code/Instagramalyze/bin/jpgs/users/...</td>\n",
       "    </tr>\n",
       "    <tr>\n",
       "      <th>66</th>\n",
       "      <td>0.8201703</td>\n",
       "      <td>cooking</td>\n",
       "      <td>/home/will/code/Instagramalyze/bin/jpgs/users/...</td>\n",
       "    </tr>\n",
       "    <tr>\n",
       "      <th>60</th>\n",
       "      <td>0.8164447</td>\n",
       "      <td>cooking</td>\n",
       "      <td>/home/will/code/Instagramalyze/bin/jpgs/users/...</td>\n",
       "    </tr>\n",
       "  </tbody>\n",
       "</table>\n",
       "</div>"
      ],
      "text/plain": [
       "   activity_confidence activity_predictions  \\\n",
       "30           0.9250111              cooking   \n",
       "24           0.9125494           social_out   \n",
       "66           0.8201703              cooking   \n",
       "60           0.8164447              cooking   \n",
       "\n",
       "                                            image_lst  \n",
       "30  /home/will/code/Instagramalyze/bin/jpgs/users/...  \n",
       "24  /home/will/code/Instagramalyze/bin/jpgs/users/...  \n",
       "66  /home/will/code/Instagramalyze/bin/jpgs/users/...  \n",
       "60  /home/will/code/Instagramalyze/bin/jpgs/users/...  "
      ]
     },
     "execution_count": 200,
     "metadata": {},
     "output_type": "execute_result"
    }
   ],
   "source": [
    "df[df['activity_predictions']!='other'].sort('activity_confidence', ascending=False).head(4)"
   ]
  },
  {
   "cell_type": "code",
   "execution_count": 161,
   "metadata": {
    "collapsed": false
   },
   "outputs": [],
   "source": [
    "con_o = confidence[msk]\n",
    "pred_o = preds[msk]\n",
    "image_o = image_lst[msk]\n",
    "\n",
    "\n",
    "\n",
    "\n"
   ]
  },
  {
   "cell_type": "code",
   "execution_count": 166,
   "metadata": {
    "collapsed": false
   },
   "outputs": [],
   "source": [
    "msk = [np.where(np.array(user_data['senabrew']['activity_predictions']) != 'other')]\n",
    "confidence = np.array(user_data['senabrew']['activity_confidence'])\n",
    "preds = np.array(user_data['senabrew']['activity_predictions'])\n",
    "image_lst = np.array(user_data['senabrew']['image_lst'])\n",
    "df= pd.DataFrame("
   ]
  },
  {
   "cell_type": "code",
   "execution_count": 153,
   "metadata": {
    "collapsed": false
   },
   "outputs": [],
   "source": []
  },
  {
   "cell_type": "code",
   "execution_count": 154,
   "metadata": {
    "collapsed": false
   },
   "outputs": [
    {
     "data": {
      "text/plain": [
       "array([u'other', u'other', u'cooking', u'social_out', u'cooking',\n",
       "       u'social_out', u'other', u'other', u'cooking', u'pets', u'cooking',\n",
       "       u'social_out', u'other', u'other', u'other', u'fashion', u'fashion',\n",
       "       u'pets', u'cooking', u'cooking', u'fashion', u'pets', u'gardening',\n",
       "       u'gardening', u'hunting_fishing', u'biking', u'winter_sports',\n",
       "       u'gardening', u'cooking', u'gardening', u'cooking', u'kids',\n",
       "       u'other', u'other', u'cooking', u'other', u'cooking', u'fashion',\n",
       "       u'cooking', u'summer_fun', u'social_out', u'hiking', u'social_out',\n",
       "       u'winter_sports', u'other', u'social_out', u'winter_sports',\n",
       "       u'social_out', u'cooking', u'hiking', u'hiking', u'social_out',\n",
       "       u'hunting_fishing', u'hiking', u'other', u'hunting_fishing',\n",
       "       u'summer_fun', u'winter_sports'], \n",
       "      dtype='<U15')"
      ]
     },
     "execution_count": 154,
     "metadata": {},
     "output_type": "execute_result"
    }
   ],
   "source": [
    "preds[msk]"
   ]
  },
  {
   "cell_type": "code",
   "execution_count": 152,
   "metadata": {
    "collapsed": false
   },
   "outputs": [
    {
     "data": {
      "text/plain": [
       "array([48, 28, 30, 24, 60,  0, 61, 27, 44, 51, 43, 17,  4, 71, 23, 35, 22,\n",
       "       59, 21, 12, 62, 39, 42,  7, 69,  2, 19,  5, 55, 11, 50, 46, 67, 16,\n",
       "       54, 10, 64, 37, 47, 72,  8, 56, 15, 32, 25, 36, 20, 13,  1, 45,  3,\n",
       "       41, 49, 65, 33, 34, 53, 52])"
      ]
     },
     "execution_count": 152,
     "metadata": {},
     "output_type": "execute_result"
    }
   ],
   "source": [
    "msk"
   ]
  },
  {
   "cell_type": "code",
   "execution_count": 108,
   "metadata": {
    "collapsed": true
   },
   "outputs": [],
   "source": [
    "Xp = np.array(user_data['senabrew']['predictions'])"
   ]
  },
  {
   "cell_type": "code",
   "execution_count": 109,
   "metadata": {
    "collapsed": false
   },
   "outputs": [
    {
     "data": {
      "text/plain": [
       "array([u'social_out', u'fashion', u'fashion'], \n",
       "      dtype='<U15')"
      ]
     },
     "execution_count": 109,
     "metadata": {},
     "output_type": "execute_result"
    }
   ],
   "source": [
    "Xp[msk]"
   ]
  },
  {
   "cell_type": "code",
   "execution_count": 110,
   "metadata": {
    "collapsed": true
   },
   "outputs": [],
   "source": [
    "Xi = np.array(user_data['senabrew']['image_lst'])"
   ]
  },
  {
   "cell_type": "code",
   "execution_count": 158,
   "metadata": {
    "collapsed": false
   },
   "outputs": [
    {
     "data": {
      "text/plain": [
       "{u'activity_category_counts': {u'biking': 1,\n",
       "  u'cooking': 14,\n",
       "  u'fashion': 5,\n",
       "  u'fitness': 1,\n",
       "  u'gardening': 4,\n",
       "  u'hiking': 6,\n",
       "  u'hunting_fishing': 4,\n",
       "  u'kids': 1,\n",
       "  u'other': 15,\n",
       "  u'pets': 4,\n",
       "  u'social_out': 12,\n",
       "  u'summer_fun': 2,\n",
       "  u'winter_sports': 4},\n",
       " u'activity_confidence': [0.7729605649219726,\n",
       "  0.3373536381441556,\n",
       "  0.44826345110805305,\n",
       "  0.32277341984161306,\n",
       "  0.6197920910856096,\n",
       "  0.43828349812909345,\n",
       "  0.20939427239137998,\n",
       "  0.4665795250865617,\n",
       "  0.3807538261013429,\n",
       "  0.6423627450665376,\n",
       "  0.3964737031570839,\n",
       "  0.4325607650990176,\n",
       "  0.5035659015334639,\n",
       "  0.34034462499831963,\n",
       "  0.3884428248372192,\n",
       "  0.3752488610200555,\n",
       "  0.4006084854673706,\n",
       "  0.6304207390290275,\n",
       "  0.4323139739486837,\n",
       "  0.44336951038580896,\n",
       "  0.34931195823359457,\n",
       "  0.5068439492417167,\n",
       "  0.5260255032937278,\n",
       "  0.553234001589785,\n",
       "  0.912549387248519,\n",
       "  0.3741837270041925,\n",
       "  0.48476312863031923,\n",
       "  0.6932131733716239,\n",
       "  0.9345711504611017,\n",
       "  0.26852611397326387,\n",
       "  0.9250110700880513,\n",
       "  0.4479469303870114,\n",
       "  0.3745494391589632,\n",
       "  0.26156693540193104,\n",
       "  0.22403691863502886,\n",
       "  0.5510141414112779,\n",
       "  0.3602190685488248,\n",
       "  0.390604747510956,\n",
       "  0.501500221311043,\n",
       "  0.4761949412259466,\n",
       "  0.32770675664740856,\n",
       "  0.300672003725608,\n",
       "  0.4709725097685076,\n",
       "  0.6317292665815135,\n",
       "  0.66566025779109,\n",
       "  0.32882525137292007,\n",
       "  0.41370796635723756,\n",
       "  0.38210979571390846,\n",
       "  0.9452329193329366,\n",
       "  0.284299522048774,\n",
       "  0.41686045699500773,\n",
       "  0.6397499422518149,\n",
       "  0.20467745541816348,\n",
       "  0.21795391597526118,\n",
       "  0.39736404267796954,\n",
       "  0.4362099702835478,\n",
       "  0.3803979281012288,\n",
       "  0.31914080800139677,\n",
       "  0.41679971212364963,\n",
       "  0.511976061173141,\n",
       "  0.8164446845145983,\n",
       "  0.731047925565021,\n",
       "  0.4987198527538197,\n",
       "  0.47217038046019005,\n",
       "  0.3953826291652059,\n",
       "  0.2802770874525695,\n",
       "  0.8201703049847041,\n",
       "  0.4013898638432562,\n",
       "  0.4759903299091174,\n",
       "  0.4637719059545234,\n",
       "  0.5547868254804704,\n",
       "  0.597722119993474,\n",
       "  0.38131657313157996],\n",
       " u'activity_predictions': [u'social_out',\n",
       "  u'cooking',\n",
       "  u'biking',\n",
       "  u'hiking',\n",
       "  u'other',\n",
       "  u'gardening',\n",
       "  u'social_out',\n",
       "  u'gardening',\n",
       "  u'social_out',\n",
       "  u'fashion',\n",
       "  u'other',\n",
       "  u'gardening',\n",
       "  u'cooking',\n",
       "  u'social_out',\n",
       "  u'pets',\n",
       "  u'social_out',\n",
       "  u'other',\n",
       "  u'social_out',\n",
       "  u'social_out',\n",
       "  u'winter_sports',\n",
       "  u'winter_sports',\n",
       "  u'cooking',\n",
       "  u'fashion',\n",
       "  u'other',\n",
       "  u'social_out',\n",
       "  u'other',\n",
       "  u'hiking',\n",
       "  u'other',\n",
       "  u'other',\n",
       "  u'hunting_fishing',\n",
       "  u'cooking',\n",
       "  u'fitness',\n",
       "  u'winter_sports',\n",
       "  u'other',\n",
       "  u'hunting_fishing',\n",
       "  u'fashion',\n",
       "  u'social_out',\n",
       "  u'fashion',\n",
       "  u'other',\n",
       "  u'pets',\n",
       "  u'other',\n",
       "  u'social_out',\n",
       "  u'gardening',\n",
       "  u'cooking',\n",
       "  u'cooking',\n",
       "  u'hiking',\n",
       "  u'kids',\n",
       "  u'cooking',\n",
       "  u'other',\n",
       "  u'hunting_fishing',\n",
       "  u'cooking',\n",
       "  u'pets',\n",
       "  u'winter_sports',\n",
       "  u'summer_fun',\n",
       "  u'cooking',\n",
       "  u'cooking',\n",
       "  u'hiking',\n",
       "  u'social_out',\n",
       "  u'hiking',\n",
       "  u'pets',\n",
       "  u'cooking',\n",
       "  u'other',\n",
       "  u'fashion',\n",
       "  u'other',\n",
       "  u'cooking',\n",
       "  u'hiking',\n",
       "  u'cooking',\n",
       "  u'other',\n",
       "  u'cooking',\n",
       "  u'hunting_fishing',\n",
       "  u'social_out',\n",
       "  u'other',\n",
       "  u'summer_fun'],\n",
       " u'activity_top_count': u'cooking',\n",
       " u'image_lst': [u'/home/will/code/Instagramalyze/bin/jpgs/users/senabrew/10175115_598882023576242_1069951670_n.jpg',\n",
       "  u'/home/will/code/Instagramalyze/bin/jpgs/users/senabrew/10598296_1578985549008153_1710632587_n.jpg',\n",
       "  u'/home/will/code/Instagramalyze/bin/jpgs/users/senabrew/10611244_510995049102857_925135978_n.jpg',\n",
       "  u'/home/will/code/Instagramalyze/bin/jpgs/users/senabrew/10724050_126755870998191_242320420_n.jpg',\n",
       "  u'/home/will/code/Instagramalyze/bin/jpgs/users/senabrew/10724909_980562415310194_1203044063_n.jpg',\n",
       "  u'/home/will/code/Instagramalyze/bin/jpgs/users/senabrew/10731983_868124916610507_284026142_n.jpg',\n",
       "  u'/home/will/code/Instagramalyze/bin/jpgs/users/senabrew/10809569_1591613731069198_1747942771_n.jpg',\n",
       "  u'/home/will/code/Instagramalyze/bin/jpgs/users/senabrew/10817547_736595463093052_516191007_n.jpg',\n",
       "  u'/home/will/code/Instagramalyze/bin/jpgs/users/senabrew/10817983_1527442354174082_1598704421_n.jpg',\n",
       "  u'/home/will/code/Instagramalyze/bin/jpgs/users/senabrew/10848263_1376282129336019_1028462710_n.jpg',\n",
       "  u'/home/will/code/Instagramalyze/bin/jpgs/users/senabrew/10848366_845258572161140_963886411_n.jpg',\n",
       "  u'/home/will/code/Instagramalyze/bin/jpgs/users/senabrew/10852555_513529112122642_1375733516_n.jpg',\n",
       "  u'/home/will/code/Instagramalyze/bin/jpgs/users/senabrew/10860182_301041086773544_1955105038_n.jpg',\n",
       "  u'/home/will/code/Instagramalyze/bin/jpgs/users/senabrew/10864667_531767890260210_553267219_n.jpg',\n",
       "  u'/home/will/code/Instagramalyze/bin/jpgs/users/senabrew/10881803_1577303125821027_1986649352_n.jpg',\n",
       "  u'/home/will/code/Instagramalyze/bin/jpgs/users/senabrew/10890683_761771897210378_916457376_n.jpg',\n",
       "  u'/home/will/code/Instagramalyze/bin/jpgs/users/senabrew/10890972_930681363623550_74412645_n.jpg',\n",
       "  u'/home/will/code/Instagramalyze/bin/jpgs/users/senabrew/10899393_1516930595247209_1424000722_n.jpg',\n",
       "  u'/home/will/code/Instagramalyze/bin/jpgs/users/senabrew/10903531_374655802715359_1812297684_n.jpg',\n",
       "  u'/home/will/code/Instagramalyze/bin/jpgs/users/senabrew/10919231_394881147355681_1148843461_n.jpg',\n",
       "  u'/home/will/code/Instagramalyze/bin/jpgs/users/senabrew/10919252_1600710996816610_1909124849_n.jpg',\n",
       "  u'/home/will/code/Instagramalyze/bin/jpgs/users/senabrew/10919369_587158071417993_432068778_n.jpg',\n",
       "  u'/home/will/code/Instagramalyze/bin/jpgs/users/senabrew/10932079_355364951324628_647381711_n.jpg',\n",
       "  u'/home/will/code/Instagramalyze/bin/jpgs/users/senabrew/10995200_798580560191876_1772341631_n.jpg',\n",
       "  u'/home/will/code/Instagramalyze/bin/jpgs/users/senabrew/11007952_1417584945209852_1016569980_n.jpg',\n",
       "  u'/home/will/code/Instagramalyze/bin/jpgs/users/senabrew/11007996_822588724484037_1997593160_n.jpg',\n",
       "  u'/home/will/code/Instagramalyze/bin/jpgs/users/senabrew/11032788_445997325552052_858712129_n.jpg',\n",
       "  u'/home/will/code/Instagramalyze/bin/jpgs/users/senabrew/11032814_658169137626289_1648708285_n.jpg',\n",
       "  u'/home/will/code/Instagramalyze/bin/jpgs/users/senabrew/11032934_826188057461421_227825421_n.jpg',\n",
       "  u'/home/will/code/Instagramalyze/bin/jpgs/users/senabrew/11055550_639891782822569_1278997199_n.jpg',\n",
       "  u'/home/will/code/Instagramalyze/bin/jpgs/users/senabrew/11055882_1423761267918370_2070609122_n.jpg',\n",
       "  u'/home/will/code/Instagramalyze/bin/jpgs/users/senabrew/11055945_428663540631304_2123246617_n.jpg',\n",
       "  u'/home/will/code/Instagramalyze/bin/jpgs/users/senabrew/11093028_1569517979989832_2124069736_n.jpg',\n",
       "  u'/home/will/code/Instagramalyze/bin/jpgs/users/senabrew/11098565_1588812254726823_348801522_n.jpg',\n",
       "  u'/home/will/code/Instagramalyze/bin/jpgs/users/senabrew/11111372_834178193297381_950051158_n.jpg',\n",
       "  u'/home/will/code/Instagramalyze/bin/jpgs/users/senabrew/11116963_925251720860650_2025751996_n.jpg',\n",
       "  u'/home/will/code/Instagramalyze/bin/jpgs/users/senabrew/11176464_1621789881386984_1935513843_n.jpg',\n",
       "  u'/home/will/code/Instagramalyze/bin/jpgs/users/senabrew/11186959_449530778539391_1639392112_n.jpg',\n",
       "  u'/home/will/code/Instagramalyze/bin/jpgs/users/senabrew/11189929_941177499260100_2123889714_n.jpg',\n",
       "  u'/home/will/code/Instagramalyze/bin/jpgs/users/senabrew/11190255_847454565323590_1591998465_n.jpg',\n",
       "  u'/home/will/code/Instagramalyze/bin/jpgs/users/senabrew/11208050_851276828280639_1855862871_n.jpg',\n",
       "  u'/home/will/code/Instagramalyze/bin/jpgs/users/senabrew/11262768_429697153891602_1286654004_n.jpg',\n",
       "  u'/home/will/code/Instagramalyze/bin/jpgs/users/senabrew/11263656_479834188832568_438790494_n.jpg',\n",
       "  u'/home/will/code/Instagramalyze/bin/jpgs/users/senabrew/11311185_438605799652729_1599422568_n.jpg',\n",
       "  u'/home/will/code/Instagramalyze/bin/jpgs/users/senabrew/11312093_688763994586598_1258373926_n.jpg',\n",
       "  u'/home/will/code/Instagramalyze/bin/jpgs/users/senabrew/11313625_929337263774856_933582140_n.jpg',\n",
       "  u'/home/will/code/Instagramalyze/bin/jpgs/users/senabrew/11325411_851376964951169_1696661383_n.jpg',\n",
       "  u'/home/will/code/Instagramalyze/bin/jpgs/users/senabrew/11326272_899365310156571_1054540293_n.jpg',\n",
       "  u'/home/will/code/Instagramalyze/bin/jpgs/users/senabrew/11326621_828036073953360_1554761988_n.jpg',\n",
       "  u'/home/will/code/Instagramalyze/bin/jpgs/users/senabrew/11327045_789497687836662_845326557_n.jpg',\n",
       "  u'/home/will/code/Instagramalyze/bin/jpgs/users/senabrew/11349149_817967118334373_2046051697_n.jpg',\n",
       "  u'/home/will/code/Instagramalyze/bin/jpgs/users/senabrew/11352895_827598693984350_1449068257_n.jpg',\n",
       "  u'/home/will/code/Instagramalyze/bin/jpgs/users/senabrew/11356624_868743673179499_1701999421_n.jpg',\n",
       "  u'/home/will/code/Instagramalyze/bin/jpgs/users/senabrew/11356631_861896447224159_684239544_n.jpg',\n",
       "  u'/home/will/code/Instagramalyze/bin/jpgs/users/senabrew/11372241_852630518153178_54356019_n.jpg',\n",
       "  u'/home/will/code/Instagramalyze/bin/jpgs/users/senabrew/11373880_596529750486080_485334594_n.jpg',\n",
       "  u'/home/will/code/Instagramalyze/bin/jpgs/users/senabrew/11374234_1586776101594769_1388305379_n.jpg',\n",
       "  u'/home/will/code/Instagramalyze/bin/jpgs/users/senabrew/11375257_1465098323796968_1257523983_n.jpg',\n",
       "  u'/home/will/code/Instagramalyze/bin/jpgs/users/senabrew/11376038_392913917563181_108845017_n.jpg',\n",
       "  u'/home/will/code/Instagramalyze/bin/jpgs/users/senabrew/11378741_795613590545673_2058133137_n.jpg',\n",
       "  u'/home/will/code/Instagramalyze/bin/jpgs/users/senabrew/11420809_1131122090231530_1525347823_n.jpg',\n",
       "  u'/home/will/code/Instagramalyze/bin/jpgs/users/senabrew/11427368_1600636590204906_1867138766_n.jpg',\n",
       "  u'/home/will/code/Instagramalyze/bin/jpgs/users/senabrew/11809602_880495775331290_2001226584_n.jpg',\n",
       "  u'/home/will/code/Instagramalyze/bin/jpgs/users/senabrew/11821261_915166868566880_1291860655_n.jpg',\n",
       "  u'/home/will/code/Instagramalyze/bin/jpgs/users/senabrew/11821281_682275168576520_1570958051_n.jpg',\n",
       "  u'/home/will/code/Instagramalyze/bin/jpgs/users/senabrew/11856655_889519201137189_1367007317_n.jpg',\n",
       "  u'/home/will/code/Instagramalyze/bin/jpgs/users/senabrew/11906405_1662249877327436_1566318586_n.jpg',\n",
       "  u'/home/will/code/Instagramalyze/bin/jpgs/users/senabrew/11917745_152855765051586_1038516858_n.jpg',\n",
       "  u'/home/will/code/Instagramalyze/bin/jpgs/users/senabrew/11931236_444790419057592_1566661300_n.jpg',\n",
       "  u'/home/will/code/Instagramalyze/bin/jpgs/users/senabrew/1515206_450193738462719_392394103_n.jpg',\n",
       "  u'/home/will/code/Instagramalyze/bin/jpgs/users/senabrew/1971408_1556092214627585_315064792_n.jpg',\n",
       "  u'/home/will/code/Instagramalyze/bin/jpgs/users/senabrew/924458_1383017311999167_153164854_n.jpg',\n",
       "  u'/home/will/code/Instagramalyze/bin/jpgs/users/senabrew/926528_1387792144863003_215848738_n.jpg'],\n",
       " u'scene_category_counts': {u'indoor': 28,\n",
       "  u'outdoor_mm': 26,\n",
       "  u'outdoor_n': 19},\n",
       " u'scene_confidence': [0.7271639302586465,\n",
       "  0.9275737121926377,\n",
       "  0.9930500472918881,\n",
       "  0.9462333115537545,\n",
       "  0.9841039550735975,\n",
       "  0.9093796674111312,\n",
       "  0.8200554104466669,\n",
       "  0.958956328866159,\n",
       "  0.883145268329479,\n",
       "  0.9297996342843097,\n",
       "  0.839522360420737,\n",
       "  0.759936620692489,\n",
       "  0.9779433657658019,\n",
       "  0.8337350910927417,\n",
       "  0.934552883951836,\n",
       "  0.686986224925266,\n",
       "  0.39076424174015284,\n",
       "  0.9442484200081653,\n",
       "  0.837624463007357,\n",
       "  0.9437612582916547,\n",
       "  0.9802649043961024,\n",
       "  0.8038348459092799,\n",
       "  0.6883940367808775,\n",
       "  0.6761537682997938,\n",
       "  0.9803494177999797,\n",
       "  0.8340750738717673,\n",
       "  0.9905237902890066,\n",
       "  0.965772737410578,\n",
       "  0.8934321255863273,\n",
       "  0.5786342182954873,\n",
       "  0.984772271190675,\n",
       "  0.9277216887131254,\n",
       "  0.7974056463978744,\n",
       "  0.7135514560261212,\n",
       "  0.8216692379848956,\n",
       "  0.9268146754668714,\n",
       "  0.5765279399170677,\n",
       "  0.9990292968859027,\n",
       "  0.622839473330122,\n",
       "  0.9387236381332522,\n",
       "  0.5189456563990069,\n",
       "  0.5030123556048866,\n",
       "  0.8992446705498655,\n",
       "  0.5132675238722211,\n",
       "  0.5162696450007463,\n",
       "  0.7095893421232352,\n",
       "  0.5387041077211094,\n",
       "  0.9832248115901335,\n",
       "  0.9645975062195804,\n",
       "  0.7897085538527129,\n",
       "  0.7045700512268218,\n",
       "  0.9781247541041481,\n",
       "  0.5985377509906373,\n",
       "  0.97909629222236,\n",
       "  0.8273587360111438,\n",
       "  0.7279331398439817,\n",
       "  0.9956555872161793,\n",
       "  0.9197869235373406,\n",
       "  0.8367583484852462,\n",
       "  0.9464741370197252,\n",
       "  0.5388431244849498,\n",
       "  0.9800637017022308,\n",
       "  0.4819794488579259,\n",
       "  0.6446960409182668,\n",
       "  0.5102961813595127,\n",
       "  0.602752563421435,\n",
       "  0.7671414379549064,\n",
       "  0.9175219559739325,\n",
       "  0.6355964934407102,\n",
       "  0.9688535572075854,\n",
       "  0.5578327534834531,\n",
       "  0.7293652671178424,\n",
       "  0.9439679461462372],\n",
       " u'scene_predictions': [u'outdoor_n',\n",
       "  u'indoor',\n",
       "  u'outdoor_n',\n",
       "  u'outdoor_n',\n",
       "  u'outdoor_mm',\n",
       "  u'outdoor_n',\n",
       "  u'outdoor_n',\n",
       "  u'outdoor_mm',\n",
       "  u'indoor',\n",
       "  u'indoor',\n",
       "  u'outdoor_mm',\n",
       "  u'outdoor_mm',\n",
       "  u'outdoor_mm',\n",
       "  u'indoor',\n",
       "  u'outdoor_n',\n",
       "  u'indoor',\n",
       "  u'indoor',\n",
       "  u'indoor',\n",
       "  u'outdoor_mm',\n",
       "  u'outdoor_n',\n",
       "  u'outdoor_n',\n",
       "  u'outdoor_mm',\n",
       "  u'indoor',\n",
       "  u'outdoor_mm',\n",
       "  u'outdoor_mm',\n",
       "  u'outdoor_mm',\n",
       "  u'outdoor_n',\n",
       "  u'outdoor_mm',\n",
       "  u'indoor',\n",
       "  u'outdoor_mm',\n",
       "  u'indoor',\n",
       "  u'indoor',\n",
       "  u'outdoor_mm',\n",
       "  u'outdoor_mm',\n",
       "  u'outdoor_mm',\n",
       "  u'outdoor_mm',\n",
       "  u'indoor',\n",
       "  u'outdoor_mm',\n",
       "  u'indoor',\n",
       "  u'outdoor_n',\n",
       "  u'indoor',\n",
       "  u'outdoor_mm',\n",
       "  u'outdoor_n',\n",
       "  u'indoor',\n",
       "  u'outdoor_mm',\n",
       "  u'outdoor_n',\n",
       "  u'outdoor_n',\n",
       "  u'indoor',\n",
       "  u'outdoor_mm',\n",
       "  u'outdoor_n',\n",
       "  u'indoor',\n",
       "  u'outdoor_n',\n",
       "  u'outdoor_mm',\n",
       "  u'outdoor_n',\n",
       "  u'indoor',\n",
       "  u'outdoor_mm',\n",
       "  u'outdoor_mm',\n",
       "  u'indoor',\n",
       "  u'outdoor_n',\n",
       "  u'indoor',\n",
       "  u'indoor',\n",
       "  u'outdoor_mm',\n",
       "  u'outdoor_mm',\n",
       "  u'outdoor_n',\n",
       "  u'indoor',\n",
       "  u'outdoor_mm',\n",
       "  u'indoor',\n",
       "  u'indoor',\n",
       "  u'indoor',\n",
       "  u'indoor',\n",
       "  u'indoor',\n",
       "  u'indoor',\n",
       "  u'outdoor_n'],\n",
       " u'scene_top_count': u'indoor'}"
      ]
     },
     "execution_count": 158,
     "metadata": {},
     "output_type": "execute_result"
    }
   ],
   "source": [
    "user_data['senabrew']"
   ]
  },
  {
   "cell_type": "code",
   "execution_count": 25,
   "metadata": {
    "collapsed": true
   },
   "outputs": [],
   "source": [
    "image_path = '../bin/jpgs/categories/'\n",
    "npy_path = '../bin/npys/categories/'\n",
    "caffe_classify_path = '../../caffe/python/classify.py'\n",
    "\n",
    "\n"
   ]
  },
  {
   "cell_type": "code",
   "execution_count": 30,
   "metadata": {
    "collapsed": true
   },
   "outputs": [],
   "source": [
    "cat_folders = os.listdir(image_path)"
   ]
  },
  {
   "cell_type": "code",
   "execution_count": 31,
   "metadata": {
    "collapsed": false
   },
   "outputs": [
    {
     "data": {
      "text/plain": [
       "['scene', 'activity']"
      ]
     },
     "execution_count": 31,
     "metadata": {},
     "output_type": "execute_result"
    }
   ],
   "source": [
    "cat_folders\n"
   ]
  },
  {
   "cell_type": "code",
   "execution_count": 32,
   "metadata": {
    "collapsed": true
   },
   "outputs": [],
   "source": [
    "stream = os.popen('ls ' + image_path)\n",
    "cat_folders2 = stream.read().split()"
   ]
  },
  {
   "cell_type": "raw",
   "metadata": {},
   "source": []
  },
  {
   "cell_type": "code",
   "execution_count": null,
   "metadata": {
    "collapsed": true
   },
   "outputs": [],
   "source": []
  }
 ],
 "metadata": {
  "kernelspec": {
   "display_name": "Python 2",
   "language": "python",
   "name": "python2"
  },
  "language_info": {
   "codemirror_mode": {
    "name": "ipython",
    "version": 2
   },
   "file_extension": ".py",
   "mimetype": "text/x-python",
   "name": "python",
   "nbconvert_exporter": "python",
   "pygments_lexer": "ipython2",
   "version": "2.7.10"
  }
 },
 "nbformat": 4,
 "nbformat_minor": 0
}
