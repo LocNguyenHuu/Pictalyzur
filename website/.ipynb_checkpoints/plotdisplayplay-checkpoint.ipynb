{
 "cells": [
  {
   "cell_type": "code",
   "execution_count": 9,
   "metadata": {
    "collapsed": true
   },
   "outputs": [],
   "source": [
    "import matplotlib.pyplot as plt\n",
    "%matplotlib inline\n",
    "plt.style.use('ggplot')\n",
    "import os\n",
    "import json\n",
    "\n"
   ]
  },
  {
   "cell_type": "code",
   "execution_count": 10,
   "metadata": {
    "collapsed": false
   },
   "outputs": [
    {
     "name": "stdout",
     "output_type": "stream",
     "text": [
      "app.py              \u001b[0m\u001b[01;34mfonts\u001b[0m/   \u001b[01;32mLICENSE\u001b[0m*    \u001b[01;34mtemplates\u001b[0m/       webinterface.py~\r\n",
      "\u001b[01;34mBootStarter_files\u001b[0m/  \u001b[01;34mimages\u001b[0m/  \u001b[01;32mREADME.md\u001b[0m*  Untitled.ipynb\r\n",
      "\u001b[01;34mcss\u001b[0m/                \u001b[01;34mjs\u001b[0m/      \u001b[01;34mstatic\u001b[0m/     webinterface.py\r\n"
     ]
    }
   ],
   "source": [
    "ls\n"
   ]
  },
  {
   "cell_type": "code",
   "execution_count": 12,
   "metadata": {
    "collapsed": false
   },
   "outputs": [],
   "source": [
    "    image_path = '/home/will/code/Instagramalyze/bin/jpgs/users/'\n",
    "\n",
    "    os.system(' '.join(['python /home/will/code/Instagramalyze/process_user/PredictUser.py', 'senabrew']))\n",
    "\n",
    "    with open('../bin/stats/user_stats.json') as data_file: \n",
    "        user_data = json.load(data_file)"
   ]
  },
  {
   "cell_type": "code",
   "execution_count": null,
   "metadata": {
    "collapsed": true
   },
   "outputs": [],
   "source": [
    "\n",
    "with open(classifier_path+'labels_logit.csv', 'r') as myfile:\n",
    "    csv_reader = csv.reader(myfile)\n",
    "    categories = list(csv_reader)[0]"
   ]
  },
  {
   "cell_type": "code",
   "execution_count": 25,
   "metadata": {
    "collapsed": false
   },
   "outputs": [
    {
     "data": {
      "text/plain": [
       "<Container object of 12 artists>"
      ]
     },
     "execution_count": 25,
     "metadata": {},
     "output_type": "execute_result"
    },
    {
     "data": {
      "image/png": "[encoded data removed]",
      "text/plain": [
       "<matplotlib.figure.Figure at 0x7f6fd7731a50>"
      ]
     },
     "metadata": {},
     "output_type": "display_data"
    }
   ],
   "source": [
    "plt.bar(range(12),user_data['senabrew']['category_counts'].values())\n",
    "ax3.set_xticks(x+width)\n",
    "ax3.set_xticklabels(['a', 'b', 'c', 'd', 'e'])"
   ]
  },
  {
   "cell_type": "code",
   "execution_count": null,
   "metadata": {
    "collapsed": true
   },
   "outputs": [],
   "source": []
  }
 ],
 "metadata": {
  "kernelspec": {
   "display_name": "Python 2",
   "language": "python",
   "name": "python2"
  },
  "language_info": {
   "codemirror_mode": {
    "name": "ipython",
    "version": 2
   },
   "file_extension": ".py",
   "mimetype": "text/x-python",
   "name": "python",
   "nbconvert_exporter": "python",
   "pygments_lexer": "ipython2",
   "version": "2.7.10"
  }
 },
 "nbformat": 4,
 "nbformat_minor": 0
}
