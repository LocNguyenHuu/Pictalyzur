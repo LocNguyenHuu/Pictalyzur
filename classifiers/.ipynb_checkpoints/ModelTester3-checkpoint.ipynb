{
 "cells": [
  {
   "cell_type": "code",
   "execution_count": 5,
   "metadata": {
    "collapsed": true
   },
   "outputs": [],
   "source": [
    "from sklearn.svm import SVC\n",
    "from sklearn.linear_model import LogisticRegression\n",
    "from sklearn.ensemble import RandomForestClassifier\n",
    "from sklearn.ensemble import GradientBoostingClassifier\n",
    "from sklearn.cross_validation import cross_val_score\n",
    "from sklearn.grid_search import GridSearchCV\n",
    "import numpy as np\n",
    "from sklearn.cross_validation import train_test_split, cross_val_score\n",
    "import cPickle as pickle\n",
    "from PIL import Image\n",
    "from sklearn.decomposition import PCA\n",
    "from sklearn.decomposition import TruncatedSVD\n",
    "from matplotlib.pyplot import imshow\n",
    "from sklearn.linear_model import ElasticNet\n",
    "%matplotlib inline"
   ]
  },
  {
   "cell_type": "code",
   "execution_count": 6,
   "metadata": {
    "collapsed": false
   },
   "outputs": [],
   "source": [
    "!$echo ls ../bin/npys/categories/activity/ > act_list.txt"
   ]
  },
  {
   "cell_type": "code",
   "execution_count": 7,
   "metadata": {
    "collapsed": true
   },
   "outputs": [],
   "source": [
    "!$echo ls ../bin/npys/categories/scene/ > scn_list.txt"
   ]
  },
  {
   "cell_type": "code",
   "execution_count": 8,
   "metadata": {
    "collapsed": false
   },
   "outputs": [],
   "source": [
    "np_lst = pd.read_csv('act_list.txt', header=None)[0].values"
   ]
  },
  {
   "cell_type": "code",
   "execution_count": 9,
   "metadata": {
    "collapsed": false
   },
   "outputs": [
    {
     "data": {
      "text/plain": [
       "array(['biking_a.npy', 'biking_b.npy', 'biking_c.npy', 'biking_d.npy',\n",
       "       'cooking_a.npy', 'cooking_b.npy', 'cooking_c.npy', 'cooking_d.npy',\n",
       "       'cooking_e.npy', 'fashion_a.npy', 'fashion_b.npy', 'fashion_c.npy',\n",
       "       'fitness_a.npy', 'fitness_b.npy', 'gardening_a.npy',\n",
       "       'gardening_b.npy', 'gardening_c.npy', 'gardening_d.npy',\n",
       "       'gardening_e.npy', 'hiking_a.npy', 'hiking_b.npy', 'hiking_c.npy',\n",
       "       'hunting_fishing_a.npy', 'hunting_fishing_b.npy',\n",
       "       'hunting_fishing_c.npy', 'hunting_fishing_d.npy',\n",
       "       'hunting_fishing_e.npy', 'hunting_fishing_f.npy', 'kids_a.npy',\n",
       "       'kids_b.npy', 'kids_c.npy', 'kids_d.npy', 'kids_e.npy',\n",
       "       'other_a.npy', 'other_b.npy', 'other_c.npy', 'other_d.npy',\n",
       "       'other_e.npy', 'other_f.npy', 'other_g.npy', 'pets_a.npy',\n",
       "       'pets_b.npy', 'pets_c.npy', 'pets_d.npy', 'social_out_a.npy',\n",
       "       'social_out_b.npy', 'social_out_c.npy', 'social_out_d.npy',\n",
       "       'social_out_f.npy', 'summer_fun_a.npy', 'summer_fun_b.npy',\n",
       "       'summer_fun_c.npy', 'winter_sports_a.npy', 'winter_sports_b.npy',\n",
       "       'winter_sports_c.npy', 'winter_sports_d.npy'], dtype=object)"
      ]
     },
     "execution_count": 9,
     "metadata": {},
     "output_type": "execute_result"
    }
   ],
   "source": [
    "np_lst"
   ]
  },
  {
   "cell_type": "code",
   "execution_count": 12,
   "metadata": {
    "collapsed": false
   },
   "outputs": [],
   "source": [
    "np_path = '../bin/npys/categories/activity/'\n",
    "feat_array = []\n",
    "for i, feats in enumerate(np_lst):\n",
    "    if '_a' in feats:\n",
    "        feat_array.append(np.load(np_path+feats))\n",
    "    else:\n",
    "        feat_array[-1] = np.vstack([feat_array[-1], np.load(np_path+feats)])"
   ]
  },
  {
   "cell_type": "code",
   "execution_count": 13,
   "metadata": {
    "collapsed": false
   },
   "outputs": [
    {
     "data": {
      "text/plain": [
       "2492"
      ]
     },
     "execution_count": 13,
     "metadata": {},
     "output_type": "execute_result"
    }
   ],
   "source": [
    "len(feat_array[0])"
   ]
  },
  {
   "cell_type": "code",
   "execution_count": 14,
   "metadata": {
    "collapsed": false
   },
   "outputs": [],
   "source": [
    "label_lst = []\n",
    "for i, feats in enumerate(feat_array):\n",
    "    label_lst.append(i*np.ones(len(feats)))\n",
    "\n",
    "labels = np.hstack(label_lst)"
   ]
  },
  {
   "cell_type": "code",
   "execution_count": 15,
   "metadata": {
    "collapsed": false
   },
   "outputs": [],
   "source": [
    "features = np.vstack(feat_array)"
   ]
  },
  {
   "cell_type": "code",
   "execution_count": 16,
   "metadata": {
    "collapsed": false
   },
   "outputs": [
    {
     "data": {
      "text/plain": [
       "(36110, 4096)"
      ]
     },
     "execution_count": 16,
     "metadata": {},
     "output_type": "execute_result"
    }
   ],
   "source": [
    "features.shape"
   ]
  },
  {
   "cell_type": "code",
   "execution_count": 17,
   "metadata": {
    "collapsed": false
   },
   "outputs": [
    {
     "data": {
      "text/plain": [
       "(36110,)"
      ]
     },
     "execution_count": 17,
     "metadata": {},
     "output_type": "execute_result"
    }
   ],
   "source": [
    "labels.shape"
   ]
  },
  {
   "cell_type": "code",
   "execution_count": 18,
   "metadata": {
    "collapsed": true
   },
   "outputs": [],
   "source": [
    "X = features\n",
    "y = labels"
   ]
  },
  {
   "cell_type": "code",
   "execution_count": 21,
   "metadata": {
    "collapsed": false
   },
   "outputs": [],
   "source": [
    "X_train, X_test, y_train, y_test = train_test_split(X, y, train_size=36109, random_state=10)"
   ]
  },
  {
   "cell_type": "code",
   "execution_count": 29,
   "metadata": {
    "collapsed": false
   },
   "outputs": [
    {
     "data": {
      "text/plain": [
       "1.5806285e+08"
      ]
     },
     "execution_count": 29,
     "metadata": {},
     "output_type": "execute_result"
    }
   ],
   "source": [
    "X.sum()"
   ]
  },
  {
   "cell_type": "code",
   "execution_count": 30,
   "metadata": {
    "collapsed": false
   },
   "outputs": [
    {
     "data": {
      "text/plain": [
       "1.5805886e+08"
      ]
     },
     "execution_count": 30,
     "metadata": {},
     "output_type": "execute_result"
    }
   ],
   "source": [
    "X_train.sum()"
   ]
  },
  {
   "cell_type": "code",
   "execution_count": 31,
   "metadata": {
    "collapsed": false
   },
   "outputs": [
    {
     "data": {
      "text/plain": [
       "array([[ 3.06725836,  0.        ,  3.44332123, ...,  0.        ,\n",
       "         0.03779273,  0.        ]], dtype=float32)"
      ]
     },
     "execution_count": 31,
     "metadata": {},
     "output_type": "execute_result"
    }
   ],
   "source": [
    "X_test"
   ]
  },
  {
   "cell_type": "code",
   "execution_count": 61,
   "metadata": {
    "collapsed": true
   },
   "outputs": [],
   "source": [
    "mod_logit = LogisticRegression()"
   ]
  },
  {
   "cell_type": "code",
   "execution_count": 62,
   "metadata": {
    "collapsed": false
   },
   "outputs": [
    {
     "name": "stdout",
     "output_type": "stream",
     "text": [
      "0.939622093369\n"
     ]
    }
   ],
   "source": [
    "score_lst = []\n",
    "score_lst.append(cross_val_score(mod_logit, X_train, y_train))\n",
    "print np.array(score_lst).mean()    "
   ]
  },
  {
   "cell_type": "code",
   "execution_count": 32,
   "metadata": {
    "collapsed": true
   },
   "outputs": [],
   "source": [
    "mod_logit = LogisticRegression(C=0.001)"
   ]
  },
  {
   "cell_type": "code",
   "execution_count": null,
   "metadata": {
    "collapsed": false
   },
   "outputs": [],
   "source": [
    "score_lst = []\n",
    "score_lst.append(cross_val_score(mod_logit, X, y))\n",
    "print np.array(score_lst).mean()    "
   ]
  },
  {
   "cell_type": "code",
   "execution_count": null,
   "metadata": {
    "collapsed": true
   },
   "outputs": [],
   "source": [
    "mod_logit = LogisticRegression(penalty='l1', C=0.00001)"
   ]
  },
  {
   "cell_type": "code",
   "execution_count": null,
   "metadata": {
    "collapsed": false
   },
   "outputs": [],
   "source": [
    "score_lst = []\n",
    "score_lst.append(cross_val_score(mod_logit, X, y))\n",
    "print np.array(score_lst).mean() "
   ]
  },
  {
   "cell_type": "code",
   "execution_count": null,
   "metadata": {
    "collapsed": false
   },
   "outputs": [],
   "source": [
    "# fitted_logit = mod_logit.fit(X, y)"
   ]
  },
  {
   "cell_type": "code",
   "execution_count": 25,
   "metadata": {
    "collapsed": false
   },
   "outputs": [],
   "source": [
    "mod_pca = TruncatedSVD(n_components=250)"
   ]
  },
  {
   "cell_type": "code",
   "execution_count": 34,
   "metadata": {
    "collapsed": false
   },
   "outputs": [],
   "source": [
    "fit_pca = mod_pca.fit_transform(X)"
   ]
  },
  {
   "cell_type": "code",
   "execution_count": 35,
   "metadata": {
    "collapsed": false
   },
   "outputs": [
    {
     "data": {
      "text/plain": [
       "(36110, 250)"
      ]
     },
     "execution_count": 35,
     "metadata": {},
     "output_type": "execute_result"
    }
   ],
   "source": [
    "fit_pca.shape"
   ]
  },
  {
   "cell_type": "code",
   "execution_count": 36,
   "metadata": {
    "collapsed": false
   },
   "outputs": [
    {
     "name": "stdout",
     "output_type": "stream",
     "text": [
      "0.756222220403\n"
     ]
    }
   ],
   "source": [
    "score_lst = []\n",
    "score_lst.append(cross_val_score(mod_logit, fit_pca, y))\n",
    "print np.array(score_lst).mean()  "
   ]
  },
  {
   "cell_type": "code",
   "execution_count": null,
   "metadata": {
    "collapsed": false
   },
   "outputs": [],
   "source": [
    "with  open(\"mod_logit.pkl\", 'w') as f:\n",
    "    pickle.dump(fitted_logit, f)"
   ]
  },
  {
   "cell_type": "code",
   "execution_count": null,
   "metadata": {
    "collapsed": false
   },
   "outputs": [],
   "source": [
    "with open('mod_logit.pkl') as m_un:\n",
    "    flp = pickle.load(m_un)"
   ]
  },
  {
   "cell_type": "code",
   "execution_count": null,
   "metadata": {
    "collapsed": false
   },
   "outputs": [],
   "source": [
    "import glob"
   ]
  },
  {
   "cell_type": "code",
   "execution_count": null,
   "metadata": {
    "collapsed": false
   },
   "outputs": [],
   "source": [
    "cats = ['biking', 'cooking','fashion','fitness', \n",
    "       'gardening', 'hiking',\n",
    "        'hunting_fishing', \n",
    "       'kids',  'pets', \n",
    "       'social_out',  'summer_fun',\n",
    "        'winter_sports']"
   ]
  },
  {
   "cell_type": "code",
   "execution_count": null,
   "metadata": {
    "collapsed": false
   },
   "outputs": [],
   "source": [
    "name_lst = sorted([im_f for im_f in glob.glob('../UserPhotos/marekduda13/*.jpg')])\n",
    "\n",
    "# for i, image in enumerate(name_lst):\n",
    "#     print cats[int(preds[i])]+': '+str(conf[i])\n",
    "#     pil_im = Image.open(image, 'r')\n",
    "#     imshow(np.asarray(pil_im))\n",
    "#     plt.show()\n",
    "    \n"
   ]
  },
  {
   "cell_type": "code",
   "execution_count": null,
   "metadata": {
    "collapsed": false
   },
   "outputs": [],
   "source": [
    "sorted([im_f for im_f in glob.glob('../bin/jpgs/users/marekduda13/*.jpg')])"
   ]
  },
  {
   "cell_type": "code",
   "execution_count": null,
   "metadata": {
    "collapsed": false
   },
   "outputs": [],
   "source": [
    "preds = flp.predict(np.load('../bin/npys/users/marekduda13.npy'))"
   ]
  },
  {
   "cell_type": "code",
   "execution_count": null,
   "metadata": {
    "collapsed": false
   },
   "outputs": [],
   "source": [
    "conf = flp.predict_proba(np.load('../bin/npys/users/marekduda13.npy')).max(axis=1)"
   ]
  },
  {
   "cell_type": "code",
   "execution_count": null,
   "metadata": {
    "collapsed": false
   },
   "outputs": [],
   "source": [
    "flp.predict_proba(np.load('../bin/npys/users/marekduda13.npy')).max(axis=1)"
   ]
  },
  {
   "cell_type": "code",
   "execution_count": null,
   "metadata": {
    "collapsed": false
   },
   "outputs": [],
   "source": [
    "flp.predict_proba(np.load('../bin/npys/users/marekduda13.npy')).sum(axis=0)"
   ]
  },
  {
   "cell_type": "code",
   "execution_count": null,
   "metadata": {
    "collapsed": false
   },
   "outputs": [],
   "source": [
    "preds_c = [cats[int(pred)] for pred in preds]\n",
    "cat_dict = dict([(cat, preds_c.count(cat)) for cat in cats]) "
   ]
  },
  {
   "cell_type": "code",
   "execution_count": null,
   "metadata": {
    "collapsed": true
   },
   "outputs": [],
   "source": [
    " with open(\"foo.txt\", \"a\") as f:\n",
    "     f.write(\"new line\\n\")"
   ]
  },
  {
   "cell_type": "code",
   "execution_count": null,
   "metadata": {
    "collapsed": false
   },
   "outputs": [],
   "source": [
    "flp.predict(np.load('senabrew_modded.npy'))"
   ]
  },
  {
   "cell_type": "code",
   "execution_count": null,
   "metadata": {
    "collapsed": false
   },
   "outputs": [],
   "source": [
    "mod_RF = RandomForestClassifier(n_estimators=300)"
   ]
  },
  {
   "cell_type": "code",
   "execution_count": null,
   "metadata": {
    "collapsed": false
   },
   "outputs": [],
   "source": [
    "score_lst = []\n",
    "score_lst.append(cross_val_score(mod_RF, X, y))\n",
    "print np.array(score_lst).mean()  "
   ]
  },
  {
   "cell_type": "code",
   "execution_count": null,
   "metadata": {
    "collapsed": false
   },
   "outputs": [],
   "source": [
    "mod_svm = SVC(kernel='linear')"
   ]
  },
  {
   "cell_type": "code",
   "execution_count": null,
   "metadata": {
    "collapsed": false
   },
   "outputs": [],
   "source": [
    "score_lst = []\n",
    "score_lst.append(cross_val_score(mod_svm, X, y))\n",
    "print np.array(score_lst).mean() "
   ]
  },
  {
   "cell_type": "code",
   "execution_count": null,
   "metadata": {
    "collapsed": false
   },
   "outputs": [],
   "source": [
    "score_lst = []\n",
    "score_lst.append(cross_val_score(mod_RF, fit_pca, y))\n",
    "print np.array(score_lst).mean()  "
   ]
  },
  {
   "cell_type": "code",
   "execution_count": null,
   "metadata": {
    "collapsed": true
   },
   "outputs": [],
   "source": [
    "mod_gbc = GradientBoostingClassifier()"
   ]
  },
  {
   "cell_type": "code",
   "execution_count": null,
   "metadata": {
    "collapsed": false
   },
   "outputs": [],
   "source": [
    "# score_lst = []\n",
    "# score_lst.append(cross_val_score(mod_gbc, X, y))\n",
    "# print np.array(score_lst).mean() "
   ]
  },
  {
   "cell_type": "code",
   "execution_count": null,
   "metadata": {
    "collapsed": false
   },
   "outputs": [],
   "source": [
    "score_lst = []\n",
    "score_lst.append(cross_val_score(mod_logit, X, y,scoring='mean_squared_error') )\n",
    "print np.array(score_lst).mean() "
   ]
  },
  {
   "cell_type": "code",
   "execution_count": null,
   "metadata": {
    "collapsed": false
   },
   "outputs": [],
   "source": [
    "score_lst = []\n",
    "score_lst.append(cross_val_score(mod_svm, X, y,scoring='mean_squared_error') )\n",
    "print np.array(score_lst).mean() "
   ]
  },
  {
   "cell_type": "code",
   "execution_count": null,
   "metadata": {
    "collapsed": true
   },
   "outputs": [],
   "source": [
    "import csv"
   ]
  },
  {
   "cell_type": "code",
   "execution_count": null,
   "metadata": {
    "collapsed": false
   },
   "outputs": [],
   "source": [
    "with open('../bin/stats/users.csv', 'r') as myfile:\n",
    "    categories = csv.reader(myfile)\n",
    "    xer = list(categories).flatten()"
   ]
  },
  {
   "cell_type": "code",
   "execution_count": null,
   "metadata": {
    "collapsed": false
   },
   "outputs": [],
   "source": [
    "xer"
   ]
  },
  {
   "cell_type": "code",
   "execution_count": null,
   "metadata": {
    "collapsed": true
   },
   "outputs": [],
   "source": [
    "with open('../bin/stats/all_users.pkl') as m_un:\n",
    "    all_users = pickle.load(m_un)"
   ]
  },
  {
   "cell_type": "code",
   "execution_count": null,
   "metadata": {
    "collapsed": false
   },
   "outputs": [],
   "source": [
    "all_users"
   ]
  },
  {
   "cell_type": "code",
   "execution_count": null,
   "metadata": {
    "collapsed": true
   },
   "outputs": [],
   "source": []
  }
 ],
 "metadata": {
  "kernelspec": {
   "display_name": "Python 2",
   "language": "python",
   "name": "python2"
  },
  "language_info": {
   "codemirror_mode": {
    "name": "ipython",
    "version": 2
   },
   "file_extension": ".py",
   "mimetype": "text/x-python",
   "name": "python",
   "nbconvert_exporter": "python",
   "pygments_lexer": "ipython2",
   "version": "2.7.10"
  }
 },
 "nbformat": 4,
 "nbformat_minor": 0
}
