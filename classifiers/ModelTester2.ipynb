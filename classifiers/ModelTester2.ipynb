{
 "cells": [
  {
   "cell_type": "code",
   "execution_count": 1,
   "metadata": {
    "collapsed": true
   },
   "outputs": [],
   "source": [
    "from sklearn.svm import SVC\n",
    "from sklearn.linear_model import LogisticRegression\n",
    "from sklearn.ensemble import RandomForestClassifier\n",
    "from sklearn.ensemble import GradientBoostingClassifier\n",
    "from sklearn.cross_validation import cross_val_score\n",
    "from sklearn.grid_search import GridSearchCV\n",
    "import numpy as np\n",
    "import pandas as pd\n",
    "from sklearn.cross_validation import train_test_split, cross_val_score\n",
    "import cPickle as pickle\n",
    "from PIL import Image\n",
    "from sklearn.decomposition import PCA\n",
    "from sklearn.decomposition import TruncatedSVD\n",
    "from matplotlib.pyplot import imshow\n",
    "%matplotlib inline"
   ]
  },
  {
   "cell_type": "code",
   "execution_count": null,
   "metadata": {
    "collapsed": true
   },
   "outputs": [],
   "source": []
  },
  {
   "cell_type": "code",
   "execution_count": 2,
   "metadata": {
    "collapsed": false
   },
   "outputs": [],
   "source": [
    "np_lst = pd.read_csv('no_list2.txt', header=None)[0].values"
   ]
  },
  {
   "cell_type": "code",
   "execution_count": 3,
   "metadata": {
    "collapsed": false
   },
   "outputs": [
    {
     "data": {
      "text/plain": [
       "array(['biking_a.npy', 'biking_b.npy', 'biking_c.npy', 'biking_d.npy',\n",
       "       'cooking_a.npy', 'cooking_b.npy', 'cooking_c.npy', 'cooking_d.npy',\n",
       "       'cooking_e.npy', 'fashion_a.npy', 'fashion_b.npy', 'fashion_c.npy',\n",
       "       'fitness_a.npy', 'fitness_b.npy', 'gardening_a.npy',\n",
       "       'gardening_b.npy', 'gardening_c.npy', 'gardening_d.npy',\n",
       "       'gardening_e.npy', 'hiking_a.npy', 'hiking_b.npy', 'hiking_c.npy',\n",
       "       'hunting_fishing_a.npy', 'hunting_fishing_b.npy',\n",
       "       'hunting_fishing_c.npy', 'hunting_fishing_d.npy',\n",
       "       'hunting_fishing_e.npy', 'hunting_fishing_f.npy', 'kids_a.npy',\n",
       "       'kids_b.npy', 'kids_c.npy', 'kids_d.npy', 'kids_e.npy',\n",
       "       'other_a.npy', 'other_b.npy', 'other_c.npy', 'other_d.npy',\n",
       "       'other_e.npy', 'other_f.npy', 'other_g.npy', 'pets_a.npy',\n",
       "       'pets_b.npy', 'pets_c.npy', 'pets_d.npy', 'social_out_a.npy',\n",
       "       'social_out_b.npy', 'social_out_c.npy', 'social_out_d.npy',\n",
       "       'social_out_f.npy', 'summer_fun_a.npy', 'summer_fun_b.npy',\n",
       "       'summer_fun_c.npy', 'winter_sports_a.npy', 'winter_sports_b.npy',\n",
       "       'winter_sports_c.npy', 'winter_sports_d.npy'], dtype=object)"
      ]
     },
     "execution_count": 3,
     "metadata": {},
     "output_type": "execute_result"
    }
   ],
   "source": [
    "np_lst"
   ]
  },
  {
   "cell_type": "code",
   "execution_count": 4,
   "metadata": {
    "collapsed": false
   },
   "outputs": [],
   "source": [
    "np_path = '../bin/npys/categories/'\n",
    "feat_array = []\n",
    "for i, feats in enumerate(np_lst):\n",
    "    if '_a' in feats:\n",
    "        feat_array.append(np.load(np_path+feats))\n",
    "    else:\n",
    "        feat_array[-1] = np.vstack([feat_array[-1], np.load(np_path+feats)])"
   ]
  },
  {
   "cell_type": "code",
   "execution_count": 5,
   "metadata": {
    "collapsed": false
   },
   "outputs": [
    {
     "data": {
      "text/plain": [
       "(2492, 4096)"
      ]
     },
     "execution_count": 5,
     "metadata": {},
     "output_type": "execute_result"
    }
   ],
   "source": [
    "feat_array[0].shape"
   ]
  },
  {
   "cell_type": "code",
   "execution_count": 6,
   "metadata": {
    "collapsed": false
   },
   "outputs": [],
   "source": [
    "label_lst = []\n",
    "for i, feats in enumerate(feat_array):\n",
    "    label_lst.append(i*np.ones(len(feats)))\n",
    "\n",
    "labels = np.hstack(label_lst)"
   ]
  },
  {
   "cell_type": "code",
   "execution_count": 7,
   "metadata": {
    "collapsed": false
   },
   "outputs": [],
   "source": [
    "features = np.vstack(feat_array)"
   ]
  },
  {
   "cell_type": "code",
   "execution_count": 8,
   "metadata": {
    "collapsed": false
   },
   "outputs": [
    {
     "data": {
      "text/plain": [
       "(36110, 4096)"
      ]
     },
     "execution_count": 8,
     "metadata": {},
     "output_type": "execute_result"
    }
   ],
   "source": [
    "features.shape"
   ]
  },
  {
   "cell_type": "code",
   "execution_count": 9,
   "metadata": {
    "collapsed": false
   },
   "outputs": [
    {
     "data": {
      "text/plain": [
       "(36110,)"
      ]
     },
     "execution_count": 9,
     "metadata": {},
     "output_type": "execute_result"
    }
   ],
   "source": [
    "labels.shape"
   ]
  },
  {
   "cell_type": "code",
   "execution_count": 10,
   "metadata": {
    "collapsed": true
   },
   "outputs": [],
   "source": [
    "X = features\n",
    "y = labels"
   ]
  },
  {
   "cell_type": "code",
   "execution_count": 11,
   "metadata": {
    "collapsed": true
   },
   "outputs": [],
   "source": [
    "X_train, X_test, y_train, y_test = train_test_split(X, y, train_size=0.8)"
   ]
  },
  {
   "cell_type": "code",
   "execution_count": 12,
   "metadata": {
    "collapsed": true
   },
   "outputs": [],
   "source": [
    "mod_logit = LogisticRegression()"
   ]
  },
  {
   "cell_type": "code",
   "execution_count": null,
   "metadata": {
    "collapsed": false
   },
   "outputs": [],
   "source": [
    "score_lst = []\n",
    "score_lst.append(cross_val_score(mod_logit, X, y))\n",
    "print np.array(score_lst).mean()    "
   ]
  },
  {
   "cell_type": "code",
   "execution_count": null,
   "metadata": {
    "collapsed": false
   },
   "outputs": [],
   "source": [
    "fitted_logit = mod_logit.fit(X, y)"
   ]
  },
  {
   "cell_type": "code",
   "execution_count": null,
   "metadata": {
    "collapsed": false
   },
   "outputs": [],
   "source": [
    "mod_pca = TruncatedSVD(n_components=175)"
   ]
  },
  {
   "cell_type": "code",
   "execution_count": null,
   "metadata": {
    "collapsed": false
   },
   "outputs": [],
   "source": [
    "fit_pca = mod_pca.fit_transform(X)"
   ]
  },
  {
   "cell_type": "code",
   "execution_count": null,
   "metadata": {
    "collapsed": false
   },
   "outputs": [],
   "source": [
    "fit_pca.shape"
   ]
  },
  {
   "cell_type": "code",
   "execution_count": null,
   "metadata": {
    "collapsed": false
   },
   "outputs": [],
   "source": [
    "score_lst = []\n",
    "score_lst.append(cross_val_score(mod_logit, fit_pca, y))\n",
    "print np.array(score_lst).mean()  "
   ]
  },
  {
   "cell_type": "code",
   "execution_count": null,
   "metadata": {
    "collapsed": false
   },
   "outputs": [],
   "source": [
    "with  open(\"mod_logit.pkl\", 'w') as f:\n",
    "    pickle.dump(fitted_logit, f)"
   ]
  },
  {
   "cell_type": "code",
   "execution_count": 6,
   "metadata": {
    "collapsed": false
   },
   "outputs": [],
   "source": [
    "with open('mod_logit.pkl') as m_un:\n",
    "    flp = pickle.load(m_un)"
   ]
  },
  {
   "cell_type": "code",
   "execution_count": 16,
   "metadata": {
    "collapsed": false
   },
   "outputs": [],
   "source": [
    "import glob"
   ]
  },
  {
   "cell_type": "code",
   "execution_count": 3,
   "metadata": {
    "collapsed": false
   },
   "outputs": [],
   "source": [
    "cats = ['biking', 'cooking','fashion','fitness', \n",
    "       'gardening', 'hiking',\n",
    "        'hunting_fishing', \n",
    "       'kids',  'pets', \n",
    "       'social_out',  'summer_fun',\n",
    "        'winter_sports']"
   ]
  },
  {
   "cell_type": "code",
   "execution_count": null,
   "metadata": {
    "collapsed": false
   },
   "outputs": [],
   "source": [
    "name_lst = sorted([im_f for im_f in glob.glob('../UserPhotos/marekduda13/*.jpg')])\n",
    "\n",
    "# for i, image in enumerate(name_lst):\n",
    "#     print cats[int(preds[i])]+': '+str(conf[i])\n",
    "#     pil_im = Image.open(image, 'r')\n",
    "#     imshow(np.asarray(pil_im))\n",
    "#     plt.show()\n",
    "    \n"
   ]
  },
  {
   "cell_type": "code",
   "execution_count": 18,
   "metadata": {
    "collapsed": false
   },
   "outputs": [
    {
     "data": {
      "text/plain": [
       "['../bin/jpgs/users/marekduda13/10413279_248086758726760_1089948153_n.jpg',\n",
       " '../bin/jpgs/users/marekduda13/10449002_1418577211756228_814915087_n.jpg',\n",
       " '../bin/jpgs/users/marekduda13/10518135_642645489163951_1935932735_n.jpg',\n",
       " '../bin/jpgs/users/marekduda13/10544215_1522944704587455_1553773837_n.jpg',\n",
       " '../bin/jpgs/users/marekduda13/10607891_337426483084352_1227332656_n.jpg',\n",
       " '../bin/jpgs/users/marekduda13/10894943_430359557135617_570945515_n.jpg',\n",
       " '../bin/jpgs/users/marekduda13/10895208_348195922054009_812397719_n.jpg',\n",
       " '../bin/jpgs/users/marekduda13/10895358_777826178975728_531762559_n.jpg',\n",
       " '../bin/jpgs/users/marekduda13/10932487_1619816168260450_1434562312_n.jpg',\n",
       " '../bin/jpgs/users/marekduda13/10979667_382990085220200_694178568_n.jpg',\n",
       " '../bin/jpgs/users/marekduda13/11142314_477518915736853_1758840261_n.jpg',\n",
       " '../bin/jpgs/users/marekduda13/11243535_1439849419650414_1681063571_n.jpg',\n",
       " '../bin/jpgs/users/marekduda13/11244979_1597308733885402_1816776498_n.jpg',\n",
       " '../bin/jpgs/users/marekduda13/11246893_889535131093151_1374428020_n.jpg',\n",
       " '../bin/jpgs/users/marekduda13/11264538_447580062070321_1431099743_n.jpg',\n",
       " '../bin/jpgs/users/marekduda13/11267255_986990371340636_1941672433_n.jpg',\n",
       " '../bin/jpgs/users/marekduda13/11282585_1465550080409167_574770869_n.jpg',\n",
       " '../bin/jpgs/users/marekduda13/11282861_385047601680646_1014217423_n.jpg',\n",
       " '../bin/jpgs/users/marekduda13/11283401_1630136833910733_1993414439_n.jpg',\n",
       " '../bin/jpgs/users/marekduda13/11287780_1003548586324320_1665219656_n.jpg',\n",
       " '../bin/jpgs/users/marekduda13/11296672_398532090335466_807272391_n.jpg',\n",
       " '../bin/jpgs/users/marekduda13/11312147_478779045624534_1229645292_n.jpg',\n",
       " '../bin/jpgs/users/marekduda13/11313427_1638613649733520_1930246614_n.jpg',\n",
       " '../bin/jpgs/users/marekduda13/11324228_442402115940689_1737414958_n.jpg',\n",
       " '../bin/jpgs/users/marekduda13/11325414_1456124841365242_1794473617_n.jpg',\n",
       " '../bin/jpgs/users/marekduda13/11326536_1449136032049458_755755395_n.jpg',\n",
       " '../bin/jpgs/users/marekduda13/11327120_766535043444726_1400438128_n.jpg',\n",
       " '../bin/jpgs/users/marekduda13/11330767_1400278990300641_1489673839_n.jpg',\n",
       " '../bin/jpgs/users/marekduda13/11333547_1612682672306447_1826899778_n.jpg',\n",
       " '../bin/jpgs/users/marekduda13/11333630_1495217360768374_1979604823_n.jpg',\n",
       " '../bin/jpgs/users/marekduda13/11334507_1451985691781741_1787092989_n.jpg',\n",
       " '../bin/jpgs/users/marekduda13/11334521_1456418904673310_2021081630_n.jpg',\n",
       " '../bin/jpgs/users/marekduda13/11334596_736333343141955_1099363218_n.jpg',\n",
       " '../bin/jpgs/users/marekduda13/11335064_996570520360778_1267300302_n.jpg',\n",
       " '../bin/jpgs/users/marekduda13/11350770_988137017887303_550296703_n.jpg',\n",
       " '../bin/jpgs/users/marekduda13/11350941_907377399324534_832446014_n.jpg',\n",
       " '../bin/jpgs/users/marekduda13/11351641_906193169419609_2012573584_n.jpg',\n",
       " '../bin/jpgs/users/marekduda13/11352074_1641786129401622_1440381183_n.jpg',\n",
       " '../bin/jpgs/users/marekduda13/11352422_391719747678297_380345008_n.jpg',\n",
       " '../bin/jpgs/users/marekduda13/11352926_451363765022079_1536016347_n.jpg',\n",
       " '../bin/jpgs/users/marekduda13/11356696_385864881599140_1717871918_n.jpg',\n",
       " '../bin/jpgs/users/marekduda13/11356745_399387173595141_2089394441_n.jpg',\n",
       " '../bin/jpgs/users/marekduda13/11358275_453253508189544_1636849646_n.jpg',\n",
       " '../bin/jpgs/users/marekduda13/11358946_1451639885149278_1655951227_n.jpg',\n",
       " '../bin/jpgs/users/marekduda13/11372256_871167106291173_838686911_n.jpg',\n",
       " '../bin/jpgs/users/marekduda13/11372300_1600423220243139_1866657200_n.jpg',\n",
       " '../bin/jpgs/users/marekduda13/11372479_1063364637026087_581868429_n.jpg',\n",
       " '../bin/jpgs/users/marekduda13/11372496_862321883816586_1869290478_n.jpg',\n",
       " '../bin/jpgs/users/marekduda13/11372545_823717467682182_663402096_n.jpg',\n",
       " '../bin/jpgs/users/marekduda13/11372549_842209609201785_645469951_n.jpg',\n",
       " '../bin/jpgs/users/marekduda13/11373532_718724791565281_1517730671_n.jpg',\n",
       " '../bin/jpgs/users/marekduda13/11374560_480244922139498_557170772_n.jpg',\n",
       " '../bin/jpgs/users/marekduda13/11375317_703452549766442_616343469_n.jpg',\n",
       " '../bin/jpgs/users/marekduda13/11376005_1645608335677029_759939862_n.jpg',\n",
       " '../bin/jpgs/users/marekduda13/11376189_629924237107308_1107442458_n.jpg',\n",
       " '../bin/jpgs/users/marekduda13/11377406_647474758685368_1186629346_n.jpg',\n",
       " '../bin/jpgs/users/marekduda13/11377578_844671745628904_694524893_n.jpg',\n",
       " '../bin/jpgs/users/marekduda13/11377769_699048296890190_1841982054_n.jpg',\n",
       " '../bin/jpgs/users/marekduda13/11377948_1410815415911645_1462065299_n.jpg',\n",
       " '../bin/jpgs/users/marekduda13/11378851_1067527486594849_1794813144_n.jpg',\n",
       " '../bin/jpgs/users/marekduda13/11378902_884744754895352_1673667263_n.jpg',\n",
       " '../bin/jpgs/users/marekduda13/11379154_872825939450705_2016684193_n.jpg',\n",
       " '../bin/jpgs/users/marekduda13/11379280_979559102078601_2137812260_n.jpg',\n",
       " '../bin/jpgs/users/marekduda13/11379875_1445408675776045_1029101860_n.jpg',\n",
       " '../bin/jpgs/users/marekduda13/11380078_1622116444702727_1748993387_n.jpg',\n",
       " '../bin/jpgs/users/marekduda13/11380820_699223560206111_5317132_n.jpg',\n",
       " '../bin/jpgs/users/marekduda13/11385180_804997532929583_423071157_n.jpg',\n",
       " '../bin/jpgs/users/marekduda13/11385548_665378506940174_1926693510_n.jpg',\n",
       " '../bin/jpgs/users/marekduda13/11410354_383759625144138_1762093765_n.jpg',\n",
       " '../bin/jpgs/users/marekduda13/11419231_896203753774858_2101467529_n.jpg',\n",
       " '../bin/jpgs/users/marekduda13/11422007_457458387761971_1974517537_n.jpg',\n",
       " '../bin/jpgs/users/marekduda13/11426203_851373281582729_403437673_n.jpg',\n",
       " '../bin/jpgs/users/marekduda13/1169784_541860489235677_756112359_n.jpg',\n",
       " '../bin/jpgs/users/marekduda13/1390239_455514314552539_791594502_n.jpg',\n",
       " '../bin/jpgs/users/marekduda13/1515062_420889174710560_56166763_n.jpg',\n",
       " '../bin/jpgs/users/marekduda13/1515516_516754075099142_1198869265_n.jpg',\n",
       " '../bin/jpgs/users/marekduda13/1515783_690735514281817_1514539545_n.jpg',\n",
       " '../bin/jpgs/users/marekduda13/1515825_571204429631201_1231897040_n.jpg',\n",
       " '../bin/jpgs/users/marekduda13/1515836_495268123907801_1064098828_n.jpg',\n",
       " '../bin/jpgs/users/marekduda13/1516145_716733818345044_71047304_n.jpg',\n",
       " '../bin/jpgs/users/marekduda13/1530849_656871434355859_788466778_n.jpg',\n",
       " '../bin/jpgs/users/marekduda13/1596982_717089678325250_843166275_n.jpg',\n",
       " '../bin/jpgs/users/marekduda13/1724562_273545402802983_2053853484_n.jpg',\n",
       " '../bin/jpgs/users/marekduda13/1725400_1419631174948227_503627788_n.jpg',\n",
       " '../bin/jpgs/users/marekduda13/1739959_1381593502109943_916255295_n.jpg',\n",
       " '../bin/jpgs/users/marekduda13/1740492_299510296872258_1904661572_n.jpg',\n",
       " '../bin/jpgs/users/marekduda13/1740978_817065538379184_469704992_n.jpg',\n",
       " '../bin/jpgs/users/marekduda13/1799787_1395177887410394_679990486_n.jpg',\n",
       " '../bin/jpgs/users/marekduda13/1889119_283794065102152_222320275_n.jpg',\n",
       " '../bin/jpgs/users/marekduda13/1971577_291488617665836_1516440680_n.jpg',\n",
       " '../bin/jpgs/users/marekduda13/917315_678789962171839_1205730668_n.jpg',\n",
       " '../bin/jpgs/users/marekduda13/917827_410005319134342_817319516_n.jpg',\n",
       " '../bin/jpgs/users/marekduda13/923747_737232269736188_1708856245_n.jpg',\n",
       " '../bin/jpgs/users/marekduda13/923951_742159475815666_1226807871_n.jpg',\n",
       " '../bin/jpgs/users/marekduda13/926318_408046032661321_1519635596_n.jpg',\n",
       " '../bin/jpgs/users/marekduda13/927922_1396835957263079_1412329124_n.jpg',\n",
       " '../bin/jpgs/users/marekduda13/928082_1439271772952699_62537614_n.jpg']"
      ]
     },
     "execution_count": 18,
     "metadata": {},
     "output_type": "execute_result"
    }
   ],
   "source": [
    "sorted([im_f for im_f in glob.glob('../bin/jpgs/users/marekduda13/*.jpg')])"
   ]
  },
  {
   "cell_type": "code",
   "execution_count": 7,
   "metadata": {
    "collapsed": false
   },
   "outputs": [],
   "source": [
    "preds = flp.predict(np.load('../bin/npys/users/marekduda13.npy'))"
   ]
  },
  {
   "cell_type": "code",
   "execution_count": 8,
   "metadata": {
    "collapsed": false
   },
   "outputs": [],
   "source": [
    "conf = flp.predict_proba(np.load('../bin/npys/users/marekduda13.npy')).max(axis=1)"
   ]
  },
  {
   "cell_type": "code",
   "execution_count": 14,
   "metadata": {
    "collapsed": false
   },
   "outputs": [
    {
     "data": {
      "text/plain": [
       "array([ 0.62835357,  0.99999994,  0.79094053,  0.94042376,  0.58619051,\n",
       "        0.99477084,  0.77037799,  0.99029582,  0.87350959,  0.99940172,\n",
       "        0.92830168,  0.99977796,  0.99999344,  0.99613522,  0.83597188,\n",
       "        0.97244683,  0.94318447,  0.8881794 ,  0.99911805,  0.99951323,\n",
       "        0.63484341,  0.94728609,  0.99755644,  0.99591935,  0.97973302,\n",
       "        0.59308272,  0.60437106,  0.99997991,  0.89591479,  0.50010423,\n",
       "        0.99800457,  0.99999169,  0.55723444,  0.95857907,  0.99996199,\n",
       "        0.94716419,  0.85936225,  0.54208592,  0.99913874,  0.99992184,\n",
       "        0.99998511,  0.96169751,  0.60281666,  0.96584638,  0.68457366,\n",
       "        0.51132777,  0.98738212,  0.8285349 ,  0.89122664,  0.74670075,\n",
       "        0.99997359,  0.99989616,  0.99815412,  0.7869936 ,  0.90787502,\n",
       "        0.98495711,  0.95798384,  0.96063645,  0.98103496,  0.93164365,\n",
       "        0.61395903,  0.50295675,  0.99235337,  0.99848213,  0.50018602,\n",
       "        0.99264461,  0.75409583,  0.99999977,  0.99996368,  0.69248827,\n",
       "        0.99944428,  0.84833657,  0.99848923,  0.98157266,  0.9615158 ,\n",
       "        0.93932065,  0.99577792,  0.45380599,  0.60076196,  0.96543561,\n",
       "        0.90652411,  0.87221798,  0.9912591 ,  0.75047022,  0.99600417,\n",
       "        0.99999569,  0.99538579,  0.99993789,  0.51034166,  0.69527909,\n",
       "        0.78868137,  0.72520851,  0.80567533,  0.99745347,  0.91930818,\n",
       "        0.52026218,  0.34190358])"
      ]
     },
     "execution_count": 14,
     "metadata": {},
     "output_type": "execute_result"
    }
   ],
   "source": [
    "flp.predict_proba(np.load('../bin/npys/users/marekduda13.npy')).max(axis=1)"
   ]
  },
  {
   "cell_type": "code",
   "execution_count": 10,
   "metadata": {
    "collapsed": false
   },
   "outputs": [
    {
     "data": {
      "text/plain": [
       "array([  3.37358953,   6.93968516,   5.3155038 ,  10.17416064,\n",
       "         7.85049086,  19.41899429,   4.42768313,   0.61280202,\n",
       "         4.06118703,  14.92433216,  16.08230621,   3.81926517])"
      ]
     },
     "execution_count": 10,
     "metadata": {},
     "output_type": "execute_result"
    }
   ],
   "source": [
    "flp.predict_proba(np.load('../bin/npys/users/marekduda13.npy')).sum(axis=0)"
   ]
  },
  {
   "cell_type": "code",
   "execution_count": 19,
   "metadata": {
    "collapsed": false
   },
   "outputs": [],
   "source": [
    "preds_c = [cats[int(pred)] for pred in preds]\n",
    "cat_dict = dict([(cat, preds_c.count(cat)) for cat in cats]) "
   ]
  },
  {
   "cell_type": "code",
   "execution_count": 20,
   "metadata": {
    "collapsed": true
   },
   "outputs": [],
   "source": [
    " with open(\"foo.txt\", \"a\") as f:\n",
    "     f.write(\"new line\\n\")"
   ]
  },
  {
   "cell_type": "code",
   "execution_count": null,
   "metadata": {
    "collapsed": false
   },
   "outputs": [],
   "source": [
    "flp.predict(np.load('senabrew_modded.npy'))"
   ]
  },
  {
   "cell_type": "code",
   "execution_count": null,
   "metadata": {
    "collapsed": false
   },
   "outputs": [],
   "source": [
    "mod_RF = RandomForestClassifier(n_estimators=200)"
   ]
  },
  {
   "cell_type": "code",
   "execution_count": null,
   "metadata": {
    "collapsed": false
   },
   "outputs": [],
   "source": [
    "score_lst = []\n",
    "score_lst.append(cross_val_score(mod_RF, X, y))\n",
    "print np.array(score_lst).mean()  "
   ]
  },
  {
   "cell_type": "code",
   "execution_count": null,
   "metadata": {
    "collapsed": false
   },
   "outputs": [],
   "source": [
    "mod_svm = SVC(kernel='linear')"
   ]
  },
  {
   "cell_type": "code",
   "execution_count": null,
   "metadata": {
    "collapsed": false
   },
   "outputs": [],
   "source": [
    "score_lst = []\n",
    "score_lst.append(cross_val_score(mod_svm, X, y))\n",
    "print np.array(score_lst).mean() "
   ]
  },
  {
   "cell_type": "code",
   "execution_count": null,
   "metadata": {
    "collapsed": false
   },
   "outputs": [],
   "source": [
    "score_lst = []\n",
    "score_lst.append(cross_val_score(mod_RF, fit_pca, y))\n",
    "print np.array(score_lst).mean()  "
   ]
  },
  {
   "cell_type": "code",
   "execution_count": null,
   "metadata": {
    "collapsed": true
   },
   "outputs": [],
   "source": [
    "mod_gbc = GradientBoostingClassifier()"
   ]
  },
  {
   "cell_type": "code",
   "execution_count": null,
   "metadata": {
    "collapsed": false
   },
   "outputs": [],
   "source": [
    "# score_lst = []\n",
    "# score_lst.append(cross_val_score(mod_gbc, X, y))\n",
    "# print np.array(score_lst).mean() "
   ]
  },
  {
   "cell_type": "code",
   "execution_count": null,
   "metadata": {
    "collapsed": false
   },
   "outputs": [],
   "source": [
    "score_lst = []\n",
    "score_lst.append(cross_val_score(mod_logit, X, y,scoring='mean_squared_error') )\n",
    "print np.array(score_lst).mean() "
   ]
  },
  {
   "cell_type": "code",
   "execution_count": null,
   "metadata": {
    "collapsed": false
   },
   "outputs": [],
   "source": [
    "score_lst = []\n",
    "score_lst.append(cross_val_score(mod_svm, X, y,scoring='mean_squared_error') )\n",
    "print np.array(score_lst).mean() "
   ]
  },
  {
   "cell_type": "code",
   "execution_count": 22,
   "metadata": {
    "collapsed": true
   },
   "outputs": [],
   "source": [
    "import csv"
   ]
  },
  {
   "cell_type": "code",
   "execution_count": 61,
   "metadata": {
    "collapsed": false
   },
   "outputs": [
    {
     "ename": "AttributeError",
     "evalue": "'list' object has no attribute 'flatten'",
     "output_type": "error",
     "traceback": [
      "\u001b[1;31m---------------------------------------------------------------------------\u001b[0m",
      "\u001b[1;31mAttributeError\u001b[0m                            Traceback (most recent call last)",
      "\u001b[1;32m<ipython-input-61-49e5167b9809>\u001b[0m in \u001b[0;36m<module>\u001b[1;34m()\u001b[0m\n\u001b[0;32m      1\u001b[0m \u001b[1;32mwith\u001b[0m \u001b[0mopen\u001b[0m\u001b[1;33m(\u001b[0m\u001b[1;34m'../bin/stats/users.csv'\u001b[0m\u001b[1;33m,\u001b[0m \u001b[1;34m'r'\u001b[0m\u001b[1;33m)\u001b[0m \u001b[1;32mas\u001b[0m \u001b[0mmyfile\u001b[0m\u001b[1;33m:\u001b[0m\u001b[1;33m\u001b[0m\u001b[0m\n\u001b[0;32m      2\u001b[0m     \u001b[0mcategories\u001b[0m \u001b[1;33m=\u001b[0m \u001b[0mcsv\u001b[0m\u001b[1;33m.\u001b[0m\u001b[0mreader\u001b[0m\u001b[1;33m(\u001b[0m\u001b[0mmyfile\u001b[0m\u001b[1;33m)\u001b[0m\u001b[1;33m\u001b[0m\u001b[0m\n\u001b[1;32m----> 3\u001b[1;33m     \u001b[0mxer\u001b[0m \u001b[1;33m=\u001b[0m \u001b[0mlist\u001b[0m\u001b[1;33m(\u001b[0m\u001b[0mcategories\u001b[0m\u001b[1;33m)\u001b[0m\u001b[1;33m.\u001b[0m\u001b[0mflatten\u001b[0m\u001b[1;33m(\u001b[0m\u001b[1;33m)\u001b[0m\u001b[1;33m\u001b[0m\u001b[0m\n\u001b[0m",
      "\u001b[1;31mAttributeError\u001b[0m: 'list' object has no attribute 'flatten'"
     ]
    }
   ],
   "source": [
    "with open('../bin/stats/users.csv', 'r') as myfile:\n",
    "    categories = csv.reader(myfile)\n",
    "    xer = list(categories).flatten()"
   ]
  },
  {
   "cell_type": "code",
   "execution_count": 60,
   "metadata": {
    "collapsed": false
   },
   "outputs": [
    {
     "data": {
      "text/plain": [
       "['senabrew']"
      ]
     },
     "execution_count": 60,
     "metadata": {},
     "output_type": "execute_result"
    }
   ],
   "source": [
    "xer"
   ]
  },
  {
   "cell_type": "code",
   "execution_count": 64,
   "metadata": {
    "collapsed": true
   },
   "outputs": [],
   "source": [
    "with open('../bin/stats/all_users.pkl') as m_un:\n",
    "    all_users = pickle.load(m_un)"
   ]
  },
  {
   "cell_type": "code",
   "execution_count": 65,
   "metadata": {
    "collapsed": false
   },
   "outputs": [
    {
     "data": {
      "text/plain": [
       "{'MYLES.OBRIEN', 'marekduda13', 'presleypizzo', 'senabrew', 'timmycwif'}"
      ]
     },
     "execution_count": 65,
     "metadata": {},
     "output_type": "execute_result"
    }
   ],
   "source": [
    "all_users"
   ]
  },
  {
   "cell_type": "code",
   "execution_count": null,
   "metadata": {
    "collapsed": true
   },
   "outputs": [],
   "source": []
  }
 ],
 "metadata": {
  "kernelspec": {
   "display_name": "Python 2",
   "language": "python",
   "name": "python2"
  },
  "language_info": {
   "codemirror_mode": {
    "name": "ipython",
    "version": 2
   },
   "file_extension": ".py",
   "mimetype": "text/x-python",
   "name": "python",
   "nbconvert_exporter": "python",
   "pygments_lexer": "ipython2",
   "version": "2.7.10"
  }
 },
 "nbformat": 4,
 "nbformat_minor": 0
}
