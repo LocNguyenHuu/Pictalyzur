{
 "cells": [
  {
   "cell_type": "code",
   "execution_count": 2,
   "metadata": {
    "collapsed": false
   },
   "outputs": [],
   "source": [
    "import json\n",
    "import os\n",
    "import time\n",
    "import requests\n",
    "from PIL import Image\n",
    "from StringIO import StringIO\n",
    "from requests.exceptions import ConnectionError\n",
    "\n",
    "def go(category, query_bases, mods, path):\n",
    "    \"\"\"Download full size images from Google image search.\n",
    "    Don't print or republish images without permission.\n",
    "    I used this to train a learning algorithm.\n",
    "    \"\"\"\n",
    "    for query_base in query_bases:\n",
    "        print query_base\n",
    "        for mod in mods:\n",
    "            query = query_base+mod\n",
    "            BASE_URL = 'https://ajax.googleapis.com/ajax/services/search/images?'\\\n",
    "                     'v=1.0&q=' + query + '&start=%d'\n",
    "\n",
    "            width = 256\n",
    "            height = 256      \n",
    "\n",
    "            BASE_PATH = os.path.join('../', path, category)\n",
    "\n",
    "            if not os.path.exists(BASE_PATH):\n",
    "                os.makedirs(BASE_PATH)\n",
    "\n",
    "            start = 0 # Google's start query string parameter for pagination.\n",
    "            while start < 60: # Google will only return a max of 56 results.\n",
    "                r = requests.get(BASE_URL % start)\n",
    "\n",
    "                for image_info in json.loads(r.text)['responseData']['results']:\n",
    "                    url = image_info['unescapedUrl']\n",
    "                    try:\n",
    "                        image_r = requests.get(url)\n",
    "                    except ConnectionError, e:\n",
    "                        print 'could not download %s' % url\n",
    "                        continue\n",
    "\n",
    "                    # Remove file-system path characters from name.\n",
    "                    title = image_info['titleNoFormatting'].replace('/', '').replace('\\\\', '')\n",
    "\n",
    "                    file = open(os.path.join(BASE_PATH, '%s.jpg') % title, 'w')\n",
    "                    if 'stock' in BASE_PATH:\n",
    "                        pass\n",
    "                    else:\n",
    "                        try:\n",
    "                            Image.open(StringIO(image_r.content)).resize((width, height), \n",
    "                                                                         Image.ANTIALIAS).save(file, 'JPEG')\n",
    "                        except IOError, e:\n",
    "                            os.remove(os.path.join(BASE_PATH, '%s.jpg') % title)\n",
    "                            continue\n",
    "                        finally:\n",
    "                            file.close()\n",
    "\n",
    "                start += 4 # 4 images per page.\n",
    "\n",
    "                time.sleep(1.5)\n"
   ]
  },
  {
   "cell_type": "code",
   "execution_count": 17,
   "metadata": {
    "collapsed": false
   },
   "outputs": [],
   "source": [
    "# go('hiking', ['hiking', 'camping', 'hiking trail', 'camping friends', 'hiking view',\n",
    "#               'day hiking', 'forest walk', 'trail running', 'camping yellowstone', \n",
    "#               'camping pisgah'],\n",
    "#    ['', 'flickr', 'instagram', 'tumblr'],'image_cats')"
   ]
  },
  {
   "cell_type": "code",
   "execution_count": 16,
   "metadata": {
    "collapsed": false
   },
   "outputs": [],
   "source": [
    "# go('fitness', ['running', 'gym', 'yoga class', 'spin class', 'exercise class',\n",
    "#                'climbing gym', 'workout friends', 'workout fitness', 'workout clothes', \n",
    "#                'workout chill', 'fitness swimming', 'jogging', 'half marathon', \n",
    "#                'tough mudder'],\n",
    "#    ['', 'flickr', 'instagram', 'tumblr'],'image_cats')"
   ]
  },
  {
   "cell_type": "code",
   "execution_count": 41,
   "metadata": {
    "collapsed": false
   },
   "outputs": [],
   "source": [
    "# go('biking', [ 'mountain bike downhill', 'mountain bike forest', 'bmx bike', \n",
    "#                'family mountain biking', 'family bike trip', 'unicycle', \n",
    "#                'north carolina road biking', 'bycicle riding', 'mountain biking', \n",
    "#                'road bike ride', 'friends biking', 'mountain biking trail'],\n",
    "#    ['', 'flickr', 'instagram', 'tumblr'],'image_cats')"
   ]
  },
  {
   "cell_type": "code",
   "execution_count": 32,
   "metadata": {
    "collapsed": false
   },
   "outputs": [],
   "source": [
    "# go('winter_sports', ['skiing', 'snowboarding', 'cross country skiing'],\n",
    "#    ['', 'flickr', 'instagram', 'tumblr'],'image_cats')"
   ]
  },
  {
   "cell_type": "code",
   "execution_count": 70,
   "metadata": {
    "collapsed": false
   },
   "outputs": [],
   "source": [
    "# go('winter_sports', ['snowball fight', 'family skiing', 'friends skiing', 'powder skiing',\n",
    "#                      'snowboard park', 'ski lift selfie', 'telemark skiing', \n",
    "#                      'ski school', 'ski lift selfie', 'snowmobile', 'backcountry skkiing'],\n",
    "#    ['', 'flickr', 'instagram', 'tumblr'],'image_cats')"
   ]
  },
  {
   "cell_type": "code",
   "execution_count": 64,
   "metadata": {
    "collapsed": false
   },
   "outputs": [],
   "source": [
    "# go('summer_fun', ['kayaking river', 'solo canoe', 'boundary waters canoe',\n",
    "#                   'river tubing', 'waterskiing', 'jet skiing', 'beach bar',\n",
    "#                   'swimming lake', 'fishing river', 'fishing lake',\n",
    "#                   'beach friends', 'swimming beach', 'fishing ocean', 'beach relaxing'],\n",
    "#    ['', 'flickr', 'instagram', 'tumblr'],'image_cats')"
   ]
  },
  {
   "cell_type": "code",
   "execution_count": 47,
   "metadata": {
    "collapsed": false
   },
   "outputs": [],
   "source": [
    "# go('cooking', ['home cooking breakfast', 'home cooking family', \n",
    "#                'home cooking friends', 'home cooking desert',\n",
    "#                'cooking', 'baking', 'dinner', 'meal', 'grill',\n",
    "#                'home cooking', 'home cooking lunch', 'home cooking dinner', \n",
    "#                'home cooking meal', 'home cooking grill'],\n",
    "#    ['', 'flickr', 'instagram', 'tumblr'],'image_cats')"
   ]
  },
  {
   "cell_type": "code",
   "execution_count": 55,
   "metadata": {
    "collapsed": false
   },
   "outputs": [],
   "source": [
    "# go('gardening', ['backyard garden', 'flower outside', 'planting vegetable', \n",
    "#                  'vegetable garden', 'flower garden', 'home grown', 'garden',\n",
    "#                  'herb garden', 'gardening tools outside', 'flower closeup', \n",
    "#                  'backyard orchard', ],\n",
    "#    ['', 'flickr', 'instagram', 'tumblr'],'image_cats')"
   ]
  },
  {
   "cell_type": "code",
   "execution_count": 7,
   "metadata": {
    "collapsed": false
   },
   "outputs": [],
   "source": [
    "# go('pets', ['dog', 'cat', 'dog park', 'pet at home', 'cat napping', 'dog walk', \n",
    "#             'cat house', 'dog fetch', 'cat laser', 'dog asleep', 'cat playing',\n",
    "#             'puppies', 'kitten', 'pot bellied pig', 'cat with toy'],\n",
    "#    ['', 'flickr', 'instagram', 'tumblr'],'image_cats')"
   ]
  },
  {
   "cell_type": "code",
   "execution_count": null,
   "metadata": {
    "collapsed": false
   },
   "outputs": [],
   "source": [
    "# go('social_cas', ['party friends', 'dinner party', 'potluck', 'game night', 'friends home', 'brunch friends'],\n",
    "#    ['', 'flickr', 'instagram', 'tumblr'],'image_cats')\n",
    "# go('social_cas', ['brunch crew', 'movie night', 'poker night home', 'family dinner', \n",
    "#                   'bowling friends', 'grilling friends', 'thanksgiving dinner family'],\n",
    "#    ['', 'flickr', 'instagram', 'tumblr'],'image_cats')"
   ]
  },
  {
   "cell_type": "code",
   "execution_count": 8,
   "metadata": {
    "collapsed": false
   },
   "outputs": [
    {
     "name": "stdout",
     "output_type": "stream",
     "text": [
      "sports bar people\n"
     ]
    },
    {
     "ename": "TypeError",
     "evalue": "'NoneType' object has no attribute '__getitem__'",
     "output_type": "error",
     "traceback": [
      "\u001b[0;31m---------------------------------------------------------------------------\u001b[0m",
      "\u001b[0;31mTypeError\u001b[0m                                 Traceback (most recent call last)",
      "\u001b[0;32m<ipython-input-8-5421869a5f41>\u001b[0m in \u001b[0;36m<module>\u001b[0;34m()\u001b[0m\n\u001b[1;32m      5\u001b[0m \u001b[0;34m\u001b[0m\u001b[0m\n\u001b[1;32m      6\u001b[0m go('social_out', ['sports bar people'],\n\u001b[0;32m----> 7\u001b[0;31m    ['', 'flickr', 'instagram', 'tumblr'],'image_cats')\n\u001b[0m",
      "\u001b[0;32m<ipython-input-2-1c6b197f46da>\u001b[0m in \u001b[0;36mgo\u001b[0;34m(category, query_bases, mods, path)\u001b[0m\n\u001b[1;32m     30\u001b[0m                 \u001b[0mr\u001b[0m \u001b[0;34m=\u001b[0m \u001b[0mrequests\u001b[0m\u001b[0;34m.\u001b[0m\u001b[0mget\u001b[0m\u001b[0;34m(\u001b[0m\u001b[0mBASE_URL\u001b[0m \u001b[0;34m%\u001b[0m \u001b[0mstart\u001b[0m\u001b[0;34m)\u001b[0m\u001b[0;34m\u001b[0m\u001b[0m\n\u001b[1;32m     31\u001b[0m \u001b[0;34m\u001b[0m\u001b[0m\n\u001b[0;32m---> 32\u001b[0;31m                 \u001b[0;32mfor\u001b[0m \u001b[0mimage_info\u001b[0m \u001b[0;32min\u001b[0m \u001b[0mjson\u001b[0m\u001b[0;34m.\u001b[0m\u001b[0mloads\u001b[0m\u001b[0;34m(\u001b[0m\u001b[0mr\u001b[0m\u001b[0;34m.\u001b[0m\u001b[0mtext\u001b[0m\u001b[0;34m)\u001b[0m\u001b[0;34m[\u001b[0m\u001b[0;34m'responseData'\u001b[0m\u001b[0;34m]\u001b[0m\u001b[0;34m[\u001b[0m\u001b[0;34m'results'\u001b[0m\u001b[0;34m]\u001b[0m\u001b[0;34m:\u001b[0m\u001b[0;34m\u001b[0m\u001b[0m\n\u001b[0m\u001b[1;32m     33\u001b[0m                     \u001b[0murl\u001b[0m \u001b[0;34m=\u001b[0m \u001b[0mimage_info\u001b[0m\u001b[0;34m[\u001b[0m\u001b[0;34m'unescapedUrl'\u001b[0m\u001b[0;34m]\u001b[0m\u001b[0;34m\u001b[0m\u001b[0m\n\u001b[1;32m     34\u001b[0m                     \u001b[0;32mtry\u001b[0m\u001b[0;34m:\u001b[0m\u001b[0;34m\u001b[0m\u001b[0m\n",
      "\u001b[0;31mTypeError\u001b[0m: 'NoneType' object has no attribute '__getitem__'"
     ]
    }
   ],
   "source": [
    "# go('social_out', ['dinner out with friends', 'bar night out', 'club night out', \n",
    "#'pub crawl night out', 'pub trivia night', 'club party', 'rave', \n",
    "#'concert friends', 'dancing club', 'beach party', 'tailgate party', 'nightclub', \n",
    "#'cigar bar', 'outdoor concert', 'billiards bar', 'local bar friends', 'local pub friends', 'beer bar'],\n",
    "\n",
    "go('social_out', ['sports bar people'],\n",
    "   ['', 'flickr', 'instagram', 'tumblr'],'image_cats')"
   ]
  },
  {
   "cell_type": "code",
   "execution_count": 9,
   "metadata": {
    "collapsed": false
   },
   "outputs": [],
   "source": [
    "# go('fashion', ['shoes', 'clothes', 'summer clothes', 'fall clothes', 'winter clothes','spring clothes', 'nail art'],\n",
    "#    ['', 'flickr', 'instagram', 'tumblr'],'image_cats')\n",
    "# go('fashion', ['shoe collection', 'cute top', 'summer dress', \n",
    "# go('fashion', ['fall hoody', 'winter jacket',\n",
    "#                'spring shirts', 'hair style', 'flip flops', 'new kicks', 'hipster outfit',\n",
    "#                'party clothes', 'date night outfit'],\n",
    "#    ['', 'flickr', 'instagram', 'tumblr'],'image_cats')"
   ]
  },
  {
   "cell_type": "code",
   "execution_count": 65,
   "metadata": {
    "collapsed": false
   },
   "outputs": [],
   "source": [
    "# go('hunting_fishing', ['duck hunting', 'bird hunting', 'deer hunting', \n",
    "#                        'ice fishing', 'fly fishing', 'bass fishing', \n",
    "#                        'salt water sport fishing', 'bow hunting', 'big game hunting', \n",
    "#                        'rainbow trout fishing', 'steelhead fishing'],\n",
    "#    ['', 'flickr', 'instagram', 'tumblr'],'image_cats')"
   ]
  },
  {
   "cell_type": "code",
   "execution_count": 12,
   "metadata": {
    "collapsed": false
   },
   "outputs": [
    {
     "name": "stdout",
     "output_type": "stream",
     "text": [
      "kid beach\n",
      "could not download http://duaneclaassensphotography.com/wp-content/uploads/2012/06/kid3.jpg\n",
      "kid halloween\n",
      "could not download http://halloweenkid.com/HalloweenKidWebCover.jpg\n",
      "baby smiling\n",
      "could not download http://www.cute-wallpaper.com/backgrounds/baby/A_beautiful_smiling_baby_wrapped_in_a_furry_green_blanket.jpg\n",
      "baby sleeping\n",
      "could not download http://meulek-ict.info/wp-content/uploads/2014/09/newborn-baby-boy-sleeping-tumblr-hd-i-took-my-baby-to-sxsw-and-lived-to-tell-about-it-sarah-beaulieu-awesome.jpg\n"
     ]
    }
   ],
   "source": [
    "# go('kids', ['pregnant mom', 'maternity leave photoshoot', 'paternity leave photoshoot', \n",
    "#                        'infant', 'sleeping infant', 'toddler', 'toddler walking', \n",
    "#                        'toddler playing', 'kid blocks', 'kid playing sports', \n",
    "#                        'kids playground', 'kid birthday party', 'baby smiling', 'baby sleeping'],\n",
    "#    ['', 'flickr', 'instagram', 'tumblr'],'image_cats')\n",
    "\n",
    "go('kids', ['kid beach', \n",
    "                       'kid halloween', 'baby smiling', 'baby sleeping'],\n",
    "   ['', 'flickr', 'instagram', 'tumblr'],'image_cats')"
   ]
  },
  {
   "cell_type": "code",
   "execution_count": null,
   "metadata": {
    "collapsed": true
   },
   "outputs": [],
   "source": []
  }
 ],
 "metadata": {
  "kernelspec": {
   "display_name": "Python 2",
   "language": "python",
   "name": "python2"
  },
  "language_info": {
   "codemirror_mode": {
    "name": "ipython",
    "version": 2
   },
   "file_extension": ".py",
   "mimetype": "text/x-python",
   "name": "python",
   "nbconvert_exporter": "python",
   "pygments_lexer": "ipython2",
   "version": "2.7.10"
  }
 },
 "nbformat": 4,
 "nbformat_minor": 0
}
