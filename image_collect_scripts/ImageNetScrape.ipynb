{
 "cells": [
  {
   "cell_type": "code",
   "execution_count": 26,
   "metadata": {
    "collapsed": true
   },
   "outputs": [],
   "source": [
    "import json\n",
    "import os\n",
    "import time\n",
    "import requests\n",
    "from PIL import Image\n",
    "from StringIO import StringIO\n",
    "from requests.exceptions import ConnectionError"
   ]
  },
  {
   "cell_type": "code",
   "execution_count": 27,
   "metadata": {
    "collapsed": false
   },
   "outputs": [],
   "source": [
    "def go(category, imnet_lst, path):\n",
    "    width = 256\n",
    "    height = 256      \n",
    "\n",
    "    BASE_PATH = os.path.join('../', path, category)\n",
    "\n",
    "    if not os.path.exists(BASE_PATH):\n",
    "        os.makedirs(BASE_PATH)\n",
    "    \n",
    "    for i, image in enumerate(imnet_lst):\n",
    "        \n",
    "        if i%500 == 1:\n",
    "            print category + ': ' + str(i)\n",
    "        \n",
    "        url = image\n",
    "        title = image.split('/')[-1]\n",
    "        \n",
    "        try:\n",
    "            image_r = requests.get(url, allow_redirects=False)\n",
    "        except ConnectionError, e:\n",
    "#             print 'could not download %s' % url\n",
    "            continue\n",
    "        \n",
    "        file = open(os.path.join(BASE_PATH, '%s') % title , 'w')\n",
    "\n",
    "        try:\n",
    "            Image.open(StringIO(image_r.content)).resize((width, height), Image.ANTIALIAS).save(file, 'JPEG')\n",
    "        except IOError, e:\n",
    "            os.remove(os.path.join(BASE_PATH, '%s') % title)\n",
    "    #         continue\n",
    "        finally:\n",
    "            file.close()\n",
    "\n",
    "    "
   ]
  },
  {
   "cell_type": "code",
   "execution_count": 4,
   "metadata": {
    "collapsed": false
   },
   "outputs": [],
   "source": [
    "# r = requests.get('http://image-net.org/api/text/imagenet.synset.geturls?wnid=n03792782')"
   ]
  },
  {
   "cell_type": "code",
   "execution_count": 5,
   "metadata": {
    "collapsed": false
   },
   "outputs": [],
   "source": [
    "# go('IMN_mountain_bike', r.text.split(), 'imnet_cats')"
   ]
  },
  {
   "cell_type": "code",
   "execution_count": 34,
   "metadata": {
    "collapsed": false
   },
   "outputs": [],
   "source": [
    "# go('IMN_mountain_bike', \n",
    "#    requests.get('http://image-net.org/api/text/imagenet.synset.geturls?wnid=n03792782').text.split(), \n",
    "#    'imnet_cats')"
   ]
  },
  {
   "cell_type": "code",
   "execution_count": 35,
   "metadata": {
    "collapsed": false
   },
   "outputs": [],
   "source": [
    "# go('IMN_bicycles', \n",
    "#    requests.get('http://www.image-net.org/api/text/imagenet.synset.geturls?wnid=n04126066').text.split(), \n",
    "#    'imnet_cats')"
   ]
  },
  {
   "cell_type": "code",
   "execution_count": null,
   "metadata": {
    "collapsed": false
   },
   "outputs": [],
   "source": [
    "# go('IMN_camping', \n",
    "#    requests.get('http://www.image-net.org/api/text/imagenet.synset.geturls?wnid=n08518171').text.split(), \n",
    "#    'imnet_cats')"
   ]
  },
  {
   "cell_type": "code",
   "execution_count": null,
   "metadata": {
    "collapsed": false
   },
   "outputs": [],
   "source": [
    "# go('IMN_kitchen_help', \n",
    "#    requests.get('http://www.image-net.org/api/text/imagenet.synset.geturls?wnid=n10237464').text.split(), \n",
    "#    'imnet_cats')"
   ]
  },
  {
   "cell_type": "code",
   "execution_count": 19,
   "metadata": {
    "collapsed": false
   },
   "outputs": [],
   "source": [
    "# go('IMN_dinner', \n",
    "#    requests.get('http://www.image-net.org/api/text/imagenet.synset.geturls?wnid=n07575726').text.split(), \n",
    "#    'imnet_cats')"
   ]
  },
  {
   "cell_type": "code",
   "execution_count": null,
   "metadata": {
    "collapsed": false
   },
   "outputs": [],
   "source": [
    "# go('IMN_lunch', \n",
    "#    requests.get('http://www.image-net.org/api/text/imagenet.synset.geturls?wnid=n07575076').text.split(), \n",
    "#    'imnet_cats')"
   ]
  },
  {
   "cell_type": "code",
   "execution_count": 32,
   "metadata": {
    "collapsed": false
   },
   "outputs": [],
   "source": [
    "# go('IMN_clothes', \n",
    "#    requests.get('http://www.image-net.org/api/text/imagenet.synset.geturls?wnid=n04335693').text.split(), \n",
    "#    'imnet_cats')"
   ]
  },
  {
   "cell_type": "code",
   "execution_count": 33,
   "metadata": {
    "collapsed": false
   },
   "outputs": [],
   "source": [
    "# go('IMN_apparel', \n",
    "#    requests.get('http://www.image-net.org/api/text/imagenet.synset.geturls?wnid=n04335693').text.split(), \n",
    "#    'imnet_cats')"
   ]
  },
  {
   "cell_type": "code",
   "execution_count": null,
   "metadata": {
    "collapsed": false
   },
   "outputs": [],
   "source": [
    "# go('IMN_child', \n",
    "#    requests.get('http://image-net.org/api/text/imagenet.synset.geturls?wnid=n09918248').text.split(), \n",
    "#    'imnet_cats')"
   ]
  },
  {
   "cell_type": "code",
   "execution_count": null,
   "metadata": {
    "collapsed": false
   },
   "outputs": [],
   "source": [
    "# go('IMN_baby', \n",
    "#    requests.get('http://image-net.org/api/text/imagenet.synset.geturls?wnid=n10353016').text.split(), \n",
    "#    'imnet_cats')"
   ]
  },
  {
   "cell_type": "code",
   "execution_count": null,
   "metadata": {
    "collapsed": false
   },
   "outputs": [],
   "source": [
    "# go('IMN_ski', \n",
    "#    requests.get('http://image-net.org/api/text/imagenet.synset.geturls?wnid=n09436444').text.split(), \n",
    "#    'imnet_cats')"
   ]
  },
  {
   "cell_type": "code",
   "execution_count": null,
   "metadata": {
    "collapsed": false
   },
   "outputs": [],
   "source": [
    "# go('IMN_ski_lodge', \n",
    "#    requests.get('http://image-net.org/api/text/imagenet.synset.geturls?wnid=n04229737').text.split(), \n",
    "#    'imnet_cats')"
   ]
  },
  {
   "cell_type": "code",
   "execution_count": null,
   "metadata": {
    "collapsed": false
   },
   "outputs": [],
   "source": [
    "# go('IMN_domestic_cats', \n",
    "#    requests.get('http://image-net.org/api/text/imagenet.synset.geturls?wnid=n02121808').text.split(), \n",
    "#    'imnet_cats')"
   ]
  },
  {
   "cell_type": "code",
   "execution_count": null,
   "metadata": {
    "collapsed": true
   },
   "outputs": [],
   "source": [
    "go('IMN_domestic_dogs', \n",
    "   requests.get('http://image-net.org/api/text/imagenet.synset.geturls?wnid=n02084071').text.split(), \n",
    "   'imnet_cats')"
   ]
  },
  {
   "cell_type": "code",
   "execution_count": null,
   "metadata": {
    "collapsed": true
   },
   "outputs": [],
   "source": []
  }
 ],
 "metadata": {
  "kernelspec": {
   "display_name": "Python 2",
   "language": "python",
   "name": "python2"
  },
  "language_info": {
   "codemirror_mode": {
    "name": "ipython",
    "version": 2
   },
   "file_extension": ".py",
   "mimetype": "text/x-python",
   "name": "python",
   "nbconvert_exporter": "python",
   "pygments_lexer": "ipython2",
   "version": "2.7.10"
  }
 },
 "nbformat": 4,
 "nbformat_minor": 0
}
