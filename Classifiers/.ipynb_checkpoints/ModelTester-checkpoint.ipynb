{
 "cells": [
  {
   "cell_type": "code",
   "execution_count": 1,
   "metadata": {
    "collapsed": true
   },
   "outputs": [],
   "source": [
    "from sklearn.svm import SVC\n",
    "from sklearn.linear_model import LogisticRegression\n",
    "from sklearn.ensemble import RandomForestClassifier\n",
    "from sklearn.ensemble import GradientBoostingClassifier\n",
    "from sklearn.cross_validation import cross_val_score\n",
    "from sklearn.grid_search import GridSearchCV\n",
    "import numpy as np\n",
    "from sklearn.cross_validation import train_test_split, cross_val_score\n",
    "import cPickle as pickle"
   ]
  },
  {
   "cell_type": "code",
   "execution_count": 2,
   "metadata": {
    "collapsed": false
   },
   "outputs": [],
   "source": [
    "np_lst = pd.read_csv('np_lst.txt', header=None)[0].values"
   ]
  },
  {
   "cell_type": "code",
   "execution_count": 3,
   "metadata": {
    "collapsed": false
   },
   "outputs": [
    {
     "data": {
      "text/plain": [
       "array(['biking_a.npy', 'biking_b.npy', 'cooking_a.npy', 'cooking_b.npy',\n",
       "       'fashion_a.npy', 'fashion_b.npy', 'fitness_a.npy', 'fitness_b.npy',\n",
       "       'gardening_a.npy', 'gardening_b.npy', 'hiking_a.npy',\n",
       "       'hiking_b.npy', 'hunting_fishing_a.npy', 'hunting_fishing_b.npy',\n",
       "       'kids_a.npy', 'kids_b.npy', 'pets_a.npy', 'pets_b.npy',\n",
       "       'social_out_a.npy', 'social_out_b.npy', 'summer_fun_a.npy',\n",
       "       'summer_fun_b.npy', 'winter_sports_a.npy', 'winter_sports_b.npy'], dtype=object)"
      ]
     },
     "execution_count": 3,
     "metadata": {},
     "output_type": "execute_result"
    }
   ],
   "source": [
    "np_lst"
   ]
  },
  {
   "cell_type": "code",
   "execution_count": 4,
   "metadata": {
    "collapsed": false
   },
   "outputs": [],
   "source": [
    "np_path = '../numpiis/'\n",
    "feat_array = []\n",
    "for i, feats in enumerate(np_lst):\n",
    "    if '_a' in feats:\n",
    "        feat_array.append(np.load(np_path+feats))\n",
    "    else:\n",
    "        feat_array[-1] = np.vstack([feat_array[-1], np.load(np_path+feats)])"
   ]
  },
  {
   "cell_type": "code",
   "execution_count": 5,
   "metadata": {
    "collapsed": false
   },
   "outputs": [
    {
     "data": {
      "text/plain": [
       "1097"
      ]
     },
     "execution_count": 5,
     "metadata": {},
     "output_type": "execute_result"
    }
   ],
   "source": [
    "len(feat_array[0])"
   ]
  },
  {
   "cell_type": "code",
   "execution_count": 6,
   "metadata": {
    "collapsed": false
   },
   "outputs": [],
   "source": [
    "label_lst = []\n",
    "for i, feats in enumerate(feat_array):\n",
    "    label_lst.append(i*np.ones(len(feats)))\n",
    "\n",
    "labels = np.hstack(label_lst)"
   ]
  },
  {
   "cell_type": "code",
   "execution_count": 7,
   "metadata": {
    "collapsed": false
   },
   "outputs": [],
   "source": [
    "features = np.vstack(feat_array)"
   ]
  },
  {
   "cell_type": "code",
   "execution_count": 8,
   "metadata": {
    "collapsed": false
   },
   "outputs": [
    {
     "data": {
      "text/plain": [
       "(14454, 4096)"
      ]
     },
     "execution_count": 8,
     "metadata": {},
     "output_type": "execute_result"
    }
   ],
   "source": [
    "features.shape"
   ]
  },
  {
   "cell_type": "code",
   "execution_count": 9,
   "metadata": {
    "collapsed": false
   },
   "outputs": [
    {
     "data": {
      "text/plain": [
       "(14454,)"
      ]
     },
     "execution_count": 9,
     "metadata": {},
     "output_type": "execute_result"
    }
   ],
   "source": [
    "labels.shape"
   ]
  },
  {
   "cell_type": "code",
   "execution_count": 10,
   "metadata": {
    "collapsed": true
   },
   "outputs": [],
   "source": [
    "X = features\n",
    "y = labels"
   ]
  },
  {
   "cell_type": "code",
   "execution_count": 11,
   "metadata": {
    "collapsed": true
   },
   "outputs": [],
   "source": [
    "X_train, X_test, y_train, y_test = train_test_split(X, y, train_size=0.8)"
   ]
  },
  {
   "cell_type": "code",
   "execution_count": 12,
   "metadata": {
    "collapsed": true
   },
   "outputs": [],
   "source": [
    "mod_logit = LogisticRegression()"
   ]
  },
  {
   "cell_type": "code",
   "execution_count": 13,
   "metadata": {
    "collapsed": false
   },
   "outputs": [
    {
     "name": "stdout",
     "output_type": "stream",
     "text": [
      "0.738338062202\n"
     ]
    }
   ],
   "source": [
    "score_lst = []\n",
    "score_lst.append(cross_val_score(mod_logit, X, y))\n",
    "print np.array(score_lst).mean()    "
   ]
  },
  {
   "cell_type": "code",
   "execution_count": 15,
   "metadata": {
    "collapsed": false
   },
   "outputs": [],
   "source": [
    "fitted_logit = mod_logit.fit(X, y)"
   ]
  },
  {
   "cell_type": "code",
   "execution_count": 22,
   "metadata": {
    "collapsed": false
   },
   "outputs": [],
   "source": [
    "with open(\"mod_logit.pkl\", 'w') as f:\n",
    "    pickle.dump(fitted_logit, f)"
   ]
  },
  {
   "cell_type": "code",
   "execution_count": 2,
   "metadata": {
    "collapsed": false
   },
   "outputs": [],
   "source": [
    "with open('mod_logit.pkl') as m_un:\n",
    "    flp = pickle.load(m_un)"
   ]
  },
  {
   "cell_type": "code",
   "execution_count": 17,
   "metadata": {
    "collapsed": false
   },
   "outputs": [],
   "source": [
    "import glob"
   ]
  },
  {
   "cell_type": "code",
   "execution_count": 25,
   "metadata": {
    "collapsed": false
   },
   "outputs": [
    {
     "data": {
      "text/plain": [
       "['../../inta_profs/senabrew/10809569_1591613731069198_1747942771_n.jpg',\n",
       " '../../inta_profs/senabrew/1515206_450193738462719_392394103_n.jpg',\n",
       " '../../inta_profs/senabrew/10903531_374655802715359_1812297684_n.jpg',\n",
       " '../../inta_profs/senabrew/11356624_868743673179499_1701999421_n.jpg',\n",
       " '../../inta_profs/senabrew/10864667_531767890260210_553267219_n.jpg',\n",
       " '../../inta_profs/senabrew/10890972_930681363623550_74412645_n.jpg',\n",
       " '../../inta_profs/senabrew/11821261_915166868566880_1291860655_n.jpg',\n",
       " '../../inta_profs/senabrew/11176464_1621789881386984_1935513843_n.jpg',\n",
       " '../../inta_profs/senabrew/10598296_1578985549008153_1710632587_n.jpg',\n",
       " '../../inta_profs/senabrew/11093028_1569517979989832_2124069736_n.jpg',\n",
       " '../../inta_profs/senabrew/11189929_941177499260100_2123889714_n.jpg',\n",
       " '../../inta_profs/senabrew/10919369_587158071417993_432068778_n.jpg',\n",
       " '../../inta_profs/senabrew/11007952_1417584945209852_1016569980_n.jpg',\n",
       " '../../inta_profs/senabrew/10611244_510995049102857_925135978_n.jpg',\n",
       " '../../inta_profs/senabrew/11262768_429697153891602_1286654004_n.jpg',\n",
       " '../../inta_profs/senabrew/10817983_1527442354174082_1598704421_n.jpg',\n",
       " '../../inta_profs/senabrew/11186959_449530778539391_1639392112_n.jpg',\n",
       " '../../inta_profs/senabrew/11376038_392913917563181_108845017_n.jpg',\n",
       " '../../inta_profs/senabrew/10175115_598882023576242_1069951670_n.jpg',\n",
       " '../../inta_profs/senabrew/11373880_596529750486080_485334594_n.jpg',\n",
       " '../../inta_profs/senabrew/10848366_845258572161140_963886411_n.jpg',\n",
       " '../../inta_profs/senabrew/11375257_1465098323796968_1257523983_n.jpg',\n",
       " '../../inta_profs/senabrew/11325411_851376964951169_1696661383_n.jpg',\n",
       " '../../inta_profs/senabrew/926528_1387792144863003_215848738_n.jpg',\n",
       " '../../inta_profs/senabrew/1971408_1556092214627585_315064792_n.jpg',\n",
       " '../../inta_profs/senabrew/10731983_868124916610507_284026142_n.jpg',\n",
       " '../../inta_profs/senabrew/11208050_851276828280639_1855862871_n.jpg',\n",
       " '../../inta_profs/senabrew/10881803_1577303125821027_1986649352_n.jpg',\n",
       " '../../inta_profs/senabrew/11809602_880495775331290_2001226584_n.jpg',\n",
       " '../../inta_profs/senabrew/11356631_861896447224159_684239544_n.jpg',\n",
       " '../../inta_profs/senabrew/11116963_925251720860650_2025751996_n.jpg',\n",
       " '../../inta_profs/senabrew/11931236_444790419057592_1566661300_n.jpg',\n",
       " '../../inta_profs/senabrew/11007996_822588724484037_1997593160_n.jpg',\n",
       " '../../inta_profs/senabrew/10932079_355364951324628_647381711_n.jpg',\n",
       " '../../inta_profs/senabrew/11312093_688763994586598_1258373926_n.jpg',\n",
       " '../../inta_profs/senabrew/11352895_827598693984350_1449068257_n.jpg',\n",
       " '../../inta_profs/senabrew/11032814_658169137626289_1648708285_n.jpg',\n",
       " '../../inta_profs/senabrew/11906405_1662249877327436_1566318586_n.jpg',\n",
       " '../../inta_profs/senabrew/11917745_152855765051586_1038516858_n.jpg',\n",
       " '../../inta_profs/senabrew/10890683_761771897210378_916457376_n.jpg',\n",
       " '../../inta_profs/senabrew/11263656_479834188832568_438790494_n.jpg',\n",
       " '../../inta_profs/senabrew/10899393_1516930595247209_1424000722_n.jpg',\n",
       " '../../inta_profs/senabrew/10852555_513529112122642_1375733516_n.jpg',\n",
       " '../../inta_profs/senabrew/11326272_899365310156571_1054540293_n.jpg',\n",
       " '../../inta_profs/senabrew/10919231_394881147355681_1148843461_n.jpg',\n",
       " '../../inta_profs/senabrew/11372241_852630518153178_54356019_n.jpg',\n",
       " '../../inta_profs/senabrew/10724909_980562415310194_1203044063_n.jpg',\n",
       " '../../inta_profs/senabrew/11032934_826188057461421_227825421_n.jpg',\n",
       " '../../inta_profs/senabrew/11326621_828036073953360_1554761988_n.jpg',\n",
       " '../../inta_profs/senabrew/11856655_889519201137189_1367007317_n.jpg',\n",
       " '../../inta_profs/senabrew/11349149_817967118334373_2046051697_n.jpg',\n",
       " '../../inta_profs/senabrew/11378741_795613590545673_2058133137_n.jpg',\n",
       " '../../inta_profs/senabrew/10848263_1376282129336019_1028462710_n.jpg',\n",
       " '../../inta_profs/senabrew/11311185_438605799652729_1599422568_n.jpg',\n",
       " '../../inta_profs/senabrew/11055882_1423761267918370_2070609122_n.jpg',\n",
       " '../../inta_profs/senabrew/11313625_929337263774856_933582140_n.jpg',\n",
       " '../../inta_profs/senabrew/10724050_126755870998191_242320420_n.jpg',\n",
       " '../../inta_profs/senabrew/11111372_834178193297381_950051158_n.jpg',\n",
       " '../../inta_profs/senabrew/11190255_847454565323590_1591998465_n.jpg',\n",
       " '../../inta_profs/senabrew/10919252_1600710996816610_1909124849_n.jpg',\n",
       " '../../inta_profs/senabrew/10995200_798580560191876_1772341631_n.jpg',\n",
       " '../../inta_profs/senabrew/10860182_301041086773544_1955105038_n.jpg',\n",
       " '../../inta_profs/senabrew/11032788_445997325552052_858712129_n.jpg',\n",
       " '../../inta_profs/senabrew/11427368_1600636590204906_1867138766_n.jpg',\n",
       " '../../inta_profs/senabrew/11098565_1588812254726823_348801522_n.jpg',\n",
       " '../../inta_profs/senabrew/10817547_736595463093052_516191007_n.jpg',\n",
       " '../../inta_profs/senabrew/11374234_1586776101594769_1388305379_n.jpg',\n",
       " '../../inta_profs/senabrew/11327045_789497687836662_845326557_n.jpg',\n",
       " '../../inta_profs/senabrew/11420809_1131122090231530_1525347823_n.jpg',\n",
       " '../../inta_profs/senabrew/11055550_639891782822569_1278997199_n.jpg',\n",
       " '../../inta_profs/senabrew/924458_1383017311999167_153164854_n.jpg',\n",
       " '../../inta_profs/senabrew/11055945_428663540631304_2123246617_n.jpg']"
      ]
     },
     "execution_count": 25,
     "metadata": {},
     "output_type": "execute_result"
    }
   ],
   "source": [
    "[im_f for im_f in glob.glob('../../inta_profs/senabrew/*.jpg')]"
   ]
  },
  {
   "cell_type": "code",
   "execution_count": 4,
   "metadata": {
    "collapsed": false
   },
   "outputs": [
    {
     "data": {
      "text/plain": [
       "array([  6.,   0.,   3.,  11.,   6.,   3.,   5.,   4.,   1.,  11.,   4.,\n",
       "         1.,   9.,   5.,   5.,   9.,   2.,   5.,   9.,   3.,  11.,   1.,\n",
       "         0.,   6.,   9.,   0.,   6.,   2.,   2.,   6.,   0.,   1.,  10.,\n",
       "         2.,   1.,   6.,   2.,   1.,   2.,   5.,   6.,   9.,   4.,   9.,\n",
       "        10.,   1.,  10.,   1.,   4.,   3.,   1.,   8.,  11.,   9.,   1.,\n",
       "         9.,   5.,   4.,   8.,   5.,   6.,   1.,  11.,   9.,   8.,   3.,\n",
       "         5.,   0.,   2.,   0.,   8.,   9.])"
      ]
     },
     "execution_count": 4,
     "metadata": {},
     "output_type": "execute_result"
    }
   ],
   "source": [
    "flp.predict(np.load('senabrew.npy'))"
   ]
  },
  {
   "cell_type": "code",
   "execution_count": 6,
   "metadata": {
    "collapsed": false
   },
   "outputs": [
    {
     "data": {
      "text/plain": [
       "array([  0.,   1.,   5.,   9.,   6.,   9.,   0.,  10.,   5.,   8.])"
      ]
     },
     "execution_count": 6,
     "metadata": {},
     "output_type": "execute_result"
    }
   ],
   "source": [
    "flp.predict(np.load('senabrew2.npy'))"
   ]
  },
  {
   "cell_type": "code",
   "execution_count": 8,
   "metadata": {
    "collapsed": false
   },
   "outputs": [
    {
     "data": {
      "text/plain": [
       "array([ 11.,   5.,   5.,   3.,   1.,   2.,   1.,   2.,   9.,   3.,   9.])"
      ]
     },
     "execution_count": 8,
     "metadata": {},
     "output_type": "execute_result"
    }
   ],
   "source": [
    "flp.predict(np.load('senabrew_modded.npy'))"
   ]
  },
  {
   "cell_type": "code",
   "execution_count": 52,
   "metadata": {
    "collapsed": false
   },
   "outputs": [],
   "source": [
    "mod_RF = RandomForestClassifier(n_estimators=200)"
   ]
  },
  {
   "cell_type": "code",
   "execution_count": 53,
   "metadata": {
    "collapsed": false
   },
   "outputs": [
    {
     "name": "stdout",
     "output_type": "stream",
     "text": [
      "0.722909874312\n"
     ]
    }
   ],
   "source": [
    "score_lst = []\n",
    "score_lst.append(cross_val_score(mod_RF, X, y))\n",
    "print np.array(score_lst).mean()  "
   ]
  },
  {
   "cell_type": "code",
   "execution_count": 54,
   "metadata": {
    "collapsed": false
   },
   "outputs": [],
   "source": [
    "mod_svm = SVC(kernel='linear')"
   ]
  },
  {
   "cell_type": "code",
   "execution_count": 55,
   "metadata": {
    "collapsed": false
   },
   "outputs": [
    {
     "name": "stdout",
     "output_type": "stream",
     "text": [
      "0.752865007745\n"
     ]
    }
   ],
   "source": [
    "score_lst = []\n",
    "score_lst.append(cross_val_score(mod_svm, X, y))\n",
    "print np.array(score_lst).mean() "
   ]
  },
  {
   "cell_type": "code",
   "execution_count": 59,
   "metadata": {
    "collapsed": true
   },
   "outputs": [],
   "source": [
    "mod_gbc = GradientBoostingClassifier()"
   ]
  },
  {
   "cell_type": "code",
   "execution_count": 2,
   "metadata": {
    "collapsed": false
   },
   "outputs": [],
   "source": [
    "# score_lst = []\n",
    "# score_lst.append(cross_val_score(mod_gbc, X, y))\n",
    "# print np.array(score_lst).mean() "
   ]
  },
  {
   "cell_type": "code",
   "execution_count": 56,
   "metadata": {
    "collapsed": false
   },
   "outputs": [
    {
     "name": "stdout",
     "output_type": "stream",
     "text": [
      "-5.69939780715\n"
     ]
    }
   ],
   "source": [
    "score_lst = []\n",
    "score_lst.append(cross_val_score(mod_logit, X, y,scoring='mean_squared_error') )\n",
    "print np.array(score_lst).mean() "
   ]
  },
  {
   "cell_type": "code",
   "execution_count": 57,
   "metadata": {
    "collapsed": false
   },
   "outputs": [
    {
     "name": "stdout",
     "output_type": "stream",
     "text": [
      "-5.58323709763\n"
     ]
    }
   ],
   "source": [
    "score_lst = []\n",
    "score_lst.append(cross_val_score(mod_svm, X, y,scoring='mean_squared_error') )\n",
    "print np.array(score_lst).mean() "
   ]
  }
 ],
 "metadata": {
  "kernelspec": {
   "display_name": "Python 2",
   "language": "python",
   "name": "python2"
  },
  "language_info": {
   "codemirror_mode": {
    "name": "ipython",
    "version": 2
   },
   "file_extension": ".py",
   "mimetype": "text/x-python",
   "name": "python",
   "nbconvert_exporter": "python",
   "pygments_lexer": "ipython2",
   "version": "2.7.10"
  }
 },
 "nbformat": 4,
 "nbformat_minor": 0
}
